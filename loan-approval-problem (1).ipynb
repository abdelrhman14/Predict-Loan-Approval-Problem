{
 "cells": [
  {
   "cell_type": "markdown",
   "id": "9c8c8511",
   "metadata": {
    "id": "1d661b99",
    "papermill": {
     "duration": 0.056443,
     "end_time": "2021-11-18T12:43:36.822454",
     "exception": false,
     "start_time": "2021-11-18T12:43:36.766011",
     "status": "completed"
    },
    "tags": []
   },
   "source": [
    "# Project Name: Predict Loan Approval Problem\n",
    "\n",
    "---\n",
    "\n"
   ]
  },
  {
   "cell_type": "markdown",
   "id": "a818d7fe",
   "metadata": {
    "id": "06fc2b5e",
    "papermill": {
     "duration": 0.054905,
     "end_time": "2021-11-18T12:43:36.933274",
     "exception": false,
     "start_time": "2021-11-18T12:43:36.878369",
     "status": "completed"
    },
    "tags": []
   },
   "source": [
    "In the beginning I will talk about the Introduction to Possibility of loan approval \n",
    "Second, we will explain what it is Data Preprocessing and why you use it ? and what are the Data Preprocessing steps?\n",
    "Finally, we will talk about the algorithms used in the project"
   ]
  },
  {
   "cell_type": "markdown",
   "id": "36cb6ac5",
   "metadata": {
    "id": "05580b58",
    "papermill": {
     "duration": 0.056143,
     "end_time": "2021-11-18T12:43:37.092311",
     "exception": false,
     "start_time": "2021-11-18T12:43:37.036168",
     "status": "completed"
    },
    "tags": []
   },
   "source": [
    "1- An introduction to the possibility of accepting or rejecting the loan\n",
    "\n"
   ]
  },
  {
   "cell_type": "markdown",
   "id": "f556fe2b",
   "metadata": {
    "id": "495ac2e9",
    "papermill": {
     "duration": 0.058287,
     "end_time": "2021-11-18T12:43:37.206894",
     "exception": false,
     "start_time": "2021-11-18T12:43:37.148607",
     "status": "completed"
    },
    "tags": []
   },
   "source": [
    " A financing company that deals in all real estate loans. They have a presence in all urban, semi-urban and rural areas. The customer first applies for a housing loan after the company verifies the customer's eligibility for the loan."
   ]
  },
  {
   "cell_type": "markdown",
   "id": "7007079d",
   "metadata": {
    "id": "afa4f22a",
    "papermill": {
     "duration": 0.0573,
     "end_time": "2021-11-18T12:43:37.322084",
     "exception": false,
     "start_time": "2021-11-18T12:43:37.264784",
     "status": "completed"
    },
    "tags": []
   },
   "source": [
    "**What is mean Data Pre-processing ? and why you use it?**"
   ]
  },
  {
   "cell_type": "markdown",
   "id": "257258ed",
   "metadata": {
    "id": "9bf5b52b",
    "papermill": {
     "duration": 0.057405,
     "end_time": "2021-11-18T12:43:37.436579",
     "exception": false,
     "start_time": "2021-11-18T12:43:37.379174",
     "status": "completed"
    },
    "tags": []
   },
   "source": [
    "Data Pre-processing it is one of the most important steps data mining.The way you collect data is often controlled incorrectly, result out of range for example: income= -100 , or impossible data for example: gender:male -> prednant:yes , or missing data. Analyzing data that has not been examined carefully can lead to misleading or illogical results. If a lot of data is irrelevant or unorganized. discovered during training take large amount of processing time so we uesd data preprocessing"
   ]
  },
  {
   "cell_type": "markdown",
   "id": "8c4d6df4",
   "metadata": {
    "id": "82cb8aae",
    "papermill": {
     "duration": 0.057502,
     "end_time": "2021-11-18T12:43:37.551475",
     "exception": false,
     "start_time": "2021-11-18T12:43:37.493973",
     "status": "completed"
    },
    "tags": []
   },
   "source": [
    "**What are the Data Pre-processing steps?**"
   ]
  },
  {
   "cell_type": "markdown",
   "id": "ca27d3f3",
   "metadata": {
    "id": "6350a858",
    "papermill": {
     "duration": 0.057141,
     "end_time": "2021-11-18T12:43:37.665751",
     "exception": false,
     "start_time": "2021-11-18T12:43:37.608610",
     "status": "completed"
    },
    "tags": []
   },
   "source": [
    "1-Importing The Libraries\n",
    "\n",
    "2-Importing The Dataset\n",
    "\n",
    "3-Missing Data\n",
    "\n",
    "4-Encoding categorical data\n",
    "\n",
    "5-Feature Selection\n",
    "\n",
    "6-Feature Scaling\n",
    "\n",
    "7-Splitting the dataset into the Training set and Test set"
   ]
  },
  {
   "cell_type": "markdown",
   "id": "5211bdd5",
   "metadata": {
    "id": "b0cd55a7",
    "papermill": {
     "duration": 0.056646,
     "end_time": "2021-11-18T12:43:37.779818",
     "exception": false,
     "start_time": "2021-11-18T12:43:37.723172",
     "status": "completed"
    },
    "tags": []
   },
   "source": [
    "There are other things that you should know :-\n",
    "\n",
    "Variance in data\n",
    "Correlation in data"
   ]
  },
  {
   "cell_type": "markdown",
   "id": "1b83a964",
   "metadata": {
    "id": "0767fdfa",
    "papermill": {
     "duration": 0.056993,
     "end_time": "2021-11-18T12:43:37.894269",
     "exception": false,
     "start_time": "2021-11-18T12:43:37.837276",
     "status": "completed"
    },
    "tags": []
   },
   "source": [
    "**The Algorithms used in the Project : -**\n",
    "\n",
    "\n",
    "\n",
    "\n",
    "1.   Logistic Regression\n",
    "2.   Support Vector Machine [ SVM ]\n",
    "3.   K Nearest Neighbors [ KNN ]\n",
    "4.   Decision Tree\n",
    "5.   Random Force\n",
    "5.   Naive Bayes\n"
   ]
  },
  {
   "cell_type": "markdown",
   "id": "73bfb880",
   "metadata": {
    "id": "bd8b537c",
    "papermill": {
     "duration": 0.056047,
     "end_time": "2021-11-18T12:43:38.007300",
     "exception": false,
     "start_time": "2021-11-18T12:43:37.951253",
     "status": "completed"
    },
    "tags": []
   },
   "source": [
    "**Evaluation Classification Methods Performance : - [ Metrics Model ]**\n",
    "1. Confusion Matrix\n",
    "2. Classification Report\n",
    "  - Recall \n",
    "  - Precision\n",
    "  - F1 Score\n",
    "3. ROC Curve && AUC [ Area Under The Curve ]"
   ]
  },
  {
   "cell_type": "markdown",
   "id": "609dd4c3",
   "metadata": {
    "id": "7f50b9a2",
    "papermill": {
     "duration": 0.06349,
     "end_time": "2021-11-18T12:43:38.143793",
     "exception": false,
     "start_time": "2021-11-18T12:43:38.080303",
     "status": "completed"
    },
    "tags": []
   },
   "source": [
    "**Compare all the algorithm of the AUC**"
   ]
  },
  {
   "cell_type": "markdown",
   "id": "b8d238df",
   "metadata": {
    "id": "8f1a3379",
    "papermill": {
     "duration": 0.055278,
     "end_time": "2021-11-18T12:43:38.257850",
     "exception": false,
     "start_time": "2021-11-18T12:43:38.202572",
     "status": "completed"
    },
    "tags": []
   },
   "source": [
    "\n",
    "\n",
    "> Importing The Libraries\n",
    "\n"
   ]
  },
  {
   "cell_type": "code",
   "execution_count": 1,
   "id": "be8e2d58",
   "metadata": {
    "execution": {
     "iopub.execute_input": "2021-11-18T12:43:38.375437Z",
     "iopub.status.busy": "2021-11-18T12:43:38.374590Z",
     "iopub.status.idle": "2021-11-18T12:43:39.295512Z",
     "shell.execute_reply": "2021-11-18T12:43:39.295890Z",
     "shell.execute_reply.started": "2021-11-18T12:41:54.536549Z"
    },
    "id": "ca95addb",
    "papermill": {
     "duration": 0.98029,
     "end_time": "2021-11-18T12:43:39.296117",
     "exception": false,
     "start_time": "2021-11-18T12:43:38.315827",
     "status": "completed"
    },
    "tags": []
   },
   "outputs": [],
   "source": [
    "import numpy as np\n",
    "import pandas as pd\n",
    "import seaborn as sns\n",
    "import matplotlib.pyplot as plt"
   ]
  },
  {
   "cell_type": "markdown",
   "id": "06ab4428",
   "metadata": {
    "id": "e8dc92e4",
    "papermill": {
     "duration": 0.057293,
     "end_time": "2021-11-18T12:43:39.411402",
     "exception": false,
     "start_time": "2021-11-18T12:43:39.354109",
     "status": "completed"
    },
    "tags": []
   },
   "source": [
    "\n",
    "\n",
    "> Importing The Dataset\n",
    "\n"
   ]
  },
  {
   "cell_type": "code",
   "execution_count": 2,
   "id": "9bb51b1a",
   "metadata": {
    "execution": {
     "iopub.execute_input": "2021-11-18T12:43:39.532518Z",
     "iopub.status.busy": "2021-11-18T12:43:39.531927Z",
     "iopub.status.idle": "2021-11-18T12:43:39.571134Z",
     "shell.execute_reply": "2021-11-18T12:43:39.570615Z",
     "shell.execute_reply.started": "2021-11-18T12:41:55.439872Z"
    },
    "id": "895c0c68",
    "outputId": "7c8fbcc4-1fcc-4daf-e2a4-1cae5e5a09c9",
    "papermill": {
     "duration": 0.102707,
     "end_time": "2021-11-18T12:43:39.571287",
     "exception": false,
     "start_time": "2021-11-18T12:43:39.468580",
     "status": "completed"
    },
    "tags": []
   },
   "outputs": [
    {
     "name": "stdout",
     "output_type": "stream",
     "text": [
      "dataset :\n",
      "     Loan_ID Gender Married Dependents     Education Self_Employed  \\\n",
      "0  LP001002   Male      No          0      Graduate            No   \n",
      "1  LP001003   Male     Yes          1      Graduate            No   \n",
      "2  LP001005   Male     Yes          0      Graduate           Yes   \n",
      "3  LP001006   Male     Yes          0  Not Graduate            No   \n",
      "4  LP001008   Male      No          0      Graduate            No   \n",
      "\n",
      "   ApplicantIncome  CoapplicantIncome  LoanAmount  Loan_Amount_Term  \\\n",
      "0             5849                0.0         NaN             360.0   \n",
      "1             4583             1508.0       128.0             360.0   \n",
      "2             3000                0.0        66.0             360.0   \n",
      "3             2583             2358.0       120.0             360.0   \n",
      "4             6000                0.0       141.0             360.0   \n",
      "\n",
      "   Credit_History Property_Area Loan_Status  \n",
      "0             1.0         Urban           Y  \n",
      "1             1.0         Rural           N  \n",
      "2             1.0         Urban           Y  \n",
      "3             1.0         Urban           Y  \n",
      "4             1.0         Urban           Y  \n",
      "-----------------------------------------------------------------------\n",
      "shape : (614, 13)\n",
      "-----------------------------------------------------------------------\n",
      "columns in dataset\n",
      "-----------------------------------------------------------------------\n",
      "Loan_ID\n",
      "Gender\n",
      "Married\n",
      "Dependents\n",
      "Education\n",
      "Self_Employed\n",
      "ApplicantIncome\n",
      "CoapplicantIncome\n",
      "LoanAmount\n",
      "Loan_Amount_Term\n",
      "Credit_History\n",
      "Property_Area\n",
      "Loan_Status\n"
     ]
    }
   ],
   "source": [
    "dataset = pd.read_csv('../input/predict-loan-approval-problem/train_u6lujuX_CVtuZ9i.csv')\n",
    "print('dataset :\\n',dataset.head(5))\n",
    "print('-----------------------------------------------------------------------')\n",
    "print('shape :',dataset.shape)\n",
    "print('-----------------------------------------------------------------------')\n",
    "print('columns in dataset')\n",
    "print('-----------------------------------------------------------------------')\n",
    "for cols in dataset.columns:\n",
    "    print(cols)"
   ]
  },
  {
   "cell_type": "markdown",
   "id": "71672079",
   "metadata": {
    "id": "674c3871",
    "papermill": {
     "duration": 0.057929,
     "end_time": "2021-11-18T12:43:39.688329",
     "exception": false,
     "start_time": "2021-11-18T12:43:39.630400",
     "status": "completed"
    },
    "tags": []
   },
   "source": [
    "\n",
    "\n",
    "> Drop Unless Columns\n",
    "\n"
   ]
  },
  {
   "cell_type": "code",
   "execution_count": 3,
   "id": "04ffc466",
   "metadata": {
    "execution": {
     "iopub.execute_input": "2021-11-18T12:43:39.823498Z",
     "iopub.status.busy": "2021-11-18T12:43:39.822842Z",
     "iopub.status.idle": "2021-11-18T12:43:39.826653Z",
     "shell.execute_reply": "2021-11-18T12:43:39.826097Z",
     "shell.execute_reply.started": "2021-11-18T12:41:55.477237Z"
    },
    "id": "1b4abca0",
    "outputId": "7b497194-07a0-481c-9656-e9668d0ec7fe",
    "papermill": {
     "duration": 0.08034,
     "end_time": "2021-11-18T12:43:39.826792",
     "exception": false,
     "start_time": "2021-11-18T12:43:39.746452",
     "status": "completed"
    },
    "tags": []
   },
   "outputs": [
    {
     "name": "stdout",
     "output_type": "stream",
     "text": [
      "dataset :\n",
      "   Gender Married Dependents     Education Self_Employed  ApplicantIncome  \\\n",
      "0   Male      No          0      Graduate            No             5849   \n",
      "1   Male     Yes          1      Graduate            No             4583   \n",
      "2   Male     Yes          0      Graduate           Yes             3000   \n",
      "3   Male     Yes          0  Not Graduate            No             2583   \n",
      "4   Male      No          0      Graduate            No             6000   \n",
      "\n",
      "   CoapplicantIncome  LoanAmount  Loan_Amount_Term  Credit_History  \\\n",
      "0                0.0         NaN             360.0             1.0   \n",
      "1             1508.0       128.0             360.0             1.0   \n",
      "2                0.0        66.0             360.0             1.0   \n",
      "3             2358.0       120.0             360.0             1.0   \n",
      "4                0.0       141.0             360.0             1.0   \n",
      "\n",
      "  Property_Area Loan_Status  \n",
      "0         Urban           Y  \n",
      "1         Rural           N  \n",
      "2         Urban           Y  \n",
      "3         Urban           Y  \n",
      "4         Urban           Y  \n"
     ]
    }
   ],
   "source": [
    "dataset.drop(['Loan_ID'],axis=1,inplace=True)\n",
    "print('dataset :\\n',dataset.head(5))"
   ]
  },
  {
   "cell_type": "markdown",
   "id": "6f6d5119",
   "metadata": {
    "id": "a4b9290f",
    "papermill": {
     "duration": 0.089188,
     "end_time": "2021-11-18T12:43:40.004789",
     "exception": false,
     "start_time": "2021-11-18T12:43:39.915601",
     "status": "completed"
    },
    "tags": []
   },
   "source": [
    "\n",
    "\n",
    "> Simple look on the data\n",
    "\n"
   ]
  },
  {
   "cell_type": "markdown",
   "id": "f97fd22a",
   "metadata": {
    "id": "27b9f6c6",
    "papermill": {
     "duration": 0.058509,
     "end_time": "2021-11-18T12:43:40.137379",
     "exception": false,
     "start_time": "2021-11-18T12:43:40.078870",
     "status": "completed"
    },
    "tags": []
   },
   "source": [
    ">  First of all, we must work to show and understand the data correctly before entering it into the machine learning model"
   ]
  },
  {
   "cell_type": "code",
   "execution_count": 4,
   "id": "0251785f",
   "metadata": {
    "execution": {
     "iopub.execute_input": "2021-11-18T12:43:40.276715Z",
     "iopub.status.busy": "2021-11-18T12:43:40.276115Z",
     "iopub.status.idle": "2021-11-18T12:43:40.280532Z",
     "shell.execute_reply": "2021-11-18T12:43:40.280993Z",
     "shell.execute_reply.started": "2021-11-18T12:41:55.499088Z"
    },
    "id": "8b29c1d9",
    "outputId": "954cde2e-5fb1-4154-eec8-d624a9d02f56",
    "papermill": {
     "duration": 0.085685,
     "end_time": "2021-11-18T12:43:40.281132",
     "exception": false,
     "start_time": "2021-11-18T12:43:40.195447",
     "status": "completed"
    },
    "tags": []
   },
   "outputs": [
    {
     "name": "stdout",
     "output_type": "stream",
     "text": [
      "success data : \n",
      "   Gender Married Dependents     Education Self_Employed  ApplicantIncome  \\\n",
      "0   Male      No          0      Graduate            No             5849   \n",
      "2   Male     Yes          0      Graduate           Yes             3000   \n",
      "3   Male     Yes          0  Not Graduate            No             2583   \n",
      "4   Male      No          0      Graduate            No             6000   \n",
      "5   Male     Yes          2      Graduate           Yes             5417   \n",
      "\n",
      "   CoapplicantIncome  LoanAmount  Loan_Amount_Term  Credit_History  \\\n",
      "0                0.0         NaN             360.0             1.0   \n",
      "2                0.0        66.0             360.0             1.0   \n",
      "3             2358.0       120.0             360.0             1.0   \n",
      "4                0.0       141.0             360.0             1.0   \n",
      "5             4196.0       267.0             360.0             1.0   \n",
      "\n",
      "  Property_Area Loan_Status  \n",
      "0         Urban           Y  \n",
      "2         Urban           Y  \n",
      "3         Urban           Y  \n",
      "4         Urban           Y  \n",
      "5         Urban           Y  \n",
      "-----------------------------------------------------------------------\n",
      "rejected data \n",
      "     Gender Married Dependents Education Self_Employed  ApplicantIncome  \\\n",
      "1     Male     Yes          1  Graduate            No             4583   \n",
      "7     Male     Yes         3+  Graduate            No             3036   \n",
      "9     Male     Yes          1  Graduate            No            12841   \n",
      "13    Male      No          0  Graduate            No             1853   \n",
      "17  Female      No          0  Graduate            No             3510   \n",
      "\n",
      "    CoapplicantIncome  LoanAmount  Loan_Amount_Term  Credit_History  \\\n",
      "1              1508.0       128.0             360.0             1.0   \n",
      "7              2504.0       158.0             360.0             0.0   \n",
      "9             10968.0       349.0             360.0             1.0   \n",
      "13             2840.0       114.0             360.0             1.0   \n",
      "17                0.0        76.0             360.0             0.0   \n",
      "\n",
      "   Property_Area Loan_Status  \n",
      "1          Rural           N  \n",
      "7      Semiurban           N  \n",
      "9      Semiurban           N  \n",
      "13         Rural           N  \n",
      "17         Urban           N  \n"
     ]
    }
   ],
   "source": [
    "success = dataset[dataset['Loan_Status'].isin(['Y'])]\n",
    "rejected = dataset[dataset['Loan_Status'].isin(['N'])]\n",
    "print('success data : \\n',success.head(5))\n",
    "print('-----------------------------------------------------------------------')\n",
    "print('rejected data \\n',rejected.head(5))"
   ]
  },
  {
   "cell_type": "code",
   "execution_count": 5,
   "id": "46d6a78c",
   "metadata": {
    "execution": {
     "iopub.execute_input": "2021-11-18T12:43:40.402788Z",
     "iopub.status.busy": "2021-11-18T12:43:40.401163Z",
     "iopub.status.idle": "2021-11-18T12:43:40.583840Z",
     "shell.execute_reply": "2021-11-18T12:43:40.584428Z",
     "shell.execute_reply.started": "2021-11-18T12:41:55.525845Z"
    },
    "id": "1c2e7ad2",
    "outputId": "939bd17e-9a2e-4551-8eda-92542d3719be",
    "papermill": {
     "duration": 0.245703,
     "end_time": "2021-11-18T12:43:40.584572",
     "exception": false,
     "start_time": "2021-11-18T12:43:40.338869",
     "status": "completed"
    },
    "tags": []
   },
   "outputs": [
    {
     "name": "stdout",
     "output_type": "stream",
     "text": [
      "success : 422\n",
      "rejected : 192\n"
     ]
    },
    {
     "name": "stderr",
     "output_type": "stream",
     "text": [
      "/opt/conda/lib/python3.7/site-packages/seaborn/_decorators.py:43: FutureWarning: Pass the following variable as a keyword arg: x. From version 0.12, the only valid positional argument will be `data`, and passing other arguments without an explicit keyword will result in an error or misinterpretation.\n",
      "  FutureWarning\n"
     ]
    },
    {
     "data": {
      "image/png": "[encoded data removed]",
      "text/plain": [
       "<Figure size 432x288 with 1 Axes>"
      ]
     },
     "metadata": {
      "needs_background": "light"
     },
     "output_type": "display_data"
    }
   ],
   "source": [
    "split = dataset.Loan_Status\n",
    "success , rejected = split.value_counts()\n",
    "print('success :',success)\n",
    "print('rejected :',rejected)\n",
    "ax = sns.countplot(split,data=dataset,label='counts')  "
   ]
  },
  {
   "cell_type": "code",
   "execution_count": 6,
   "id": "863ac915",
   "metadata": {
    "execution": {
     "iopub.execute_input": "2021-11-18T12:43:40.706046Z",
     "iopub.status.busy": "2021-11-18T12:43:40.705423Z",
     "iopub.status.idle": "2021-11-18T12:43:40.997940Z",
     "shell.execute_reply": "2021-11-18T12:43:40.998524Z",
     "shell.execute_reply.started": "2021-11-18T12:41:55.761459Z"
    },
    "id": "40b594c5",
    "outputId": "ee58c6ac-3b2f-4654-d4ae-8e7cd8d5eeb7",
    "papermill": {
     "duration": 0.355092,
     "end_time": "2021-11-18T12:43:40.998695",
     "exception": false,
     "start_time": "2021-11-18T12:43:40.643603",
     "status": "completed"
    },
    "tags": []
   },
   "outputs": [
    {
     "name": "stdout",
     "output_type": "stream",
     "text": [
      "male : 489\n",
      "female : 112\n"
     ]
    },
    {
     "name": "stderr",
     "output_type": "stream",
     "text": [
      "/opt/conda/lib/python3.7/site-packages/seaborn/_decorators.py:43: FutureWarning: Pass the following variable as a keyword arg: x. From version 0.12, the only valid positional argument will be `data`, and passing other arguments without an explicit keyword will result in an error or misinterpretation.\n",
      "  FutureWarning\n"
     ]
    },
    {
     "data": {
      "image/png": "[encoded data removed]",
      "text/plain": [
       "<Figure size 432x288 with 1 Axes>"
      ]
     },
     "metadata": {
      "needs_background": "light"
     },
     "output_type": "display_data"
    }
   ],
   "source": [
    "g = dataset.Gender\n",
    "male,female = g.value_counts()\n",
    "print('male :',male)\n",
    "print('female :',female)\n",
    "ax = sns.countplot(g,data=dataset,label='counts') "
   ]
  },
  {
   "cell_type": "code",
   "execution_count": 7,
   "id": "2950929d",
   "metadata": {
    "execution": {
     "iopub.execute_input": "2021-11-18T12:43:41.127505Z",
     "iopub.status.busy": "2021-11-18T12:43:41.127026Z",
     "iopub.status.idle": "2021-11-18T12:43:41.291922Z",
     "shell.execute_reply": "2021-11-18T12:43:41.291528Z",
     "shell.execute_reply.started": "2021-11-18T12:41:55.946573Z"
    },
    "id": "5d1fa866",
    "outputId": "050cb493-7a1d-4e26-b7b0-1ebb9572b53b",
    "papermill": {
     "duration": 0.228891,
     "end_time": "2021-11-18T12:43:41.292031",
     "exception": false,
     "start_time": "2021-11-18T12:43:41.063140",
     "status": "completed"
    },
    "tags": []
   },
   "outputs": [
    {
     "data": {
      "image/png": "[encoded data removed]",
      "text/plain": [
       "<Figure size 576x360 with 1 Axes>"
      ]
     },
     "metadata": {
      "needs_background": "light"
     },
     "output_type": "display_data"
    }
   ],
   "source": [
    "plt.figure(figsize=(8,5))\n",
    "ax = sns.countplot(x='Gender',hue='Loan_Status',data=dataset)\n",
    "plt.show()\n",
    "\n",
    "## It is clear that this feature does not have a specific pattern\n",
    "## Not Pattern"
   ]
  },
  {
   "cell_type": "code",
   "execution_count": 8,
   "id": "6306b9bc",
   "metadata": {
    "execution": {
     "iopub.execute_input": "2021-11-18T12:43:41.421677Z",
     "iopub.status.busy": "2021-11-18T12:43:41.419265Z",
     "iopub.status.idle": "2021-11-18T12:43:41.576117Z",
     "shell.execute_reply": "2021-11-18T12:43:41.575469Z",
     "shell.execute_reply.started": "2021-11-18T12:41:56.261450Z"
    },
    "id": "72963702",
    "outputId": "b46af7ca-944a-4b08-f54c-2eae98d03c46",
    "papermill": {
     "duration": 0.223252,
     "end_time": "2021-11-18T12:43:41.576276",
     "exception": false,
     "start_time": "2021-11-18T12:43:41.353024",
     "status": "completed"
    },
    "tags": []
   },
   "outputs": [
    {
     "name": "stdout",
     "output_type": "stream",
     "text": [
      "married : 398\n",
      "not_married : 213\n"
     ]
    },
    {
     "name": "stderr",
     "output_type": "stream",
     "text": [
      "/opt/conda/lib/python3.7/site-packages/seaborn/_decorators.py:43: FutureWarning: Pass the following variable as a keyword arg: x. From version 0.12, the only valid positional argument will be `data`, and passing other arguments without an explicit keyword will result in an error or misinterpretation.\n",
      "  FutureWarning\n"
     ]
    },
    {
     "data": {
      "image/png": "[encoded data removed]",
      "text/plain": [
       "<Figure size 432x288 with 1 Axes>"
      ]
     },
     "metadata": {
      "needs_background": "light"
     },
     "output_type": "display_data"
    }
   ],
   "source": [
    "m = dataset.Married\n",
    "married,not_married = m.value_counts()\n",
    "print('married :', married)\n",
    "print('not_married :', not_married)\n",
    "ax = sns.countplot(m,data= dataset,label='counts')"
   ]
  },
  {
   "cell_type": "code",
   "execution_count": 9,
   "id": "de66ce86",
   "metadata": {
    "execution": {
     "iopub.execute_input": "2021-11-18T12:43:41.772105Z",
     "iopub.status.busy": "2021-11-18T12:43:41.766846Z",
     "iopub.status.idle": "2021-11-18T12:43:41.921836Z",
     "shell.execute_reply": "2021-11-18T12:43:41.921283Z",
     "shell.execute_reply.started": "2021-11-18T12:41:56.465322Z"
    },
    "id": "6039590e",
    "outputId": "8581d819-0649-4bce-d565-8c23579ea4b0",
    "papermill": {
     "duration": 0.251296,
     "end_time": "2021-11-18T12:43:41.921951",
     "exception": false,
     "start_time": "2021-11-18T12:43:41.670655",
     "status": "completed"
    },
    "tags": []
   },
   "outputs": [
    {
     "data": {
      "image/png": "[encoded data removed]",
      "text/plain": [
       "<Figure size 576x360 with 1 Axes>"
      ]
     },
     "metadata": {
      "needs_background": "light"
     },
     "output_type": "display_data"
    }
   ],
   "source": [
    "plt.figure(figsize=(8,5))\n",
    "ax = sns.countplot(x='Married',hue='Loan_Status',data=dataset)\n",
    "plt.show()\n",
    "\n",
    "# Good Feature "
   ]
  },
  {
   "cell_type": "code",
   "execution_count": 10,
   "id": "89e84d45",
   "metadata": {
    "execution": {
     "iopub.execute_input": "2021-11-18T12:43:42.060027Z",
     "iopub.status.busy": "2021-11-18T12:43:42.056622Z",
     "iopub.status.idle": "2021-11-18T12:43:42.194866Z",
     "shell.execute_reply": "2021-11-18T12:43:42.195504Z",
     "shell.execute_reply.started": "2021-11-18T12:41:56.667004Z"
    },
    "id": "c64476fc",
    "outputId": "4a8ad6d2-94b3-41a4-9239-35c53ee80e05",
    "papermill": {
     "duration": 0.212235,
     "end_time": "2021-11-18T12:43:42.195815",
     "exception": false,
     "start_time": "2021-11-18T12:43:41.983580",
     "status": "completed"
    },
    "tags": []
   },
   "outputs": [
    {
     "name": "stdout",
     "output_type": "stream",
     "text": [
      "education : 480\n",
      "not_education : 134\n"
     ]
    },
    {
     "name": "stderr",
     "output_type": "stream",
     "text": [
      "/opt/conda/lib/python3.7/site-packages/seaborn/_decorators.py:43: FutureWarning: Pass the following variable as a keyword arg: x. From version 0.12, the only valid positional argument will be `data`, and passing other arguments without an explicit keyword will result in an error or misinterpretation.\n",
      "  FutureWarning\n"
     ]
    },
    {
     "data": {
      "image/png": "[encoded data removed]",
      "text/plain": [
       "<Figure size 432x288 with 1 Axes>"
      ]
     },
     "metadata": {
      "needs_background": "light"
     },
     "output_type": "display_data"
    }
   ],
   "source": [
    "ed = dataset.Education\n",
    "education,not_education = ed.value_counts()\n",
    "print('education :', education)\n",
    "print('not_education :', not_education)\n",
    "ax = sns.countplot(ed,data= dataset,label='counts')"
   ]
  },
  {
   "cell_type": "code",
   "execution_count": 11,
   "id": "6c5ff453",
   "metadata": {
    "execution": {
     "iopub.execute_input": "2021-11-18T12:43:42.399908Z",
     "iopub.status.busy": "2021-11-18T12:43:42.399009Z",
     "iopub.status.idle": "2021-11-18T12:43:42.517861Z",
     "shell.execute_reply": "2021-11-18T12:43:42.518496Z",
     "shell.execute_reply.started": "2021-11-18T12:41:56.856382Z"
    },
    "id": "1671c5cc",
    "outputId": "2422f4cf-3871-4741-b41a-6146818b07b5",
    "papermill": {
     "duration": 0.224799,
     "end_time": "2021-11-18T12:43:42.518685",
     "exception": false,
     "start_time": "2021-11-18T12:43:42.293886",
     "status": "completed"
    },
    "tags": []
   },
   "outputs": [
    {
     "data": {
      "image/png": "[encoded data removed]",
      "text/plain": [
       "<Figure size 576x360 with 1 Axes>"
      ]
     },
     "metadata": {
      "needs_background": "light"
     },
     "output_type": "display_data"
    }
   ],
   "source": [
    "plt.figure(figsize=(8,5))\n",
    "ax = sns.countplot(x='Education',hue='Loan_Status',data=dataset)\n",
    "plt.show()\n",
    "\n",
    "# Not Pattern"
   ]
  },
  {
   "cell_type": "code",
   "execution_count": 12,
   "id": "0021ba7c",
   "metadata": {
    "execution": {
     "iopub.execute_input": "2021-11-18T12:43:42.722092Z",
     "iopub.status.busy": "2021-11-18T12:43:42.721588Z",
     "iopub.status.idle": "2021-11-18T12:43:42.902766Z",
     "shell.execute_reply": "2021-11-18T12:43:42.901938Z",
     "shell.execute_reply.started": "2021-11-18T12:41:57.052848Z"
    },
    "id": "9f7d90ea",
    "outputId": "b5f6929e-bd54-4196-bd55-3c45b1517a7c",
    "papermill": {
     "duration": 0.281645,
     "end_time": "2021-11-18T12:43:42.902881",
     "exception": false,
     "start_time": "2021-11-18T12:43:42.621236",
     "status": "completed"
    },
    "tags": []
   },
   "outputs": [
    {
     "data": {
      "image/png": "[encoded data removed]",
      "text/plain": [
       "<Figure size 1080x360 with 1 Axes>"
      ]
     },
     "metadata": {
      "needs_background": "light"
     },
     "output_type": "display_data"
    }
   ],
   "source": [
    "plt.figure(figsize=(15,5))\n",
    "sns.countplot(x='Credit_History', hue='Loan_Status', data=dataset);\n",
    "\n",
    "# important feature"
   ]
  },
  {
   "cell_type": "code",
   "execution_count": 13,
   "id": "e9738e52",
   "metadata": {
    "execution": {
     "iopub.execute_input": "2021-11-18T12:43:43.041052Z",
     "iopub.status.busy": "2021-11-18T12:43:43.040167Z",
     "iopub.status.idle": "2021-11-18T12:43:43.246361Z",
     "shell.execute_reply": "2021-11-18T12:43:43.245650Z",
     "shell.execute_reply.started": "2021-11-18T12:41:57.296183Z"
    },
    "id": "cc826c0b",
    "outputId": "6ade8cf3-4ec3-44a6-bdc9-14b8d9a1f114",
    "papermill": {
     "duration": 0.278353,
     "end_time": "2021-11-18T12:43:43.246476",
     "exception": false,
     "start_time": "2021-11-18T12:43:42.968123",
     "status": "completed"
    },
    "tags": []
   },
   "outputs": [
    {
     "data": {
      "text/plain": [
       "<AxesSubplot:xlabel='Property_Area', ylabel='count'>"
      ]
     },
     "execution_count": 13,
     "metadata": {},
     "output_type": "execute_result"
    },
    {
     "data": {
      "image/png": "[encoded data removed]",
      "text/plain": [
       "<Figure size 1080x360 with 1 Axes>"
      ]
     },
     "metadata": {
      "needs_background": "light"
     },
     "output_type": "display_data"
    }
   ],
   "source": [
    "plt.figure(figsize=(15,5))\n",
    "sns.countplot(x='Property_Area', hue='Loan_Status', data=dataset)\n",
    "\n",
    "# important feature"
   ]
  },
  {
   "cell_type": "code",
   "execution_count": 14,
   "id": "a686dbdc",
   "metadata": {
    "execution": {
     "iopub.execute_input": "2021-11-18T12:43:43.389222Z",
     "iopub.status.busy": "2021-11-18T12:43:43.385913Z",
     "iopub.status.idle": "2021-11-18T12:43:51.205787Z",
     "shell.execute_reply": "2021-11-18T12:43:51.206312Z",
     "shell.execute_reply.started": "2021-11-18T12:41:57.504943Z"
    },
    "id": "05682d64",
    "outputId": "4fb53a18-f35d-41a4-8796-2d58d8a8c77e",
    "papermill": {
     "duration": 7.893425,
     "end_time": "2021-11-18T12:43:51.206472",
     "exception": false,
     "start_time": "2021-11-18T12:43:43.313047",
     "status": "completed"
    },
    "tags": []
   },
   "outputs": [
    {
     "data": {
      "text/plain": [
       "<seaborn.axisgrid.PairGrid at 0x7fc63caf9790>"
      ]
     },
     "execution_count": 14,
     "metadata": {},
     "output_type": "execute_result"
    },
    {
     "data": {
      "image/png": "[encoded data removed]",
      "text/plain": [
       "<Figure size 968.625x900 with 30 Axes>"
      ]
     },
     "metadata": {
      "needs_background": "light"
     },
     "output_type": "display_data"
    }
   ],
   "source": [
    "sns.pairplot(dataset,hue='Loan_Status')"
   ]
  },
  {
   "cell_type": "markdown",
   "id": "419b0daf",
   "metadata": {
    "id": "9a6b2cb6",
    "papermill": {
     "duration": 0.067876,
     "end_time": "2021-11-18T12:43:51.347713",
     "exception": false,
     "start_time": "2021-11-18T12:43:51.279837",
     "status": "completed"
    },
    "tags": []
   },
   "source": [
    "> Show us how spread out the data is about their mean"
   ]
  },
  {
   "cell_type": "code",
   "execution_count": 15,
   "id": "3593a872",
   "metadata": {
    "execution": {
     "iopub.execute_input": "2021-11-18T12:43:51.490700Z",
     "iopub.status.busy": "2021-11-18T12:43:51.489816Z",
     "iopub.status.idle": "2021-11-18T12:43:51.496811Z",
     "shell.execute_reply": "2021-11-18T12:43:51.497405Z",
     "shell.execute_reply.started": "2021-11-18T12:42:05.471022Z"
    },
    "id": "e21cee9f",
    "outputId": "4ffeb34e-4663-4bbc-ec5b-18745e7f22ae",
    "papermill": {
     "duration": 0.081717,
     "end_time": "2021-11-18T12:43:51.497606",
     "exception": false,
     "start_time": "2021-11-18T12:43:51.415889",
     "status": "completed"
    },
    "tags": []
   },
   "outputs": [
    {
     "name": "stderr",
     "output_type": "stream",
     "text": [
      "/opt/conda/lib/python3.7/site-packages/ipykernel_launcher.py:1: FutureWarning: Dropping of nuisance columns in DataFrame reductions (with 'numeric_only=None') is deprecated; in a future version this will raise TypeError.  Select only valid columns before calling the reduction.\n",
      "  \"\"\"Entry point for launching an IPython kernel.\n"
     ]
    },
    {
     "data": {
      "text/plain": [
       "ApplicantIncome      3.732039e+07\n",
       "CoapplicantIncome    8.562930e+06\n",
       "LoanAmount           7.325190e+03\n",
       "Loan_Amount_Term     4.240668e+03\n",
       "Credit_History       1.331362e-01\n",
       "dtype: float64"
      ]
     },
     "execution_count": 15,
     "metadata": {},
     "output_type": "execute_result"
    }
   ],
   "source": [
    "dataset.var()"
   ]
  },
  {
   "cell_type": "code",
   "execution_count": 16,
   "id": "ba941e0d",
   "metadata": {
    "execution": {
     "iopub.execute_input": "2021-11-18T12:43:51.709565Z",
     "iopub.status.busy": "2021-11-18T12:43:51.708936Z",
     "iopub.status.idle": "2021-11-18T12:43:51.716092Z",
     "shell.execute_reply": "2021-11-18T12:43:51.716609Z",
     "shell.execute_reply.started": "2021-11-18T12:42:05.481908Z"
    },
    "id": "4e4ae775",
    "outputId": "bccfbed0-f413-4e81-b7a1-47e2023a5f66",
    "papermill": {
     "duration": 0.114988,
     "end_time": "2021-11-18T12:43:51.716753",
     "exception": false,
     "start_time": "2021-11-18T12:43:51.601765",
     "status": "completed"
    },
    "tags": []
   },
   "outputs": [
    {
     "name": "stderr",
     "output_type": "stream",
     "text": [
      "/opt/conda/lib/python3.7/site-packages/ipykernel_launcher.py:1: FutureWarning: Dropping of nuisance columns in DataFrame reductions (with 'numeric_only=None') is deprecated; in a future version this will raise TypeError.  Select only valid columns before calling the reduction.\n",
      "  \"\"\"Entry point for launching an IPython kernel.\n"
     ]
    },
    {
     "data": {
      "text/plain": [
       "ApplicantIncome      6109.041673\n",
       "CoapplicantIncome    2926.248369\n",
       "LoanAmount             85.587325\n",
       "Loan_Amount_Term       65.120410\n",
       "Credit_History          0.364878\n",
       "dtype: float64"
      ]
     },
     "execution_count": 16,
     "metadata": {},
     "output_type": "execute_result"
    }
   ],
   "source": [
    "dataset.std()"
   ]
  },
  {
   "cell_type": "markdown",
   "id": "94343740",
   "metadata": {
    "id": "481b3e25",
    "papermill": {
     "duration": 0.104248,
     "end_time": "2021-11-18T12:43:51.926980",
     "exception": false,
     "start_time": "2021-11-18T12:43:51.822732",
     "status": "completed"
    },
    "tags": []
   },
   "source": [
    "> Correlation In Data"
   ]
  },
  {
   "cell_type": "code",
   "execution_count": 17,
   "id": "4915b5a3",
   "metadata": {
    "execution": {
     "iopub.execute_input": "2021-11-18T12:43:52.145588Z",
     "iopub.status.busy": "2021-11-18T12:43:52.144932Z",
     "iopub.status.idle": "2021-11-18T12:43:52.155075Z",
     "shell.execute_reply": "2021-11-18T12:43:52.155617Z",
     "shell.execute_reply.started": "2021-11-18T12:42:05.498906Z"
    },
    "id": "6d29dcfe",
    "outputId": "c12185ed-a5f6-4b5b-8bf9-f9bd2818ae99",
    "papermill": {
     "duration": 0.124243,
     "end_time": "2021-11-18T12:43:52.155791",
     "exception": false,
     "start_time": "2021-11-18T12:43:52.031548",
     "status": "completed"
    },
    "tags": []
   },
   "outputs": [
    {
     "data": {
      "text/html": [
       "<div>\n",
       "<style scoped>\n",
       "    .dataframe tbody tr th:only-of-type {\n",
       "        vertical-align: middle;\n",
       "    }\n",
       "\n",
       "    .dataframe tbody tr th {\n",
       "        vertical-align: top;\n",
       "    }\n",
       "\n",
       "    .dataframe thead th {\n",
       "        text-align: right;\n",
       "    }\n",
       "</style>\n",
       "<table border=\"1\" class=\"dataframe\">\n",
       "  <thead>\n",
       "    <tr style=\"text-align: right;\">\n",
       "      <th></th>\n",
       "      <th>ApplicantIncome</th>\n",
       "      <th>CoapplicantIncome</th>\n",
       "      <th>LoanAmount</th>\n",
       "      <th>Loan_Amount_Term</th>\n",
       "      <th>Credit_History</th>\n",
       "    </tr>\n",
       "  </thead>\n",
       "  <tbody>\n",
       "    <tr>\n",
       "      <th>ApplicantIncome</th>\n",
       "      <td>1.000000</td>\n",
       "      <td>-0.116605</td>\n",
       "      <td>0.570909</td>\n",
       "      <td>-0.045306</td>\n",
       "      <td>-0.014715</td>\n",
       "    </tr>\n",
       "    <tr>\n",
       "      <th>CoapplicantIncome</th>\n",
       "      <td>-0.116605</td>\n",
       "      <td>1.000000</td>\n",
       "      <td>0.188619</td>\n",
       "      <td>-0.059878</td>\n",
       "      <td>-0.002056</td>\n",
       "    </tr>\n",
       "    <tr>\n",
       "      <th>LoanAmount</th>\n",
       "      <td>0.570909</td>\n",
       "      <td>0.188619</td>\n",
       "      <td>1.000000</td>\n",
       "      <td>0.039447</td>\n",
       "      <td>-0.008433</td>\n",
       "    </tr>\n",
       "    <tr>\n",
       "      <th>Loan_Amount_Term</th>\n",
       "      <td>-0.045306</td>\n",
       "      <td>-0.059878</td>\n",
       "      <td>0.039447</td>\n",
       "      <td>1.000000</td>\n",
       "      <td>0.001470</td>\n",
       "    </tr>\n",
       "    <tr>\n",
       "      <th>Credit_History</th>\n",
       "      <td>-0.014715</td>\n",
       "      <td>-0.002056</td>\n",
       "      <td>-0.008433</td>\n",
       "      <td>0.001470</td>\n",
       "      <td>1.000000</td>\n",
       "    </tr>\n",
       "  </tbody>\n",
       "</table>\n",
       "</div>"
      ],
      "text/plain": [
       "                   ApplicantIncome  CoapplicantIncome  LoanAmount  \\\n",
       "ApplicantIncome           1.000000          -0.116605    0.570909   \n",
       "CoapplicantIncome        -0.116605           1.000000    0.188619   \n",
       "LoanAmount                0.570909           0.188619    1.000000   \n",
       "Loan_Amount_Term         -0.045306          -0.059878    0.039447   \n",
       "Credit_History           -0.014715          -0.002056   -0.008433   \n",
       "\n",
       "                   Loan_Amount_Term  Credit_History  \n",
       "ApplicantIncome           -0.045306       -0.014715  \n",
       "CoapplicantIncome         -0.059878       -0.002056  \n",
       "LoanAmount                 0.039447       -0.008433  \n",
       "Loan_Amount_Term           1.000000        0.001470  \n",
       "Credit_History             0.001470        1.000000  "
      ]
     },
     "execution_count": 17,
     "metadata": {},
     "output_type": "execute_result"
    }
   ],
   "source": [
    "dataset.corr()"
   ]
  },
  {
   "cell_type": "code",
   "execution_count": 18,
   "id": "8a3f41c3",
   "metadata": {
    "execution": {
     "iopub.execute_input": "2021-11-18T12:43:52.393120Z",
     "iopub.status.busy": "2021-11-18T12:43:52.392250Z",
     "iopub.status.idle": "2021-11-18T12:43:52.660392Z",
     "shell.execute_reply": "2021-11-18T12:43:52.660916Z",
     "shell.execute_reply.started": "2021-11-18T12:42:05.517489Z"
    },
    "id": "edce619f",
    "outputId": "45b2fd91-b5b0-4f5e-89cc-a8308376e1ed",
    "papermill": {
     "duration": 0.397846,
     "end_time": "2021-11-18T12:43:52.661082",
     "exception": false,
     "start_time": "2021-11-18T12:43:52.263236",
     "status": "completed"
    },
    "tags": []
   },
   "outputs": [
    {
     "data": {
      "text/plain": [
       "<AxesSubplot:>"
      ]
     },
     "execution_count": 18,
     "metadata": {},
     "output_type": "execute_result"
    },
    {
     "data": {
      "image/png": "[encoded data removed]",
      "text/plain": [
       "<Figure size 432x288 with 2 Axes>"
      ]
     },
     "metadata": {
      "needs_background": "light"
     },
     "output_type": "display_data"
    }
   ],
   "source": [
    "sns.heatmap(dataset.corr(),annot=True)"
   ]
  },
  {
   "cell_type": "code",
   "execution_count": 19,
   "id": "7d2b9b18",
   "metadata": {
    "execution": {
     "iopub.execute_input": "2021-11-18T12:43:52.880238Z",
     "iopub.status.busy": "2021-11-18T12:43:52.879360Z",
     "iopub.status.idle": "2021-11-18T12:43:52.886752Z",
     "shell.execute_reply": "2021-11-18T12:43:52.886112Z",
     "shell.execute_reply.started": "2021-11-18T12:42:05.859602Z"
    },
    "id": "b67e4bf1",
    "outputId": "bcf1c82b-baa1-40e0-b642-ed89b4362203",
    "papermill": {
     "duration": 0.117759,
     "end_time": "2021-11-18T12:43:52.886879",
     "exception": false,
     "start_time": "2021-11-18T12:43:52.769120",
     "status": "completed"
    },
    "tags": []
   },
   "outputs": [
    {
     "data": {
      "text/plain": [
       "ApplicantIncome      1.000000\n",
       "CoapplicantIncome   -0.116605\n",
       "LoanAmount           0.570909\n",
       "Loan_Amount_Term    -0.045306\n",
       "Credit_History      -0.014715\n",
       "Name: ApplicantIncome, dtype: float64"
      ]
     },
     "execution_count": 19,
     "metadata": {},
     "output_type": "execute_result"
    }
   ],
   "source": [
    "dataset.corr()['ApplicantIncome']"
   ]
  },
  {
   "cell_type": "code",
   "execution_count": 20,
   "id": "11083105",
   "metadata": {
    "execution": {
     "iopub.execute_input": "2021-11-18T12:43:53.105236Z",
     "iopub.status.busy": "2021-11-18T12:43:53.104376Z",
     "iopub.status.idle": "2021-11-18T12:43:53.283086Z",
     "shell.execute_reply": "2021-11-18T12:43:53.282615Z",
     "shell.execute_reply.started": "2021-11-18T12:42:05.868803Z"
    },
    "id": "6bb356ce",
    "outputId": "5ac596ed-d038-44f7-fa56-8e92fd448725",
    "papermill": {
     "duration": 0.288596,
     "end_time": "2021-11-18T12:43:53.283231",
     "exception": false,
     "start_time": "2021-11-18T12:43:52.994635",
     "status": "completed"
    },
    "tags": []
   },
   "outputs": [
    {
     "data": {
      "text/plain": [
       "<AxesSubplot:>"
      ]
     },
     "execution_count": 20,
     "metadata": {},
     "output_type": "execute_result"
    },
    {
     "data": {
      "image/png": "[encoded data removed]",
      "text/plain": [
       "<Figure size 432x288 with 1 Axes>"
      ]
     },
     "metadata": {
      "needs_background": "light"
     },
     "output_type": "display_data"
    }
   ],
   "source": [
    "dataset.corr()['ApplicantIncome'].plot(kind='bar')"
   ]
  },
  {
   "cell_type": "markdown",
   "id": "1eb620b3",
   "metadata": {
    "id": "24e8cc4a",
    "papermill": {
     "duration": 0.072056,
     "end_time": "2021-11-18T12:43:53.429358",
     "exception": false,
     "start_time": "2021-11-18T12:43:53.357302",
     "status": "completed"
    },
    "tags": []
   },
   "source": [
    "> Missing Dataset"
   ]
  },
  {
   "cell_type": "code",
   "execution_count": 21,
   "id": "6fd2317b",
   "metadata": {
    "execution": {
     "iopub.execute_input": "2021-11-18T12:43:53.618510Z",
     "iopub.status.busy": "2021-11-18T12:43:53.617851Z",
     "iopub.status.idle": "2021-11-18T12:43:53.620325Z",
     "shell.execute_reply": "2021-11-18T12:43:53.620817Z",
     "shell.execute_reply.started": "2021-11-18T12:42:06.056856Z"
    },
    "id": "08cd7436",
    "outputId": "8ff9144d-c7fb-41d1-86a6-f72a6ea2b700",
    "papermill": {
     "duration": 0.118365,
     "end_time": "2021-11-18T12:43:53.620966",
     "exception": false,
     "start_time": "2021-11-18T12:43:53.502601",
     "status": "completed"
    },
    "tags": []
   },
   "outputs": [
    {
     "data": {
      "text/plain": [
       "Gender               13\n",
       "Married               3\n",
       "Dependents           15\n",
       "Education             0\n",
       "Self_Employed        32\n",
       "ApplicantIncome       0\n",
       "CoapplicantIncome     0\n",
       "LoanAmount           22\n",
       "Loan_Amount_Term     14\n",
       "Credit_History       50\n",
       "Property_Area         0\n",
       "Loan_Status           0\n",
       "dtype: int64"
      ]
     },
     "execution_count": 21,
     "metadata": {},
     "output_type": "execute_result"
    }
   ],
   "source": [
    "dataset.isnull().sum()"
   ]
  },
  {
   "cell_type": "code",
   "execution_count": 22,
   "id": "88f154d5",
   "metadata": {
    "execution": {
     "iopub.execute_input": "2021-11-18T12:43:53.845653Z",
     "iopub.status.busy": "2021-11-18T12:43:53.844899Z",
     "iopub.status.idle": "2021-11-18T12:43:54.566129Z",
     "shell.execute_reply": "2021-11-18T12:43:54.565144Z",
     "shell.execute_reply.started": "2021-11-18T12:42:06.068053Z"
    },
    "id": "776f429c",
    "outputId": "d7e985dd-f5bf-4ad6-dd0c-27f9a16f4bb5",
    "papermill": {
     "duration": 0.835421,
     "end_time": "2021-11-18T12:43:54.566319",
     "exception": false,
     "start_time": "2021-11-18T12:43:53.730898",
     "status": "completed"
    },
    "tags": []
   },
   "outputs": [
    {
     "data": {
      "text/plain": [
       "<AxesSubplot:>"
      ]
     },
     "execution_count": 22,
     "metadata": {},
     "output_type": "execute_result"
    },
    {
     "data": {
      "image/png": "[encoded data removed]",
      "text/plain": [
       "<Figure size 576x360 with 3 Axes>"
      ]
     },
     "metadata": {
      "needs_background": "light"
     },
     "output_type": "display_data"
    }
   ],
   "source": [
    "import missingno as msngo\n",
    "msngo.bar(dataset,figsize=(8,5))"
   ]
  },
  {
   "cell_type": "code",
   "execution_count": 23,
   "id": "8b779645",
   "metadata": {
    "execution": {
     "iopub.execute_input": "2021-11-18T12:43:54.806789Z",
     "iopub.status.busy": "2021-11-18T12:43:54.806099Z",
     "iopub.status.idle": "2021-11-18T12:43:54.814892Z",
     "shell.execute_reply": "2021-11-18T12:43:54.814320Z",
     "shell.execute_reply.started": "2021-11-18T12:42:07.023121Z"
    },
    "id": "9450561b",
    "papermill": {
     "duration": 0.126764,
     "end_time": "2021-11-18T12:43:54.815025",
     "exception": false,
     "start_time": "2021-11-18T12:43:54.688261",
     "status": "completed"
    },
    "tags": []
   },
   "outputs": [],
   "source": [
    "import statistics\n",
    "dataset['Gender'] = dataset['Gender'].replace(np.nan,statistics.mode(dataset[\"Gender\"]))\n",
    "dataset['Married'] = dataset['Married'].replace(np.nan,statistics.mode(dataset[\"Married\"]))\n",
    "dataset['Dependents'] = dataset['Dependents'].replace(np.nan,statistics.mode(dataset[\"Dependents\"]))\n",
    "dataset['Self_Employed'] = dataset['Self_Employed'].replace(np.nan,statistics.mode(dataset[\"Self_Employed\"]))\n",
    "dataset['Credit_History'] = dataset['Credit_History'].replace(np.nan,statistics.mode(dataset[\"Credit_History\"]))\n",
    "\n",
    "dataset['LoanAmount'] = dataset['LoanAmount'].replace(np.nan,dataset['LoanAmount'].median())\n",
    "dataset['Loan_Amount_Term'] = dataset['Loan_Amount_Term'].replace(np.nan,dataset['Loan_Amount_Term'].median())"
   ]
  },
  {
   "cell_type": "markdown",
   "id": "727f030c",
   "metadata": {
    "id": "f8c2cb5d",
    "papermill": {
     "duration": 0.111697,
     "end_time": "2021-11-18T12:43:55.037861",
     "exception": false,
     "start_time": "2021-11-18T12:43:54.926164",
     "status": "completed"
    },
    "tags": []
   },
   "source": [
    "> Encoding categorical data"
   ]
  },
  {
   "cell_type": "code",
   "execution_count": 24,
   "id": "29910701",
   "metadata": {
    "execution": {
     "iopub.execute_input": "2021-11-18T12:43:55.270780Z",
     "iopub.status.busy": "2021-11-18T12:43:55.269341Z",
     "iopub.status.idle": "2021-11-18T12:43:55.274343Z",
     "shell.execute_reply": "2021-11-18T12:43:55.273657Z",
     "shell.execute_reply.started": "2021-11-18T12:42:07.046373Z"
    },
    "id": "a6935e65",
    "outputId": "229241b1-f8a5-4679-eb30-c1d3f73285b8",
    "papermill": {
     "duration": 0.125582,
     "end_time": "2021-11-18T12:43:55.274477",
     "exception": false,
     "start_time": "2021-11-18T12:43:55.148895",
     "status": "completed"
    },
    "tags": []
   },
   "outputs": [
    {
     "name": "stdout",
     "output_type": "stream",
     "text": [
      "numerical columns:\n",
      "ApplicantIncome\n",
      "CoapplicantIncome\n",
      "LoanAmount\n",
      "Loan_Amount_Term\n",
      "Credit_History\n",
      "********************************************************************** \n",
      "categorical columns: \n",
      "Gender\n",
      "Married\n",
      "Dependents\n",
      "Education\n",
      "Self_Employed\n",
      "Property_Area\n",
      "Loan_Status\n"
     ]
    }
   ],
   "source": [
    "num = dataset.select_dtypes('number').columns.to_list()\n",
    "cat = dataset.select_dtypes('object').columns.to_list()\n",
    "loan_num =  dataset[num]\n",
    "loan_cat =  dataset[cat]\n",
    "\n",
    "print('numerical columns:')\n",
    "for cols in loan_num.columns:\n",
    "  print(cols)\n",
    "\n",
    "print('********************************************************************** ')\n",
    "\n",
    "print('categorical columns: ')\n",
    "for cols2 in loan_cat.columns:\n",
    "  print(cols2)"
   ]
  },
  {
   "cell_type": "code",
   "execution_count": 25,
   "id": "c9624bfa",
   "metadata": {
    "execution": {
     "iopub.execute_input": "2021-11-18T12:43:55.504446Z",
     "iopub.status.busy": "2021-11-18T12:43:55.503736Z",
     "iopub.status.idle": "2021-11-18T12:43:55.635041Z",
     "shell.execute_reply": "2021-11-18T12:43:55.634464Z",
     "shell.execute_reply.started": "2021-11-18T12:42:07.065103Z"
    },
    "id": "72360797",
    "papermill": {
     "duration": 0.249441,
     "end_time": "2021-11-18T12:43:55.635209",
     "exception": false,
     "start_time": "2021-11-18T12:43:55.385768",
     "status": "completed"
    },
    "tags": []
   },
   "outputs": [],
   "source": [
    "from sklearn.preprocessing import LabelEncoder\n",
    "le = LabelEncoder()\n",
    "\n",
    "dataset['Gender'] = dataset['Gender'].map({'Male':1,'Female':0}) \n",
    "dataset['Married'] = dataset['Married'].map({'Yes':1,'No':0}) \n",
    "dataset['Education'] = dataset['Education'].map({'Graduate':1,'Not Graduate':0}) \n",
    "dataset['Self_Employed'] = dataset['Self_Employed'].map({'Yes':1,'No':0}) \n",
    "dataset['Loan_Status'] = dataset['Loan_Status'].map({'Y':1,'N':0}) \n",
    "dataset['Property_Area'] = dataset['Property_Area'].map({'Rural':0,'Urban':1,'Semiurban':2}) \n",
    "\n",
    "dataset['Dependents'] = le.fit_transform(dataset['Dependents'])"
   ]
  },
  {
   "cell_type": "code",
   "execution_count": 26,
   "id": "8e25dbb3",
   "metadata": {
    "execution": {
     "iopub.execute_input": "2021-11-18T12:43:55.863424Z",
     "iopub.status.busy": "2021-11-18T12:43:55.862940Z",
     "iopub.status.idle": "2021-11-18T12:43:55.866765Z",
     "shell.execute_reply": "2021-11-18T12:43:55.867156Z",
     "shell.execute_reply.started": "2021-11-18T12:42:07.206552Z"
    },
    "id": "02552e15",
    "papermill": {
     "duration": 0.121414,
     "end_time": "2021-11-18T12:43:55.867302",
     "exception": false,
     "start_time": "2021-11-18T12:43:55.745888",
     "status": "completed"
    },
    "tags": []
   },
   "outputs": [],
   "source": [
    "dataset = pd.concat([dataset, pd.get_dummies(dataset['Dependents'], prefix='Dependents')], axis=1)\n",
    "dataset = pd.concat([dataset, pd.get_dummies(dataset['Property_Area'], prefix='Property_Area')], axis=1)"
   ]
  },
  {
   "cell_type": "code",
   "execution_count": 27,
   "id": "edfa01ac",
   "metadata": {
    "execution": {
     "iopub.execute_input": "2021-11-18T12:43:56.021715Z",
     "iopub.status.busy": "2021-11-18T12:43:56.020869Z",
     "iopub.status.idle": "2021-11-18T12:43:56.024702Z",
     "shell.execute_reply": "2021-11-18T12:43:56.025412Z",
     "shell.execute_reply.started": "2021-11-18T12:42:07.220703Z"
    },
    "id": "ee348dc1",
    "papermill": {
     "duration": 0.084623,
     "end_time": "2021-11-18T12:43:56.025624",
     "exception": false,
     "start_time": "2021-11-18T12:43:55.941001",
     "status": "completed"
    },
    "tags": []
   },
   "outputs": [],
   "source": [
    "dataset.drop(['Dependents','Property_Area'],axis=1,inplace=True)"
   ]
  },
  {
   "cell_type": "code",
   "execution_count": 28,
   "id": "0be518a2",
   "metadata": {
    "execution": {
     "iopub.execute_input": "2021-11-18T12:43:56.256351Z",
     "iopub.status.busy": "2021-11-18T12:43:56.253508Z",
     "iopub.status.idle": "2021-11-18T12:43:56.257893Z",
     "shell.execute_reply": "2021-11-18T12:43:56.258361Z",
     "shell.execute_reply.started": "2021-11-18T12:42:07.236541Z"
    },
    "id": "33f35646",
    "papermill": {
     "duration": 0.119148,
     "end_time": "2021-11-18T12:43:56.258523",
     "exception": false,
     "start_time": "2021-11-18T12:43:56.139375",
     "status": "completed"
    },
    "tags": []
   },
   "outputs": [],
   "source": [
    "y = dataset['Loan_Status'].values\n",
    "dataset = dataset.drop('Loan_Status',axis=1,inplace=False)\n",
    "X = dataset.values"
   ]
  },
  {
   "cell_type": "code",
   "execution_count": 29,
   "id": "c9db5a10",
   "metadata": {
    "execution": {
     "iopub.execute_input": "2021-11-18T12:43:56.411791Z",
     "iopub.status.busy": "2021-11-18T12:43:56.411326Z",
     "iopub.status.idle": "2021-11-18T12:43:56.415939Z",
     "shell.execute_reply": "2021-11-18T12:43:56.415523Z",
     "shell.execute_reply.started": "2021-11-18T12:42:07.248948Z"
    },
    "id": "21d66d0a",
    "papermill": {
     "duration": 0.083903,
     "end_time": "2021-11-18T12:43:56.416054",
     "exception": false,
     "start_time": "2021-11-18T12:43:56.332151",
     "status": "completed"
    },
    "tags": []
   },
   "outputs": [],
   "source": [
    "y=np.reshape(y,(y.shape[0],1))"
   ]
  },
  {
   "cell_type": "code",
   "execution_count": 30,
   "id": "a78b310a",
   "metadata": {
    "execution": {
     "iopub.execute_input": "2021-11-18T12:43:56.569343Z",
     "iopub.status.busy": "2021-11-18T12:43:56.568798Z",
     "iopub.status.idle": "2021-11-18T12:43:56.570956Z",
     "shell.execute_reply": "2021-11-18T12:43:56.571580Z",
     "shell.execute_reply.started": "2021-11-18T12:42:07.261122Z"
    },
    "id": "6595b5ee",
    "outputId": "1ec7ec90-0ebe-49c8-c130-80fdce1aa7bd",
    "papermill": {
     "duration": 0.08177,
     "end_time": "2021-11-18T12:43:56.571756",
     "exception": false,
     "start_time": "2021-11-18T12:43:56.489986",
     "status": "completed"
    },
    "tags": []
   },
   "outputs": [
    {
     "name": "stdout",
     "output_type": "stream",
     "text": [
      "(614, 16)\n",
      "(614, 1)\n"
     ]
    }
   ],
   "source": [
    "print(X.shape)\n",
    "print(y.shape)"
   ]
  },
  {
   "cell_type": "markdown",
   "id": "ab442671",
   "metadata": {
    "id": "53b4a3eb",
    "papermill": {
     "duration": 0.110526,
     "end_time": "2021-11-18T12:43:56.792845",
     "exception": false,
     "start_time": "2021-11-18T12:43:56.682319",
     "status": "completed"
    },
    "tags": []
   },
   "source": [
    "> Feature Selection"
   ]
  },
  {
   "cell_type": "code",
   "execution_count": 31,
   "id": "90393677",
   "metadata": {
    "execution": {
     "iopub.execute_input": "2021-11-18T12:43:57.018102Z",
     "iopub.status.busy": "2021-11-18T12:43:57.017275Z",
     "iopub.status.idle": "2021-11-18T12:43:57.205869Z",
     "shell.execute_reply": "2021-11-18T12:43:57.206405Z",
     "shell.execute_reply.started": "2021-11-18T12:42:07.270127Z"
    },
    "id": "7c42430c",
    "outputId": "cf28d3ea-c3f3-4a48-c121-ce2b99e0e328",
    "papermill": {
     "duration": 0.303662,
     "end_time": "2021-11-18T12:43:57.206584",
     "exception": false,
     "start_time": "2021-11-18T12:43:56.902922",
     "status": "completed"
    },
    "tags": []
   },
   "outputs": [
    {
     "name": "stdout",
     "output_type": "stream",
     "text": [
      "X Shape : (614, 16)\n",
      "X Shape : (614, 9)\n",
      "Feature Selected [False  True False False  True  True  True  True  True False False  True\n",
      " False  True False  True]\n"
     ]
    }
   ],
   "source": [
    "from sklearn.feature_selection import SelectPercentile\n",
    "from sklearn.feature_selection import chi2\n",
    "print('X Shape :',X.shape)\n",
    "FeatureSelection = SelectPercentile(score_func = chi2,percentile=60)\n",
    "X = FeatureSelection.fit_transform(X,y)\n",
    "print('X Shape :',X.shape)\n",
    "print('Feature Selected',FeatureSelection.get_support())"
   ]
  },
  {
   "cell_type": "code",
   "execution_count": 32,
   "id": "0de3de1a",
   "metadata": {
    "execution": {
     "iopub.execute_input": "2021-11-18T12:43:57.436693Z",
     "iopub.status.busy": "2021-11-18T12:43:57.435880Z",
     "iopub.status.idle": "2021-11-18T12:43:57.440798Z",
     "shell.execute_reply": "2021-11-18T12:43:57.440016Z",
     "shell.execute_reply.started": "2021-11-18T12:42:07.477419Z"
    },
    "id": "2e263998",
    "outputId": "abc409df-e1bb-4d26-eb24-326e46d6197e",
    "papermill": {
     "duration": 0.121642,
     "end_time": "2021-11-18T12:43:57.440957",
     "exception": false,
     "start_time": "2021-11-18T12:43:57.319315",
     "status": "completed"
    },
    "tags": []
   },
   "outputs": [
    {
     "name": "stdout",
     "output_type": "stream",
     "text": [
      "[[-1.37208932e+00  7.29908229e-02 -5.54487330e-01 -2.11241249e-01\n",
      "   2.73231296e-01  4.11732692e-01 -4.43712848e-01 -6.41478178e-01\n",
      "  -7.82015701e-01]\n",
      " [ 7.28815525e-01 -1.34411954e-01 -3.87315485e-02 -2.11241249e-01\n",
      "   2.73231296e-01  4.11732692e-01 -4.43712848e-01  1.55889948e+00\n",
      "  -7.82015701e-01]\n",
      " [ 7.28815525e-01 -3.93747337e-01 -5.54487330e-01 -9.48996468e-01\n",
      "   2.73231296e-01  4.11732692e-01 -4.43712848e-01 -6.41478178e-01\n",
      "  -7.82015701e-01]\n",
      " [ 7.28815525e-01 -4.62062470e-01  2.51979602e-01 -3.06435471e-01\n",
      "   2.73231296e-01  4.11732692e-01 -4.43712848e-01 -6.41478178e-01\n",
      "  -7.82015701e-01]\n",
      " [-1.37208932e+00  9.77284368e-02 -5.54487330e-01 -5.65506391e-02\n",
      "   2.73231296e-01  4.11732692e-01 -4.43712848e-01 -6.41478178e-01\n",
      "  -7.82015701e-01]\n",
      " [ 7.28815525e-01  2.21831139e-03  8.80599712e-01  1.44275835e+00\n",
      "   2.73231296e-01  4.11732692e-01  2.25370981e+00 -6.41478178e-01\n",
      "  -7.82015701e-01]]\n"
     ]
    }
   ],
   "source": [
    "from sklearn.preprocessing import StandardScaler\n",
    "sc = StandardScaler()\n",
    "X = sc.fit_transform(X)\n",
    "print(X[:6,:])"
   ]
  },
  {
   "cell_type": "code",
   "execution_count": 33,
   "id": "2b13b826",
   "metadata": {
    "execution": {
     "iopub.execute_input": "2021-11-18T12:43:57.678430Z",
     "iopub.status.busy": "2021-11-18T12:43:57.677526Z",
     "iopub.status.idle": "2021-11-18T12:43:57.682500Z",
     "shell.execute_reply": "2021-11-18T12:43:57.681968Z",
     "shell.execute_reply.started": "2021-11-18T12:42:07.485977Z"
    },
    "id": "d2d861ba",
    "outputId": "efb9a0c8-8fa1-4416-8536-81eda2fc49d0",
    "papermill": {
     "duration": 0.127052,
     "end_time": "2021-11-18T12:43:57.682612",
     "exception": false,
     "start_time": "2021-11-18T12:43:57.555560",
     "status": "completed"
    },
    "tags": []
   },
   "outputs": [
    {
     "name": "stdout",
     "output_type": "stream",
     "text": [
      "X_Train\n",
      "[[ 0.72881553  1.50384063 -0.55448733  3.45373629  0.2732313   0.41173269\n",
      "  -0.44371285 -0.64147818  1.2787467 ]\n",
      " [-1.37208932 -0.29823721 -0.55448733 -0.59201814  0.2732313   0.41173269\n",
      "  -0.44371285 -0.64147818 -0.7820157 ]\n",
      " [-1.37208932  0.52760591 -0.55448733  0.05054286  0.2732313   0.41173269\n",
      "  -0.44371285 -0.64147818  1.2787467 ]]\n",
      "****************************\n",
      "X_test\n",
      "[[-1.37208932 -0.50088906 -0.00726634 -0.16364414  0.2732313   0.41173269\n",
      "  -0.44371285 -0.64147818  1.2787467 ]\n",
      " [ 0.72881553 -0.10705314  0.24342927 -0.18744269  0.2732313   0.41173269\n",
      "  -0.44371285 -0.64147818 -0.7820157 ]\n",
      " [ 0.72881553 -0.22173082  1.25886622 -0.09224847  0.2732313   0.41173269\n",
      "  -0.44371285  1.55889948 -0.7820157 ]]\n",
      "(185, 9)\n",
      "****************************\n",
      "Y_train\n",
      "[[1]\n",
      " [0]\n",
      " [1]]\n",
      "****************************\n",
      "Y_test\n",
      "[[1]\n",
      " [1]\n",
      " [0]]\n"
     ]
    }
   ],
   "source": [
    "from sklearn.model_selection import train_test_split\n",
    "X_train,X_test,y_train,y_test=train_test_split(X,y,test_size=0.3,random_state=22)\n",
    "print('X_Train')\n",
    "print(X_train[:3,:])\n",
    "print('****************************')\n",
    "print('X_test')\n",
    "print(X_test[:3,:])\n",
    "print(X_test.shape)\n",
    "print('****************************')\n",
    "print('Y_train')\n",
    "print(y_train[:3,:])\n",
    "print('****************************')\n",
    "print('Y_test')\n",
    "print(y_test[:3,:])"
   ]
  },
  {
   "cell_type": "code",
   "execution_count": 34,
   "id": "7a8cb89c",
   "metadata": {
    "execution": {
     "iopub.execute_input": "2021-11-18T12:43:57.843115Z",
     "iopub.status.busy": "2021-11-18T12:43:57.842621Z",
     "iopub.status.idle": "2021-11-18T12:43:57.922766Z",
     "shell.execute_reply": "2021-11-18T12:43:57.922285Z",
     "shell.execute_reply.started": "2021-11-18T12:42:07.502910Z"
    },
    "id": "45a30baa",
    "outputId": "8c0b801a-e727-4857-dd42-48aa16ec9e10",
    "papermill": {
     "duration": 0.163409,
     "end_time": "2021-11-18T12:43:57.922871",
     "exception": false,
     "start_time": "2021-11-18T12:43:57.759462",
     "status": "completed"
    },
    "tags": []
   },
   "outputs": [
    {
     "name": "stdout",
     "output_type": "stream",
     "text": [
      "Train Score Value :  [0.81512605 0.80112045 0.80112045 0.80446927 0.80726257 0.7849162 ]\n",
      "Test Score Value :  [0.73611111 0.80555556 0.79166667 0.78873239 0.77464789 0.87323944]\n",
      "-----------------------------------------------------------------------------------\n",
      "Cross validation Score is 79.49921752738653\n"
     ]
    },
    {
     "name": "stderr",
     "output_type": "stream",
     "text": [
      "/opt/conda/lib/python3.7/site-packages/sklearn/utils/validation.py:72: DataConversionWarning: A column-vector y was passed when a 1d array was expected. Please change the shape of y to (n_samples, ), for example using ravel().\n",
      "  return f(**kwargs)\n",
      "/opt/conda/lib/python3.7/site-packages/sklearn/utils/validation.py:72: DataConversionWarning: A column-vector y was passed when a 1d array was expected. Please change the shape of y to (n_samples, ), for example using ravel().\n",
      "  return f(**kwargs)\n",
      "/opt/conda/lib/python3.7/site-packages/sklearn/utils/validation.py:72: DataConversionWarning: A column-vector y was passed when a 1d array was expected. Please change the shape of y to (n_samples, ), for example using ravel().\n",
      "  return f(**kwargs)\n",
      "/opt/conda/lib/python3.7/site-packages/sklearn/utils/validation.py:72: DataConversionWarning: A column-vector y was passed when a 1d array was expected. Please change the shape of y to (n_samples, ), for example using ravel().\n",
      "  return f(**kwargs)\n",
      "/opt/conda/lib/python3.7/site-packages/sklearn/utils/validation.py:72: DataConversionWarning: A column-vector y was passed when a 1d array was expected. Please change the shape of y to (n_samples, ), for example using ravel().\n",
      "  return f(**kwargs)\n",
      "/opt/conda/lib/python3.7/site-packages/sklearn/utils/validation.py:72: DataConversionWarning: A column-vector y was passed when a 1d array was expected. Please change the shape of y to (n_samples, ), for example using ravel().\n",
      "  return f(**kwargs)\n",
      "/opt/conda/lib/python3.7/site-packages/sklearn/utils/validation.py:72: DataConversionWarning: A column-vector y was passed when a 1d array was expected. Please change the shape of y to (n_samples, ), for example using ravel().\n",
      "  return f(**kwargs)\n",
      "/opt/conda/lib/python3.7/site-packages/sklearn/utils/validation.py:72: DataConversionWarning: A column-vector y was passed when a 1d array was expected. Please change the shape of y to (n_samples, ), for example using ravel().\n",
      "  return f(**kwargs)\n",
      "/opt/conda/lib/python3.7/site-packages/sklearn/utils/validation.py:72: DataConversionWarning: A column-vector y was passed when a 1d array was expected. Please change the shape of y to (n_samples, ), for example using ravel().\n",
      "  return f(**kwargs)\n",
      "/opt/conda/lib/python3.7/site-packages/sklearn/utils/validation.py:72: DataConversionWarning: A column-vector y was passed when a 1d array was expected. Please change the shape of y to (n_samples, ), for example using ravel().\n",
      "  return f(**kwargs)\n",
      "/opt/conda/lib/python3.7/site-packages/sklearn/utils/validation.py:72: DataConversionWarning: A column-vector y was passed when a 1d array was expected. Please change the shape of y to (n_samples, ), for example using ravel().\n",
      "  return f(**kwargs)\n",
      "/opt/conda/lib/python3.7/site-packages/sklearn/utils/validation.py:72: DataConversionWarning: A column-vector y was passed when a 1d array was expected. Please change the shape of y to (n_samples, ), for example using ravel().\n",
      "  return f(**kwargs)\n"
     ]
    }
   ],
   "source": [
    "from sklearn.linear_model import LogisticRegression\n",
    "from sklearn.model_selection import cross_validate\n",
    "from sklearn.model_selection import cross_val_score\n",
    "\n",
    "\n",
    "lg=LogisticRegression(random_state=22)\n",
    "CrossValidateValues = cross_validate(lg,X_train,y_train,cv=6,return_train_score = True)\n",
    "# Showing Results\n",
    "print('Train Score Value : ', CrossValidateValues['train_score'])\n",
    "print('Test Score Value : ', CrossValidateValues['test_score'])\n",
    "print('-----------------------------------------------------------------------------------')\n",
    "\n",
    "# Showing Results\n",
    "score_train = cross_val_score(estimator = lg, X = X_train, y = y_train, cv = 6)\n",
    "print(\"Cross validation Score is\",np.mean(score_train)*100)"
   ]
  },
  {
   "cell_type": "code",
   "execution_count": 35,
   "id": "70d5d0dc",
   "metadata": {
    "execution": {
     "iopub.execute_input": "2021-11-18T12:43:58.080541Z",
     "iopub.status.busy": "2021-11-18T12:43:58.079983Z",
     "iopub.status.idle": "2021-11-18T12:43:58.091327Z",
     "shell.execute_reply": "2021-11-18T12:43:58.090834Z",
     "shell.execute_reply.started": "2021-11-18T12:42:07.592180Z"
    },
    "id": "7817d05b",
    "outputId": "5c0a1ff1-ec22-4b97-d1ad-5197c21e749e",
    "papermill": {
     "duration": 0.091942,
     "end_time": "2021-11-18T12:43:58.091434",
     "exception": false,
     "start_time": "2021-11-18T12:43:57.999492",
     "status": "completed"
    },
    "tags": []
   },
   "outputs": [
    {
     "name": "stderr",
     "output_type": "stream",
     "text": [
      "/opt/conda/lib/python3.7/site-packages/sklearn/utils/validation.py:72: DataConversionWarning: A column-vector y was passed when a 1d array was expected. Please change the shape of y to (n_samples, ), for example using ravel().\n",
      "  return f(**kwargs)\n"
     ]
    },
    {
     "data": {
      "text/plain": [
       "LogisticRegression(random_state=22)"
      ]
     },
     "execution_count": 35,
     "metadata": {},
     "output_type": "execute_result"
    }
   ],
   "source": [
    "lg.fit(X_train,y_train)"
   ]
  },
  {
   "cell_type": "code",
   "execution_count": 36,
   "id": "f78c659e",
   "metadata": {
    "execution": {
     "iopub.execute_input": "2021-11-18T12:43:58.246065Z",
     "iopub.status.busy": "2021-11-18T12:43:58.245613Z",
     "iopub.status.idle": "2021-11-18T12:43:58.251451Z",
     "shell.execute_reply": "2021-11-18T12:43:58.251895Z",
     "shell.execute_reply.started": "2021-11-18T12:42:07.607620Z"
    },
    "id": "5f3f41be",
    "outputId": "8bd62cfa-45fb-4bb2-b396-3ee7618a50a3",
    "papermill": {
     "duration": 0.084212,
     "end_time": "2021-11-18T12:43:58.252008",
     "exception": false,
     "start_time": "2021-11-18T12:43:58.167796",
     "status": "completed"
    },
    "tags": []
   },
   "outputs": [
    {
     "name": "stdout",
     "output_type": "stream",
     "text": [
      "Y Test   :  [1 1 0 1 0]\n",
      "Y Predict : [1 1 1 1 1]\n"
     ]
    }
   ],
   "source": [
    "y_pred_LR=lg.predict(X_test)\n",
    "print('Y Test   : ',y_test[:5,:].ravel())\n",
    "print('Y Predict :',y_pred_LR[:5])"
   ]
  },
  {
   "cell_type": "code",
   "execution_count": 37,
   "id": "9a44a361",
   "metadata": {
    "execution": {
     "iopub.execute_input": "2021-11-18T12:43:58.407063Z",
     "iopub.status.busy": "2021-11-18T12:43:58.406554Z",
     "iopub.status.idle": "2021-11-18T12:43:58.410620Z",
     "shell.execute_reply": "2021-11-18T12:43:58.411032Z",
     "shell.execute_reply.started": "2021-11-18T12:42:07.615512Z"
    },
    "id": "27f63f3c",
    "outputId": "0819bc6e-772d-409b-e941-f334c740a6b5",
    "papermill": {
     "duration": 0.083635,
     "end_time": "2021-11-18T12:43:58.411232",
     "exception": false,
     "start_time": "2021-11-18T12:43:58.327597",
     "status": "completed"
    },
    "tags": []
   },
   "outputs": [
    {
     "name": "stdout",
     "output_type": "stream",
     "text": [
      "0.8540540540540541\n"
     ]
    }
   ],
   "source": [
    "from sklearn.metrics import accuracy_score\n",
    "accuracy_lg=accuracy_score(y_test,y_pred_LR)\n",
    "print(accuracy_lg)"
   ]
  },
  {
   "cell_type": "code",
   "execution_count": 38,
   "id": "f7568bb4",
   "metadata": {
    "execution": {
     "iopub.execute_input": "2021-11-18T12:43:58.569020Z",
     "iopub.status.busy": "2021-11-18T12:43:58.568559Z",
     "iopub.status.idle": "2021-11-18T12:43:58.767896Z",
     "shell.execute_reply": "2021-11-18T12:43:58.768299Z",
     "shell.execute_reply.started": "2021-11-18T12:42:07.624527Z"
    },
    "id": "93259f95",
    "outputId": "27c08862-0864-4f39-c0da-ac5267614361",
    "papermill": {
     "duration": 0.2796,
     "end_time": "2021-11-18T12:43:58.768428",
     "exception": false,
     "start_time": "2021-11-18T12:43:58.488828",
     "status": "completed"
    },
    "tags": []
   },
   "outputs": [
    {
     "name": "stdout",
     "output_type": "stream",
     "text": [
      "[[ 27  25]\n",
      " [  2 131]]\n"
     ]
    },
    {
     "data": {
      "text/plain": [
       "<function matplotlib.pyplot.show(close=None, block=None)>"
      ]
     },
     "execution_count": 38,
     "metadata": {},
     "output_type": "execute_result"
    },
    {
     "data": {
      "image/png": "[encoded data removed]",
      "text/plain": [
       "<Figure size 432x288 with 2 Axes>"
      ]
     },
     "metadata": {
      "needs_background": "light"
     },
     "output_type": "display_data"
    }
   ],
   "source": [
    "from sklearn.metrics import confusion_matrix\n",
    "cm=confusion_matrix(y_test,y_pred_LR)\n",
    "print(cm)\n",
    "sns.heatmap(cm,center=True,annot=True)\n",
    "plt.show"
   ]
  },
  {
   "cell_type": "code",
   "execution_count": 39,
   "id": "f33167cb",
   "metadata": {
    "execution": {
     "iopub.execute_input": "2021-11-18T12:43:59.005404Z",
     "iopub.status.busy": "2021-11-18T12:43:59.004669Z",
     "iopub.status.idle": "2021-11-18T12:43:59.013423Z",
     "shell.execute_reply": "2021-11-18T12:43:59.012876Z",
     "shell.execute_reply.started": "2021-11-18T12:42:08.037359Z"
    },
    "id": "c870e7af",
    "outputId": "4cd7a588-650f-4685-f726-c2e05d454636",
    "papermill": {
     "duration": 0.129112,
     "end_time": "2021-11-18T12:43:59.013558",
     "exception": false,
     "start_time": "2021-11-18T12:43:58.884446",
     "status": "completed"
    },
    "tags": []
   },
   "outputs": [
    {
     "name": "stdout",
     "output_type": "stream",
     "text": [
      "              precision    recall  f1-score   support\n",
      "\n",
      "           0       0.93      0.52      0.67        52\n",
      "           1       0.84      0.98      0.91       133\n",
      "\n",
      "    accuracy                           0.85       185\n",
      "   macro avg       0.89      0.75      0.79       185\n",
      "weighted avg       0.87      0.85      0.84       185\n",
      "\n"
     ]
    }
   ],
   "source": [
    "from sklearn.metrics import classification_report\n",
    "cr=classification_report(y_test,y_pred_LR)\n",
    "print(cr)"
   ]
  },
  {
   "cell_type": "code",
   "execution_count": 40,
   "id": "48d41b3a",
   "metadata": {
    "execution": {
     "iopub.execute_input": "2021-11-18T12:43:59.251794Z",
     "iopub.status.busy": "2021-11-18T12:43:59.251162Z",
     "iopub.status.idle": "2021-11-18T12:43:59.687978Z",
     "shell.execute_reply": "2021-11-18T12:43:59.687483Z",
     "shell.execute_reply.started": "2021-11-18T12:42:08.049870Z"
    },
    "id": "63e4e417",
    "outputId": "26da916a-8640-474a-b9b7-4b4fae469b36",
    "papermill": {
     "duration": 0.557039,
     "end_time": "2021-11-18T12:43:59.688097",
     "exception": false,
     "start_time": "2021-11-18T12:43:59.131058",
     "status": "completed"
    },
    "tags": []
   },
   "outputs": [
    {
     "name": "stdout",
     "output_type": "stream",
     "text": [
      "LR_tpr:  [0.         0.48076923 1.        ]\n",
      "LR_fpr:  [0.         0.98496241 1.        ]\n",
      "threshold:  [2 1 0]\n"
     ]
    },
    {
     "data": {
      "image/png": "[encoded data removed]",
      "text/plain": [
       "<Figure size 648x576 with 1 Axes>"
      ]
     },
     "metadata": {
      "needs_background": "light"
     },
     "output_type": "display_data"
    }
   ],
   "source": [
    "from sklearn.metrics import roc_curve,auc\n",
    "LR_tpr,LR_fpr,threshold=roc_curve(y_test,y_pred_LR)\n",
    "LR_auc = auc(LR_tpr, LR_fpr)\n",
    "print('LR_tpr: ',LR_tpr)\n",
    "print('LR_fpr: ',LR_fpr)\n",
    "print('threshold: ',threshold)\n",
    "\n",
    "#Draw ROC Curve && AUC [Area Under The Curve]\n",
    "plt.figure(figsize=(9, 8))\n",
    "plt.plot(LR_tpr, LR_fpr, marker='o', label='Logistic Regression (auc = %0.3f)' % LR_auc)\n",
    "plt.ylabel('True Positive Rate -->')\n",
    "plt.xlabel('False Positive Rate -->')\n",
    "\n",
    "plt.legend()\n",
    "\n",
    "plt.show()"
   ]
  },
  {
   "cell_type": "code",
   "execution_count": 41,
   "id": "246fe5cb",
   "metadata": {
    "execution": {
     "iopub.execute_input": "2021-11-18T12:43:59.850133Z",
     "iopub.status.busy": "2021-11-18T12:43:59.849672Z",
     "iopub.status.idle": "2021-11-18T12:44:00.038612Z",
     "shell.execute_reply": "2021-11-18T12:44:00.039059Z",
     "shell.execute_reply.started": "2021-11-18T12:42:08.290258Z"
    },
    "id": "d29c8e0c",
    "outputId": "c1804440-7d1c-4f67-9034-45376454ec11",
    "papermill": {
     "duration": 0.271498,
     "end_time": "2021-11-18T12:44:00.039242",
     "exception": false,
     "start_time": "2021-11-18T12:43:59.767744",
     "status": "completed"
    },
    "tags": []
   },
   "outputs": [
    {
     "name": "stdout",
     "output_type": "stream",
     "text": [
      "train Score Value :  [0.832      0.82666667 0.81866667 0.824      0.816      0.80851064\n",
      " 0.81648936 0.81914894]\n",
      "Test Score Value :  [0.68518519 0.7962963  0.75925926 0.7962963  0.77777778 0.8490566\n",
      " 0.81132075 0.83018868]\n",
      "Cross validation is 78.8172606568833\n"
     ]
    },
    {
     "name": "stderr",
     "output_type": "stream",
     "text": [
      "/opt/conda/lib/python3.7/site-packages/sklearn/utils/validation.py:72: DataConversionWarning: A column-vector y was passed when a 1d array was expected. Please change the shape of y to (n_samples, ), for example using ravel().\n",
      "  return f(**kwargs)\n",
      "/opt/conda/lib/python3.7/site-packages/sklearn/utils/validation.py:72: DataConversionWarning: A column-vector y was passed when a 1d array was expected. Please change the shape of y to (n_samples, ), for example using ravel().\n",
      "  return f(**kwargs)\n",
      "/opt/conda/lib/python3.7/site-packages/sklearn/utils/validation.py:72: DataConversionWarning: A column-vector y was passed when a 1d array was expected. Please change the shape of y to (n_samples, ), for example using ravel().\n",
      "  return f(**kwargs)\n",
      "/opt/conda/lib/python3.7/site-packages/sklearn/utils/validation.py:72: DataConversionWarning: A column-vector y was passed when a 1d array was expected. Please change the shape of y to (n_samples, ), for example using ravel().\n",
      "  return f(**kwargs)\n",
      "/opt/conda/lib/python3.7/site-packages/sklearn/utils/validation.py:72: DataConversionWarning: A column-vector y was passed when a 1d array was expected. Please change the shape of y to (n_samples, ), for example using ravel().\n",
      "  return f(**kwargs)\n",
      "/opt/conda/lib/python3.7/site-packages/sklearn/utils/validation.py:72: DataConversionWarning: A column-vector y was passed when a 1d array was expected. Please change the shape of y to (n_samples, ), for example using ravel().\n",
      "  return f(**kwargs)\n",
      "/opt/conda/lib/python3.7/site-packages/sklearn/utils/validation.py:72: DataConversionWarning: A column-vector y was passed when a 1d array was expected. Please change the shape of y to (n_samples, ), for example using ravel().\n",
      "  return f(**kwargs)\n",
      "/opt/conda/lib/python3.7/site-packages/sklearn/utils/validation.py:72: DataConversionWarning: A column-vector y was passed when a 1d array was expected. Please change the shape of y to (n_samples, ), for example using ravel().\n",
      "  return f(**kwargs)\n",
      "/opt/conda/lib/python3.7/site-packages/sklearn/utils/validation.py:72: DataConversionWarning: A column-vector y was passed when a 1d array was expected. Please change the shape of y to (n_samples, ), for example using ravel().\n",
      "  return f(**kwargs)\n",
      "/opt/conda/lib/python3.7/site-packages/sklearn/utils/validation.py:72: DataConversionWarning: A column-vector y was passed when a 1d array was expected. Please change the shape of y to (n_samples, ), for example using ravel().\n",
      "  return f(**kwargs)\n",
      "/opt/conda/lib/python3.7/site-packages/sklearn/utils/validation.py:72: DataConversionWarning: A column-vector y was passed when a 1d array was expected. Please change the shape of y to (n_samples, ), for example using ravel().\n",
      "  return f(**kwargs)\n",
      "/opt/conda/lib/python3.7/site-packages/sklearn/utils/validation.py:72: DataConversionWarning: A column-vector y was passed when a 1d array was expected. Please change the shape of y to (n_samples, ), for example using ravel().\n",
      "  return f(**kwargs)\n",
      "/opt/conda/lib/python3.7/site-packages/sklearn/utils/validation.py:72: DataConversionWarning: A column-vector y was passed when a 1d array was expected. Please change the shape of y to (n_samples, ), for example using ravel().\n",
      "  return f(**kwargs)\n",
      "/opt/conda/lib/python3.7/site-packages/sklearn/utils/validation.py:72: DataConversionWarning: A column-vector y was passed when a 1d array was expected. Please change the shape of y to (n_samples, ), for example using ravel().\n",
      "  return f(**kwargs)\n",
      "/opt/conda/lib/python3.7/site-packages/sklearn/utils/validation.py:72: DataConversionWarning: A column-vector y was passed when a 1d array was expected. Please change the shape of y to (n_samples, ), for example using ravel().\n",
      "  return f(**kwargs)\n",
      "/opt/conda/lib/python3.7/site-packages/sklearn/utils/validation.py:72: DataConversionWarning: A column-vector y was passed when a 1d array was expected. Please change the shape of y to (n_samples, ), for example using ravel().\n",
      "  return f(**kwargs)\n"
     ]
    }
   ],
   "source": [
    "from sklearn.svm import SVC\n",
    "from sklearn.model_selection import cross_validate\n",
    "from sklearn.model_selection import cross_val_score\n",
    "\n",
    "s_v_c = SVC(C = 1, kernel='rbf' , random_state=22)\n",
    "CrossValidateValues_svc = cross_validate(s_v_c,X_train,y_train,cv=8,return_train_score = True)\n",
    "\n",
    "# Showing Results\n",
    "print('train Score Value : ', CrossValidateValues_svc['train_score'])\n",
    "print('Test Score Value : ', CrossValidateValues_svc['test_score'])\n",
    "#print('//////////////////////////////////////')\n",
    "\n",
    "# Showing Results\n",
    "score2_train = cross_val_score(estimator = s_v_c, X = X_train, y = y_train, cv = 8)\n",
    "print(\"Cross validation is\",np.mean(score2_train)*100)"
   ]
  },
  {
   "cell_type": "code",
   "execution_count": 42,
   "id": "97ad26dc",
   "metadata": {
    "execution": {
     "iopub.execute_input": "2021-11-18T12:44:00.221951Z",
     "iopub.status.busy": "2021-11-18T12:44:00.221412Z",
     "iopub.status.idle": "2021-11-18T12:44:00.237875Z",
     "shell.execute_reply": "2021-11-18T12:44:00.237409Z",
     "shell.execute_reply.started": "2021-11-18T12:42:08.461756Z"
    },
    "id": "c07c27ed",
    "outputId": "a38a5026-601e-43b0-df08-2b4354ee3e75",
    "papermill": {
     "duration": 0.101067,
     "end_time": "2021-11-18T12:44:00.237979",
     "exception": false,
     "start_time": "2021-11-18T12:44:00.136912",
     "status": "completed"
    },
    "tags": []
   },
   "outputs": [
    {
     "name": "stderr",
     "output_type": "stream",
     "text": [
      "/opt/conda/lib/python3.7/site-packages/sklearn/utils/validation.py:72: DataConversionWarning: A column-vector y was passed when a 1d array was expected. Please change the shape of y to (n_samples, ), for example using ravel().\n",
      "  return f(**kwargs)\n"
     ]
    },
    {
     "data": {
      "text/plain": [
       "SVC(C=1, random_state=22)"
      ]
     },
     "execution_count": 42,
     "metadata": {},
     "output_type": "execute_result"
    }
   ],
   "source": [
    "s_v_c.fit(X_train,y_train)"
   ]
  },
  {
   "cell_type": "code",
   "execution_count": 43,
   "id": "7b27e056",
   "metadata": {
    "execution": {
     "iopub.execute_input": "2021-11-18T12:44:00.428106Z",
     "iopub.status.busy": "2021-11-18T12:44:00.427581Z",
     "iopub.status.idle": "2021-11-18T12:44:00.436870Z",
     "shell.execute_reply": "2021-11-18T12:44:00.436428Z",
     "shell.execute_reply.started": "2021-11-18T12:42:08.478910Z"
    },
    "id": "837c67e6",
    "outputId": "ac64d306-cf70-44ef-e1b9-d1c04255ed64",
    "papermill": {
     "duration": 0.112178,
     "end_time": "2021-11-18T12:44:00.436995",
     "exception": false,
     "start_time": "2021-11-18T12:44:00.324817",
     "status": "completed"
    },
    "tags": []
   },
   "outputs": [
    {
     "name": "stdout",
     "output_type": "stream",
     "text": [
      "Y Test:  [[1]\n",
      " [1]\n",
      " [0]\n",
      " [1]\n",
      " [0]]\n",
      "Y Predict: , [1 1 1 1 1]\n"
     ]
    }
   ],
   "source": [
    "y_pred_svc=s_v_c.predict(X_test)\n",
    "print('Y Test: ',y_test[:5,:])\n",
    "print('Y Predict: ,',y_pred_svc[:5,])"
   ]
  },
  {
   "cell_type": "code",
   "execution_count": 44,
   "id": "dd72611f",
   "metadata": {
    "execution": {
     "iopub.execute_input": "2021-11-18T12:44:00.619363Z",
     "iopub.status.busy": "2021-11-18T12:44:00.618769Z",
     "iopub.status.idle": "2021-11-18T12:44:00.623120Z",
     "shell.execute_reply": "2021-11-18T12:44:00.622668Z",
     "shell.execute_reply.started": "2021-11-18T12:42:08.488636Z"
    },
    "id": "dee0af29",
    "outputId": "ee42f306-2d3a-4c96-c40d-984983fe849c",
    "papermill": {
     "duration": 0.098881,
     "end_time": "2021-11-18T12:44:00.623274",
     "exception": false,
     "start_time": "2021-11-18T12:44:00.524393",
     "status": "completed"
    },
    "tags": []
   },
   "outputs": [
    {
     "name": "stdout",
     "output_type": "stream",
     "text": [
      "0.8162162162162162\n"
     ]
    }
   ],
   "source": [
    "from sklearn.metrics import accuracy_score\n",
    "accuracy_s=accuracy_score(y_test,y_pred_svc)\n",
    "print(accuracy_s)"
   ]
  },
  {
   "cell_type": "code",
   "execution_count": 45,
   "id": "2297606c",
   "metadata": {
    "execution": {
     "iopub.execute_input": "2021-11-18T12:44:00.796785Z",
     "iopub.status.busy": "2021-11-18T12:44:00.796047Z",
     "iopub.status.idle": "2021-11-18T12:44:00.982858Z",
     "shell.execute_reply": "2021-11-18T12:44:00.983366Z",
     "shell.execute_reply.started": "2021-11-18T12:42:08.498152Z"
    },
    "id": "c6ad00b4",
    "outputId": "81ba3889-f71a-411c-d82a-1ec3290d6f63",
    "papermill": {
     "duration": 0.275633,
     "end_time": "2021-11-18T12:44:00.983533",
     "exception": false,
     "start_time": "2021-11-18T12:44:00.707900",
     "status": "completed"
    },
    "tags": []
   },
   "outputs": [
    {
     "name": "stdout",
     "output_type": "stream",
     "text": [
      "[[ 24  28]\n",
      " [  6 127]]\n"
     ]
    },
    {
     "data": {
      "image/png": "[encoded data removed]",
      "text/plain": [
       "<Figure size 648x360 with 2 Axes>"
      ]
     },
     "metadata": {
      "needs_background": "light"
     },
     "output_type": "display_data"
    }
   ],
   "source": [
    "from sklearn.metrics import confusion_matrix\n",
    "cm=confusion_matrix(y_test,y_pred_svc)\n",
    "print(cm)\n",
    "plt.figure(figsize=(9,5))\n",
    "sns.heatmap(cm,center=True,annot=True)\n",
    "plt.show()"
   ]
  },
  {
   "cell_type": "code",
   "execution_count": 46,
   "id": "06d42bc3",
   "metadata": {
    "execution": {
     "iopub.execute_input": "2021-11-18T12:44:01.160632Z",
     "iopub.status.busy": "2021-11-18T12:44:01.160095Z",
     "iopub.status.idle": "2021-11-18T12:44:01.166281Z",
     "shell.execute_reply": "2021-11-18T12:44:01.166653Z",
     "shell.execute_reply.started": "2021-11-18T12:42:08.741799Z"
    },
    "id": "13406480",
    "outputId": "f9ef6b48-eea9-4704-a867-87169ecd3c00",
    "papermill": {
     "duration": 0.095555,
     "end_time": "2021-11-18T12:44:01.166800",
     "exception": false,
     "start_time": "2021-11-18T12:44:01.071245",
     "status": "completed"
    },
    "tags": []
   },
   "outputs": [
    {
     "name": "stdout",
     "output_type": "stream",
     "text": [
      "              precision    recall  f1-score   support\n",
      "\n",
      "           0       0.80      0.46      0.59        52\n",
      "           1       0.82      0.95      0.88       133\n",
      "\n",
      "    accuracy                           0.82       185\n",
      "   macro avg       0.81      0.71      0.73       185\n",
      "weighted avg       0.81      0.82      0.80       185\n",
      "\n"
     ]
    }
   ],
   "source": [
    "from sklearn.metrics import classification_report\n",
    "cr=classification_report(y_test,y_pred_svc)\n",
    "print(cr)"
   ]
  },
  {
   "cell_type": "code",
   "execution_count": 47,
   "id": "de6fbc8c",
   "metadata": {
    "execution": {
     "iopub.execute_input": "2021-11-18T12:44:01.336673Z",
     "iopub.status.busy": "2021-11-18T12:44:01.336149Z",
     "iopub.status.idle": "2021-11-18T12:44:01.507816Z",
     "shell.execute_reply": "2021-11-18T12:44:01.507052Z",
     "shell.execute_reply.started": "2021-11-18T12:42:08.753411Z"
    },
    "id": "3971bd1d",
    "outputId": "a53f2e4d-e99d-4b58-ccbc-607cef5791eb",
    "papermill": {
     "duration": 0.257954,
     "end_time": "2021-11-18T12:44:01.507926",
     "exception": false,
     "start_time": "2021-11-18T12:44:01.249972",
     "status": "completed"
    },
    "tags": []
   },
   "outputs": [
    {
     "name": "stdout",
     "output_type": "stream",
     "text": [
      "svm_tpr [0.         0.53846154 1.        ]\n",
      "svm_fpr [0.         0.95488722 1.        ]\n",
      "threshold [2 1 0]\n"
     ]
    },
    {
     "data": {
      "image/png": "[encoded data removed]",
      "text/plain": [
       "<Figure size 648x360 with 1 Axes>"
      ]
     },
     "metadata": {
      "needs_background": "light"
     },
     "output_type": "display_data"
    }
   ],
   "source": [
    "from sklearn.metrics import roc_curve,auc\n",
    "svm_tpr,svm_fpr,threshold=roc_curve(y_test,y_pred_svc)\n",
    "svm_auc=auc(svm_tpr,svm_fpr)\n",
    "print('svm_tpr',svm_tpr)\n",
    "print('svm_fpr',svm_fpr)\n",
    "print('threshold',threshold)\n",
    "\n",
    "\n",
    "#Draw ROC Curve && AUC [Area Under The Curve]\n",
    "plt.figure(figsize=(9, 5))\n",
    "plt.plot(svm_tpr, svm_fpr, linestyle=':', label='SVM (auc = %0.3f)' % svm_auc)\n",
    "\n",
    "plt.xlabel('False Positive Rate -->')\n",
    "plt.ylabel('True Positive Rate -->')\n",
    "\n",
    "plt.legend()\n",
    "\n",
    "plt.show()"
   ]
  },
  {
   "cell_type": "code",
   "execution_count": 48,
   "id": "3f136ba1",
   "metadata": {
    "execution": {
     "iopub.execute_input": "2021-11-18T12:44:01.684740Z",
     "iopub.status.busy": "2021-11-18T12:44:01.684230Z",
     "iopub.status.idle": "2021-11-18T12:44:01.827935Z",
     "shell.execute_reply": "2021-11-18T12:44:01.827489Z",
     "shell.execute_reply.started": "2021-11-18T12:42:08.986172Z"
    },
    "id": "e5083eb8",
    "outputId": "c730e0d4-39c1-47f6-c9f7-58488e186fd9",
    "papermill": {
     "duration": 0.235231,
     "end_time": "2021-11-18T12:44:01.828037",
     "exception": false,
     "start_time": "2021-11-18T12:44:01.592806",
     "status": "completed"
    },
    "tags": []
   },
   "outputs": [
    {
     "name": "stdout",
     "output_type": "stream",
     "text": [
      "train Score Value :  [0.80392157 0.78991597 0.79551821 0.79888268 0.79888268 0.77932961]\n",
      "Test Score Value :  [0.72222222 0.79166667 0.79166667 0.8028169  0.74647887 0.87323944]\n",
      "Cross validation is 78.80151278038602\n"
     ]
    },
    {
     "name": "stderr",
     "output_type": "stream",
     "text": [
      "/opt/conda/lib/python3.7/site-packages/sklearn/model_selection/_validation.py:531: DataConversionWarning: A column-vector y was passed when a 1d array was expected. Please change the shape of y to (n_samples, ), for example using ravel().\n",
      "  estimator.fit(X_train, y_train, **fit_params)\n",
      "/opt/conda/lib/python3.7/site-packages/sklearn/model_selection/_validation.py:531: DataConversionWarning: A column-vector y was passed when a 1d array was expected. Please change the shape of y to (n_samples, ), for example using ravel().\n",
      "  estimator.fit(X_train, y_train, **fit_params)\n",
      "/opt/conda/lib/python3.7/site-packages/sklearn/model_selection/_validation.py:531: DataConversionWarning: A column-vector y was passed when a 1d array was expected. Please change the shape of y to (n_samples, ), for example using ravel().\n",
      "  estimator.fit(X_train, y_train, **fit_params)\n",
      "/opt/conda/lib/python3.7/site-packages/sklearn/model_selection/_validation.py:531: DataConversionWarning: A column-vector y was passed when a 1d array was expected. Please change the shape of y to (n_samples, ), for example using ravel().\n",
      "  estimator.fit(X_train, y_train, **fit_params)\n",
      "/opt/conda/lib/python3.7/site-packages/sklearn/model_selection/_validation.py:531: DataConversionWarning: A column-vector y was passed when a 1d array was expected. Please change the shape of y to (n_samples, ), for example using ravel().\n",
      "  estimator.fit(X_train, y_train, **fit_params)\n",
      "/opt/conda/lib/python3.7/site-packages/sklearn/model_selection/_validation.py:531: DataConversionWarning: A column-vector y was passed when a 1d array was expected. Please change the shape of y to (n_samples, ), for example using ravel().\n",
      "  estimator.fit(X_train, y_train, **fit_params)\n",
      "/opt/conda/lib/python3.7/site-packages/sklearn/model_selection/_validation.py:531: DataConversionWarning: A column-vector y was passed when a 1d array was expected. Please change the shape of y to (n_samples, ), for example using ravel().\n",
      "  estimator.fit(X_train, y_train, **fit_params)\n",
      "/opt/conda/lib/python3.7/site-packages/sklearn/model_selection/_validation.py:531: DataConversionWarning: A column-vector y was passed when a 1d array was expected. Please change the shape of y to (n_samples, ), for example using ravel().\n",
      "  estimator.fit(X_train, y_train, **fit_params)\n",
      "/opt/conda/lib/python3.7/site-packages/sklearn/model_selection/_validation.py:531: DataConversionWarning: A column-vector y was passed when a 1d array was expected. Please change the shape of y to (n_samples, ), for example using ravel().\n",
      "  estimator.fit(X_train, y_train, **fit_params)\n",
      "/opt/conda/lib/python3.7/site-packages/sklearn/model_selection/_validation.py:531: DataConversionWarning: A column-vector y was passed when a 1d array was expected. Please change the shape of y to (n_samples, ), for example using ravel().\n",
      "  estimator.fit(X_train, y_train, **fit_params)\n",
      "/opt/conda/lib/python3.7/site-packages/sklearn/model_selection/_validation.py:531: DataConversionWarning: A column-vector y was passed when a 1d array was expected. Please change the shape of y to (n_samples, ), for example using ravel().\n",
      "  estimator.fit(X_train, y_train, **fit_params)\n",
      "/opt/conda/lib/python3.7/site-packages/sklearn/model_selection/_validation.py:531: DataConversionWarning: A column-vector y was passed when a 1d array was expected. Please change the shape of y to (n_samples, ), for example using ravel().\n",
      "  estimator.fit(X_train, y_train, **fit_params)\n"
     ]
    }
   ],
   "source": [
    "from sklearn.neighbors import KNeighborsClassifier\n",
    "from sklearn.model_selection import cross_validate\n",
    "from sklearn.model_selection import cross_val_score\n",
    "\n",
    "knn = KNeighborsClassifier(n_neighbors = 15,weights='uniform')\n",
    "CrossValidateValues_knn = cross_validate(knn,X_train,y_train,cv = 6,return_train_score = True) \n",
    "\n",
    "print('train Score Value : ', CrossValidateValues_knn['train_score'])\n",
    "print('Test Score Value : ', CrossValidateValues_knn['test_score'])\n",
    "\n",
    "\n",
    "# Showing Results\n",
    "\n",
    "# Showing Results\n",
    "score3_train = cross_val_score(estimator = knn, X = X_train, y = y_train, cv = 6)\n",
    "print(\"Cross validation is\",np.mean(score3_train)*100)\n"
   ]
  },
  {
   "cell_type": "code",
   "execution_count": 49,
   "id": "045a8259",
   "metadata": {
    "execution": {
     "iopub.execute_input": "2021-11-18T12:44:02.002668Z",
     "iopub.status.busy": "2021-11-18T12:44:02.002170Z",
     "iopub.status.idle": "2021-11-18T12:44:02.006321Z",
     "shell.execute_reply": "2021-11-18T12:44:02.006761Z",
     "shell.execute_reply.started": "2021-11-18T12:42:09.180258Z"
    },
    "id": "781acadf",
    "outputId": "b084d84c-a39f-4f44-d8af-b0f6a8ad88db",
    "papermill": {
     "duration": 0.095299,
     "end_time": "2021-11-18T12:44:02.006887",
     "exception": false,
     "start_time": "2021-11-18T12:44:01.911588",
     "status": "completed"
    },
    "tags": []
   },
   "outputs": [
    {
     "name": "stderr",
     "output_type": "stream",
     "text": [
      "/opt/conda/lib/python3.7/site-packages/ipykernel_launcher.py:1: DataConversionWarning: A column-vector y was passed when a 1d array was expected. Please change the shape of y to (n_samples, ), for example using ravel().\n",
      "  \"\"\"Entry point for launching an IPython kernel.\n"
     ]
    },
    {
     "data": {
      "text/plain": [
       "KNeighborsClassifier(n_neighbors=15)"
      ]
     },
     "execution_count": 49,
     "metadata": {},
     "output_type": "execute_result"
    }
   ],
   "source": [
    "knn.fit(X_train,y_train)"
   ]
  },
  {
   "cell_type": "code",
   "execution_count": 50,
   "id": "90156ccd",
   "metadata": {
    "execution": {
     "iopub.execute_input": "2021-11-18T12:44:02.182964Z",
     "iopub.status.busy": "2021-11-18T12:44:02.182485Z",
     "iopub.status.idle": "2021-11-18T12:44:02.195665Z",
     "shell.execute_reply": "2021-11-18T12:44:02.195218Z",
     "shell.execute_reply.started": "2021-11-18T12:42:09.189950Z"
    },
    "id": "7c2e0f54",
    "outputId": "a78edbde-20b5-49ab-88b7-bbd7114b86e1",
    "papermill": {
     "duration": 0.104221,
     "end_time": "2021-11-18T12:44:02.195779",
     "exception": false,
     "start_time": "2021-11-18T12:44:02.091558",
     "status": "completed"
    },
    "tags": []
   },
   "outputs": [
    {
     "name": "stdout",
     "output_type": "stream",
     "text": [
      "Y Test: [[1]\n",
      " [1]\n",
      " [0]\n",
      " [1]\n",
      " [0]]\n",
      "Y Predict: [1 1 1 1 1]\n"
     ]
    }
   ],
   "source": [
    "y_pred_knn=knn.predict(X_test)\n",
    "print('Y Test:',y_test[:5,:])\n",
    "print('Y Predict:',y_pred_knn[:5,])"
   ]
  },
  {
   "cell_type": "code",
   "execution_count": 51,
   "id": "9d5cc37c",
   "metadata": {
    "execution": {
     "iopub.execute_input": "2021-11-18T12:44:02.371601Z",
     "iopub.status.busy": "2021-11-18T12:44:02.371041Z",
     "iopub.status.idle": "2021-11-18T12:44:02.373036Z",
     "shell.execute_reply": "2021-11-18T12:44:02.373438Z",
     "shell.execute_reply.started": "2021-11-18T12:42:09.212914Z"
    },
    "id": "b8cf9f9f",
    "outputId": "d2ca120f-83de-447d-f9dc-66c4bc5a6f53",
    "papermill": {
     "duration": 0.092434,
     "end_time": "2021-11-18T12:44:02.373566",
     "exception": false,
     "start_time": "2021-11-18T12:44:02.281132",
     "status": "completed"
    },
    "tags": []
   },
   "outputs": [
    {
     "name": "stdout",
     "output_type": "stream",
     "text": [
      "Accuracy Score: 0.8324324324324325\n"
     ]
    }
   ],
   "source": [
    "from sklearn.metrics import accuracy_score\n",
    "accuracy_knn=accuracy_score(y_test,y_pred_knn)\n",
    "print('Accuracy Score:',accuracy_knn)"
   ]
  },
  {
   "cell_type": "code",
   "execution_count": 52,
   "id": "15c9fb1b",
   "metadata": {
    "execution": {
     "iopub.execute_input": "2021-11-18T12:44:02.549999Z",
     "iopub.status.busy": "2021-11-18T12:44:02.549538Z",
     "iopub.status.idle": "2021-11-18T12:44:02.685869Z",
     "shell.execute_reply": "2021-11-18T12:44:02.684923Z",
     "shell.execute_reply.started": "2021-11-18T12:42:09.219305Z"
    },
    "id": "936dbc6e",
    "outputId": "af54a5fc-42fa-4db4-b4e7-e2054b19d161",
    "papermill": {
     "duration": 0.227052,
     "end_time": "2021-11-18T12:44:02.685994",
     "exception": false,
     "start_time": "2021-11-18T12:44:02.458942",
     "status": "completed"
    },
    "tags": []
   },
   "outputs": [
    {
     "name": "stdout",
     "output_type": "stream",
     "text": [
      "[[ 22  30]\n",
      " [  1 132]]\n"
     ]
    },
    {
     "data": {
      "image/png": "[encoded data removed]",
      "text/plain": [
       "<Figure size 648x360 with 2 Axes>"
      ]
     },
     "metadata": {
      "needs_background": "light"
     },
     "output_type": "display_data"
    }
   ],
   "source": [
    "from sklearn.metrics import confusion_matrix\n",
    "cm=confusion_matrix(y_test,y_pred_knn)\n",
    "print(cm)\n",
    "plt.figure(figsize=(9,5))\n",
    "sns.heatmap(cm,center=True,annot=True)\n",
    "plt.show()"
   ]
  },
  {
   "cell_type": "code",
   "execution_count": 53,
   "id": "e68b3b35",
   "metadata": {
    "execution": {
     "iopub.execute_input": "2021-11-18T12:44:02.870099Z",
     "iopub.status.busy": "2021-11-18T12:44:02.869226Z",
     "iopub.status.idle": "2021-11-18T12:44:02.876042Z",
     "shell.execute_reply": "2021-11-18T12:44:02.875414Z",
     "shell.execute_reply.started": "2021-11-18T12:42:09.424900Z"
    },
    "id": "d5415790",
    "outputId": "1e85fe8d-3547-428f-e049-9b81b3e15bb3",
    "papermill": {
     "duration": 0.098381,
     "end_time": "2021-11-18T12:44:02.876226",
     "exception": false,
     "start_time": "2021-11-18T12:44:02.777845",
     "status": "completed"
    },
    "tags": []
   },
   "outputs": [
    {
     "name": "stdout",
     "output_type": "stream",
     "text": [
      "              precision    recall  f1-score   support\n",
      "\n",
      "           0       0.96      0.42      0.59        52\n",
      "           1       0.81      0.99      0.89       133\n",
      "\n",
      "    accuracy                           0.83       185\n",
      "   macro avg       0.89      0.71      0.74       185\n",
      "weighted avg       0.85      0.83      0.81       185\n",
      "\n"
     ]
    }
   ],
   "source": [
    "from sklearn.metrics import classification_report\n",
    "cr=classification_report(y_test,y_pred_knn)\n",
    "print(cr)"
   ]
  },
  {
   "cell_type": "code",
   "execution_count": 54,
   "id": "a5591ec3",
   "metadata": {
    "execution": {
     "iopub.execute_input": "2021-11-18T12:44:03.140167Z",
     "iopub.status.busy": "2021-11-18T12:44:03.134346Z",
     "iopub.status.idle": "2021-11-18T12:44:03.323059Z",
     "shell.execute_reply": "2021-11-18T12:44:03.322570Z",
     "shell.execute_reply.started": "2021-11-18T12:42:09.439327Z"
    },
    "id": "7f41d9f4",
    "outputId": "db2c2735-6a2e-41ad-db84-618c546b690b",
    "papermill": {
     "duration": 0.319165,
     "end_time": "2021-11-18T12:44:03.323175",
     "exception": false,
     "start_time": "2021-11-18T12:44:03.004010",
     "status": "completed"
    },
    "tags": []
   },
   "outputs": [
    {
     "name": "stdout",
     "output_type": "stream",
     "text": [
      "knn_tpr [0.         0.57692308 1.        ]\n",
      "knn_fpr [0.        0.9924812 1.       ]\n",
      "threhold [2 1 0]\n"
     ]
    },
    {
     "data": {
      "image/png": "[encoded data removed]",
      "text/plain": [
       "<Figure size 648x360 with 1 Axes>"
      ]
     },
     "metadata": {
      "needs_background": "light"
     },
     "output_type": "display_data"
    }
   ],
   "source": [
    "from sklearn.metrics import roc_curve,auc\n",
    "knn_tpr,knn_fpr,threshold=roc_curve(y_test,y_pred_knn)\n",
    "knn_auc=auc(knn_tpr,knn_fpr)\n",
    "print('knn_tpr',knn_tpr)\n",
    "print('knn_fpr',knn_fpr)\n",
    "print('threhold',threshold)\n",
    "\n",
    "plt.figure(figsize=(9,5))\n",
    "plt.plot(knn_tpr,knn_fpr,linestyle='-', label='KNN (auc = %0.3f)' % knn_auc)\n",
    "\n",
    "plt.xlabel('False Positive Rate -->')\n",
    "plt.ylabel('True Positive Rate -->')\n",
    "\n",
    "plt.legend()\n",
    "\n",
    "plt.show()"
   ]
  },
  {
   "cell_type": "code",
   "execution_count": 55,
   "id": "7c8423d8",
   "metadata": {
    "execution": {
     "iopub.execute_input": "2021-11-18T12:44:03.499425Z",
     "iopub.status.busy": "2021-11-18T12:44:03.498938Z",
     "iopub.status.idle": "2021-11-18T12:44:03.560366Z",
     "shell.execute_reply": "2021-11-18T12:44:03.559741Z",
     "shell.execute_reply.started": "2021-11-18T12:42:09.693955Z"
    },
    "id": "58c3f432",
    "outputId": "894daa5c-6d85-4dab-e1e0-46de4682629c",
    "papermill": {
     "duration": 0.150331,
     "end_time": "2021-11-18T12:44:03.560494",
     "exception": false,
     "start_time": "2021-11-18T12:44:03.410163",
     "status": "completed"
    },
    "tags": []
   },
   "outputs": [
    {
     "name": "stdout",
     "output_type": "stream",
     "text": [
      "train Score Value :  [0.82633053 0.80952381 0.81512605 0.81005587 0.81284916 0.79329609]\n",
      "Test Score Value :  [0.72222222 0.77777778 0.77777778 0.8028169  0.76056338 0.87323944]\n",
      "Cross validation is 78.57329160146061\n"
     ]
    }
   ],
   "source": [
    "from sklearn.tree import DecisionTreeClassifier\n",
    "from sklearn.model_selection import cross_validate\n",
    "from sklearn.model_selection import cross_val_score\n",
    "\n",
    "dt=DecisionTreeClassifier(criterion = 'gini',random_state=22,max_depth=3)\n",
    "CrossValidateValues_dt = cross_validate(dt,X_train,y_train,cv =6,return_train_score = True) \n",
    "\n",
    "print('train Score Value : ', CrossValidateValues_dt['train_score'])\n",
    "print('Test Score Value : ', CrossValidateValues_dt['test_score'])\n",
    "\n",
    "#print('//////////////////////////////////////')\n",
    "\n",
    "# Showing Results\n",
    "\n",
    "# Showing Results\n",
    "score4_train = cross_val_score(estimator = dt, X = X_train, y = y_train, cv = 6)\n",
    "print(\"Cross validation is\",np.mean(score4_train)*100)"
   ]
  },
  {
   "cell_type": "code",
   "execution_count": 56,
   "id": "a0950f0b",
   "metadata": {
    "execution": {
     "iopub.execute_input": "2021-11-18T12:44:03.738922Z",
     "iopub.status.busy": "2021-11-18T12:44:03.738258Z",
     "iopub.status.idle": "2021-11-18T12:44:03.743242Z",
     "shell.execute_reply": "2021-11-18T12:44:03.742634Z",
     "shell.execute_reply.started": "2021-11-18T12:42:09.758889Z"
    },
    "id": "4aba6f57",
    "outputId": "17136e2f-c5e4-4b4b-c916-e2432c344046",
    "papermill": {
     "duration": 0.095513,
     "end_time": "2021-11-18T12:44:03.743376",
     "exception": false,
     "start_time": "2021-11-18T12:44:03.647863",
     "status": "completed"
    },
    "tags": []
   },
   "outputs": [
    {
     "data": {
      "text/plain": [
       "DecisionTreeClassifier(max_depth=3, random_state=22)"
      ]
     },
     "execution_count": 56,
     "metadata": {},
     "output_type": "execute_result"
    }
   ],
   "source": [
    "dt.fit(X_train,y_train)"
   ]
  },
  {
   "cell_type": "code",
   "execution_count": 57,
   "id": "4d557905",
   "metadata": {
    "execution": {
     "iopub.execute_input": "2021-11-18T12:44:04.007340Z",
     "iopub.status.busy": "2021-11-18T12:44:04.006633Z",
     "iopub.status.idle": "2021-11-18T12:44:04.011238Z",
     "shell.execute_reply": "2021-11-18T12:44:04.011638Z",
     "shell.execute_reply.started": "2021-11-18T12:42:09.769700Z"
    },
    "id": "885d1079",
    "outputId": "c45fd6e0-9635-459b-e513-2d06be1b896b",
    "papermill": {
     "duration": 0.138419,
     "end_time": "2021-11-18T12:44:04.011781",
     "exception": false,
     "start_time": "2021-11-18T12:44:03.873362",
     "status": "completed"
    },
    "tags": []
   },
   "outputs": [
    {
     "name": "stdout",
     "output_type": "stream",
     "text": [
      "Y Test:  [[1]\n",
      " [1]\n",
      " [0]\n",
      " [1]\n",
      " [0]]\n",
      "Y Pred [1 1 1 1 1]\n"
     ]
    }
   ],
   "source": [
    "y_pred_dt=dt.predict(X_test)\n",
    "print('Y Test: ',y_test[:5,:])\n",
    "print('Y Pred',y_pred_dt[:5,])"
   ]
  },
  {
   "cell_type": "code",
   "execution_count": 58,
   "id": "e7acbd52",
   "metadata": {
    "execution": {
     "iopub.execute_input": "2021-11-18T12:44:04.189487Z",
     "iopub.status.busy": "2021-11-18T12:44:04.188978Z",
     "iopub.status.idle": "2021-11-18T12:44:04.195677Z",
     "shell.execute_reply": "2021-11-18T12:44:04.196058Z",
     "shell.execute_reply.started": "2021-11-18T12:42:09.781721Z"
    },
    "id": "980d3cfb",
    "outputId": "c9dcb45c-9971-45d6-8fd2-565db09f18cf",
    "papermill": {
     "duration": 0.09711,
     "end_time": "2021-11-18T12:44:04.196214",
     "exception": false,
     "start_time": "2021-11-18T12:44:04.099104",
     "status": "completed"
    },
    "tags": []
   },
   "outputs": [
    {
     "name": "stdout",
     "output_type": "stream",
     "text": [
      "Accuracy Score 0.8378378378378378\n"
     ]
    }
   ],
   "source": [
    "from sklearn.metrics import accuracy_score\n",
    "accuracy_dt=accuracy_score(y_test,y_pred_dt)\n",
    "print('Accuracy Score',accuracy_dt)"
   ]
  },
  {
   "cell_type": "code",
   "execution_count": 59,
   "id": "65460d24",
   "metadata": {
    "execution": {
     "iopub.execute_input": "2021-11-18T12:44:04.375566Z",
     "iopub.status.busy": "2021-11-18T12:44:04.375046Z",
     "iopub.status.idle": "2021-11-18T12:44:04.583414Z",
     "shell.execute_reply": "2021-11-18T12:44:04.582599Z",
     "shell.execute_reply.started": "2021-11-18T12:42:09.794102Z"
    },
    "id": "09acbcd3",
    "outputId": "4bf15226-eed6-4c75-d44f-3d98bc6397c3",
    "papermill": {
     "duration": 0.299412,
     "end_time": "2021-11-18T12:44:04.583558",
     "exception": false,
     "start_time": "2021-11-18T12:44:04.284146",
     "status": "completed"
    },
    "tags": []
   },
   "outputs": [
    {
     "name": "stdout",
     "output_type": "stream",
     "text": [
      "[[ 23  29]\n",
      " [  1 132]]\n"
     ]
    },
    {
     "data": {
      "image/png": "[encoded data removed]",
      "text/plain": [
       "<Figure size 648x360 with 2 Axes>"
      ]
     },
     "metadata": {
      "needs_background": "light"
     },
     "output_type": "display_data"
    }
   ],
   "source": [
    "from sklearn.metrics import confusion_matrix\n",
    "cm=confusion_matrix(y_test,y_pred_dt)\n",
    "print(cm)\n",
    "plt.figure(figsize=(9,5))\n",
    "sns.heatmap(cm,center=True,annot=True)\n",
    "plt.show()"
   ]
  },
  {
   "cell_type": "code",
   "execution_count": 60,
   "id": "cab009a8",
   "metadata": {
    "execution": {
     "iopub.execute_input": "2021-11-18T12:44:04.852470Z",
     "iopub.status.busy": "2021-11-18T12:44:04.851573Z",
     "iopub.status.idle": "2021-11-18T12:44:04.860903Z",
     "shell.execute_reply": "2021-11-18T12:44:04.860129Z",
     "shell.execute_reply.started": "2021-11-18T12:42:10.037611Z"
    },
    "id": "ed026057",
    "outputId": "63df1cac-411d-4489-db50-80733192f3cb",
    "papermill": {
     "duration": 0.143987,
     "end_time": "2021-11-18T12:44:04.861056",
     "exception": false,
     "start_time": "2021-11-18T12:44:04.717069",
     "status": "completed"
    },
    "tags": []
   },
   "outputs": [
    {
     "name": "stdout",
     "output_type": "stream",
     "text": [
      "              precision    recall  f1-score   support\n",
      "\n",
      "           0       0.96      0.44      0.61        52\n",
      "           1       0.82      0.99      0.90       133\n",
      "\n",
      "    accuracy                           0.84       185\n",
      "   macro avg       0.89      0.72      0.75       185\n",
      "weighted avg       0.86      0.84      0.82       185\n",
      "\n"
     ]
    }
   ],
   "source": [
    "from sklearn.metrics import classification_report\n",
    "cr=classification_report(y_test,y_pred_dt)\n",
    "print(cr)"
   ]
  },
  {
   "cell_type": "code",
   "execution_count": 61,
   "id": "2051513b",
   "metadata": {
    "execution": {
     "iopub.execute_input": "2021-11-18T12:44:05.126020Z",
     "iopub.status.busy": "2021-11-18T12:44:05.125168Z",
     "iopub.status.idle": "2021-11-18T12:44:05.315214Z",
     "shell.execute_reply": "2021-11-18T12:44:05.314735Z",
     "shell.execute_reply.started": "2021-11-18T12:42:10.052279Z"
    },
    "id": "e50ec769",
    "outputId": "d8e26a45-8dc0-4305-a98a-47d2ccec80ee",
    "papermill": {
     "duration": 0.323591,
     "end_time": "2021-11-18T12:44:05.315347",
     "exception": false,
     "start_time": "2021-11-18T12:44:04.991756",
     "status": "completed"
    },
    "tags": []
   },
   "outputs": [
    {
     "name": "stdout",
     "output_type": "stream",
     "text": [
      "dt_tpr Value  :  [0.         0.55769231 1.        ]\n",
      "dt_fpr Value  :  [0.        0.9924812 1.       ]\n",
      "thresholds Value  :  [2 1 0]\n"
     ]
    },
    {
     "data": {
      "image/png": "[encoded data removed]",
      "text/plain": [
       "<Figure size 500x500 with 1 Axes>"
      ]
     },
     "metadata": {
      "needs_background": "light"
     },
     "output_type": "display_data"
    }
   ],
   "source": [
    "from sklearn.metrics import roc_curve,auc\n",
    "dt_tpr,dt_fpr,threshold=roc_curve(y_test,y_pred_dt)\n",
    "dt_auc=auc(dt_tpr,dt_fpr)\n",
    "print('dt_tpr Value  : ', dt_tpr)\n",
    "print('dt_fpr Value  : ', dt_fpr)\n",
    "print('thresholds Value  : ', threshold)\n",
    "\n",
    "#Draw ROC Curve && AUC [Area Under The Curve]\n",
    "\n",
    "plt.figure(figsize=(5, 5), dpi=100)\n",
    "plt.plot(dt_tpr, dt_fpr, linestyle='--', label='DecisionTree (auc = %0.3f)' % dt_auc)\n",
    "\n",
    "plt.xlabel('True Positive Rate -->')\n",
    "plt.ylabel('False Positive Rate -->')\n",
    "\n",
    "plt.legend()\n",
    "plt.show()"
   ]
  },
  {
   "cell_type": "code",
   "execution_count": 62,
   "id": "842dc5f7",
   "metadata": {
    "execution": {
     "iopub.execute_input": "2021-11-18T12:44:05.499783Z",
     "iopub.status.busy": "2021-11-18T12:44:05.499268Z",
     "iopub.status.idle": "2021-11-18T12:44:07.638478Z",
     "shell.execute_reply": "2021-11-18T12:44:07.637908Z",
     "shell.execute_reply.started": "2021-11-18T12:42:10.285834Z"
    },
    "id": "dff20c2d",
    "outputId": "1e94127e-4a43-4114-d6c5-4a5ae7d69afd",
    "papermill": {
     "duration": 2.23234,
     "end_time": "2021-11-18T12:44:07.638624",
     "exception": false,
     "start_time": "2021-11-18T12:44:05.406284",
     "status": "completed"
    },
    "tags": []
   },
   "outputs": [
    {
     "name": "stderr",
     "output_type": "stream",
     "text": [
      "/opt/conda/lib/python3.7/site-packages/sklearn/model_selection/_validation.py:531: DataConversionWarning: A column-vector y was passed when a 1d array was expected. Please change the shape of y to (n_samples,), for example using ravel().\n",
      "  estimator.fit(X_train, y_train, **fit_params)\n",
      "/opt/conda/lib/python3.7/site-packages/sklearn/model_selection/_validation.py:531: DataConversionWarning: A column-vector y was passed when a 1d array was expected. Please change the shape of y to (n_samples,), for example using ravel().\n",
      "  estimator.fit(X_train, y_train, **fit_params)\n",
      "/opt/conda/lib/python3.7/site-packages/sklearn/model_selection/_validation.py:531: DataConversionWarning: A column-vector y was passed when a 1d array was expected. Please change the shape of y to (n_samples,), for example using ravel().\n",
      "  estimator.fit(X_train, y_train, **fit_params)\n",
      "/opt/conda/lib/python3.7/site-packages/sklearn/model_selection/_validation.py:531: DataConversionWarning: A column-vector y was passed when a 1d array was expected. Please change the shape of y to (n_samples,), for example using ravel().\n",
      "  estimator.fit(X_train, y_train, **fit_params)\n",
      "/opt/conda/lib/python3.7/site-packages/sklearn/model_selection/_validation.py:531: DataConversionWarning: A column-vector y was passed when a 1d array was expected. Please change the shape of y to (n_samples,), for example using ravel().\n",
      "  estimator.fit(X_train, y_train, **fit_params)\n",
      "/opt/conda/lib/python3.7/site-packages/sklearn/model_selection/_validation.py:531: DataConversionWarning: A column-vector y was passed when a 1d array was expected. Please change the shape of y to (n_samples,), for example using ravel().\n",
      "  estimator.fit(X_train, y_train, **fit_params)\n",
      "/opt/conda/lib/python3.7/site-packages/sklearn/model_selection/_validation.py:531: DataConversionWarning: A column-vector y was passed when a 1d array was expected. Please change the shape of y to (n_samples,), for example using ravel().\n",
      "  estimator.fit(X_train, y_train, **fit_params)\n"
     ]
    },
    {
     "name": "stdout",
     "output_type": "stream",
     "text": [
      "train Score Value :  [0.81232493 0.79831933 0.80672269 0.79608939 0.80446927 0.7849162 ]\n",
      "Test Score Value :  [0.73611111 0.80555556 0.79166667 0.8028169  0.77464789 0.87323944]\n"
     ]
    },
    {
     "name": "stderr",
     "output_type": "stream",
     "text": [
      "/opt/conda/lib/python3.7/site-packages/sklearn/model_selection/_validation.py:531: DataConversionWarning: A column-vector y was passed when a 1d array was expected. Please change the shape of y to (n_samples,), for example using ravel().\n",
      "  estimator.fit(X_train, y_train, **fit_params)\n",
      "/opt/conda/lib/python3.7/site-packages/sklearn/model_selection/_validation.py:531: DataConversionWarning: A column-vector y was passed when a 1d array was expected. Please change the shape of y to (n_samples,), for example using ravel().\n",
      "  estimator.fit(X_train, y_train, **fit_params)\n",
      "/opt/conda/lib/python3.7/site-packages/sklearn/model_selection/_validation.py:531: DataConversionWarning: A column-vector y was passed when a 1d array was expected. Please change the shape of y to (n_samples,), for example using ravel().\n",
      "  estimator.fit(X_train, y_train, **fit_params)\n",
      "/opt/conda/lib/python3.7/site-packages/sklearn/model_selection/_validation.py:531: DataConversionWarning: A column-vector y was passed when a 1d array was expected. Please change the shape of y to (n_samples,), for example using ravel().\n",
      "  estimator.fit(X_train, y_train, **fit_params)\n",
      "/opt/conda/lib/python3.7/site-packages/sklearn/model_selection/_validation.py:531: DataConversionWarning: A column-vector y was passed when a 1d array was expected. Please change the shape of y to (n_samples,), for example using ravel().\n",
      "  estimator.fit(X_train, y_train, **fit_params)\n"
     ]
    },
    {
     "name": "stdout",
     "output_type": "stream",
     "text": [
      "Cross validation is 79.7339593114241\n"
     ]
    }
   ],
   "source": [
    "from sklearn.ensemble import RandomForestClassifier \n",
    "from sklearn.model_selection import cross_validate\n",
    "from sklearn.model_selection import cross_val_score\n",
    "\n",
    "rf=RandomForestClassifier(criterion = 'entropy',random_state=22,max_depth=3,n_estimators = 100)\n",
    "CrossValidateValues_rf = cross_validate(rf,X_train,y_train,cv = 6,return_train_score = True) \n",
    "\n",
    "print('train Score Value : ', CrossValidateValues_rf['train_score'])\n",
    "print('Test Score Value : ', CrossValidateValues_rf['test_score'])\n",
    "\n",
    "#print('//////////////////////////////////////')\n",
    "\n",
    "# Showing Results\n",
    "\n",
    "# Showing Results\n",
    "score5_train = cross_val_score(estimator =rf, X = X_train, y = y_train, cv = 6)\n",
    "print(\"Cross validation is\",np.mean(score5_train)*100)"
   ]
  },
  {
   "cell_type": "code",
   "execution_count": 63,
   "id": "c3f1b914",
   "metadata": {
    "execution": {
     "iopub.execute_input": "2021-11-18T12:44:07.944137Z",
     "iopub.status.busy": "2021-11-18T12:44:07.928419Z",
     "iopub.status.idle": "2021-11-18T12:44:08.059321Z",
     "shell.execute_reply": "2021-11-18T12:44:08.059961Z",
     "shell.execute_reply.started": "2021-11-18T12:42:12.816491Z"
    },
    "id": "4ec138d9",
    "outputId": "c82cfe45-f7b6-46b4-8580-14d49b8e10fe",
    "papermill": {
     "duration": 0.281918,
     "end_time": "2021-11-18T12:44:08.060160",
     "exception": false,
     "start_time": "2021-11-18T12:44:07.778242",
     "status": "completed"
    },
    "tags": []
   },
   "outputs": [
    {
     "name": "stderr",
     "output_type": "stream",
     "text": [
      "/opt/conda/lib/python3.7/site-packages/ipykernel_launcher.py:1: DataConversionWarning: A column-vector y was passed when a 1d array was expected. Please change the shape of y to (n_samples,), for example using ravel().\n",
      "  \"\"\"Entry point for launching an IPython kernel.\n"
     ]
    },
    {
     "data": {
      "text/plain": [
       "RandomForestClassifier(criterion='entropy', max_depth=3, random_state=22)"
      ]
     },
     "execution_count": 63,
     "metadata": {},
     "output_type": "execute_result"
    }
   ],
   "source": [
    "rf.fit(X_train,y_train)"
   ]
  },
  {
   "cell_type": "code",
   "execution_count": 64,
   "id": "263c7d7e",
   "metadata": {
    "execution": {
     "iopub.execute_input": "2021-11-18T12:44:08.353949Z",
     "iopub.status.busy": "2021-11-18T12:44:08.353027Z",
     "iopub.status.idle": "2021-11-18T12:44:08.361138Z",
     "shell.execute_reply": "2021-11-18T12:44:08.361528Z",
     "shell.execute_reply.started": "2021-11-18T12:42:13.022940Z"
    },
    "id": "42209fa4",
    "outputId": "aaee6fba-3806-4bd0-e245-a27c74dadf9e",
    "papermill": {
     "duration": 0.161153,
     "end_time": "2021-11-18T12:44:08.361669",
     "exception": false,
     "start_time": "2021-11-18T12:44:08.200516",
     "status": "completed"
    },
    "tags": []
   },
   "outputs": [
    {
     "name": "stdout",
     "output_type": "stream",
     "text": [
      "Y Test:  [[1]\n",
      " [1]\n",
      " [0]\n",
      " [1]\n",
      " [0]]\n",
      "Y Pred [1 1 1 1 1]\n"
     ]
    }
   ],
   "source": [
    "y_pred_rf=rf.predict(X_test)\n",
    "print('Y Test: ',y_test[:5,:])\n",
    "print('Y Pred',y_pred_rf[:5,])"
   ]
  },
  {
   "cell_type": "code",
   "execution_count": 65,
   "id": "5ad0d706",
   "metadata": {
    "execution": {
     "iopub.execute_input": "2021-11-18T12:44:08.555340Z",
     "iopub.status.busy": "2021-11-18T12:44:08.554652Z",
     "iopub.status.idle": "2021-11-18T12:44:08.559090Z",
     "shell.execute_reply": "2021-11-18T12:44:08.558484Z",
     "shell.execute_reply.started": "2021-11-18T12:42:13.042117Z"
    },
    "id": "997bac4b",
    "outputId": "d314b318-a3fe-4104-a13d-f577147843bb",
    "papermill": {
     "duration": 0.103254,
     "end_time": "2021-11-18T12:44:08.559241",
     "exception": false,
     "start_time": "2021-11-18T12:44:08.455987",
     "status": "completed"
    },
    "tags": []
   },
   "outputs": [
    {
     "name": "stdout",
     "output_type": "stream",
     "text": [
      "Accuracy Score 0.8324324324324325\n"
     ]
    }
   ],
   "source": [
    "from sklearn.metrics import accuracy_score\n",
    "accuracy_rf=accuracy_score(y_test,y_pred_rf)\n",
    "print('Accuracy Score',accuracy_rf)"
   ]
  },
  {
   "cell_type": "code",
   "execution_count": 66,
   "id": "e7be7871",
   "metadata": {
    "execution": {
     "iopub.execute_input": "2021-11-18T12:44:08.859975Z",
     "iopub.status.busy": "2021-11-18T12:44:08.843541Z",
     "iopub.status.idle": "2021-11-18T12:44:09.042918Z",
     "shell.execute_reply": "2021-11-18T12:44:09.043318Z",
     "shell.execute_reply.started": "2021-11-18T12:42:13.052060Z"
    },
    "id": "274d09bb",
    "outputId": "4fdd04a7-5153-4853-af05-c5e8f39edc2e",
    "papermill": {
     "duration": 0.346372,
     "end_time": "2021-11-18T12:44:09.043460",
     "exception": false,
     "start_time": "2021-11-18T12:44:08.697088",
     "status": "completed"
    },
    "tags": []
   },
   "outputs": [
    {
     "name": "stdout",
     "output_type": "stream",
     "text": [
      "[[ 24  28]\n",
      " [  3 130]]\n"
     ]
    },
    {
     "data": {
      "image/png": "[encoded data removed]",
      "text/plain": [
       "<Figure size 648x360 with 2 Axes>"
      ]
     },
     "metadata": {
      "needs_background": "light"
     },
     "output_type": "display_data"
    }
   ],
   "source": [
    "from sklearn.metrics import confusion_matrix\n",
    "cm=confusion_matrix(y_test,y_pred_rf)\n",
    "print(cm)\n",
    "plt.figure(figsize=(9,5))\n",
    "sns.heatmap(cm,center=True,annot=True)\n",
    "plt.show()"
   ]
  },
  {
   "cell_type": "code",
   "execution_count": 67,
   "id": "c031f746",
   "metadata": {
    "execution": {
     "iopub.execute_input": "2021-11-18T12:44:09.237779Z",
     "iopub.status.busy": "2021-11-18T12:44:09.236594Z",
     "iopub.status.idle": "2021-11-18T12:44:09.247557Z",
     "shell.execute_reply": "2021-11-18T12:44:09.248048Z",
     "shell.execute_reply.started": "2021-11-18T12:42:13.254006Z"
    },
    "id": "f4385efd",
    "outputId": "740e4ff8-77c7-402b-8b42-ba99bf8954a8",
    "papermill": {
     "duration": 0.108904,
     "end_time": "2021-11-18T12:44:09.248215",
     "exception": false,
     "start_time": "2021-11-18T12:44:09.139311",
     "status": "completed"
    },
    "tags": []
   },
   "outputs": [
    {
     "name": "stdout",
     "output_type": "stream",
     "text": [
      "              precision    recall  f1-score   support\n",
      "\n",
      "           0       0.89      0.46      0.61        52\n",
      "           1       0.82      0.98      0.89       133\n",
      "\n",
      "    accuracy                           0.83       185\n",
      "   macro avg       0.86      0.72      0.75       185\n",
      "weighted avg       0.84      0.83      0.81       185\n",
      "\n"
     ]
    }
   ],
   "source": [
    "from sklearn.metrics import classification_report\n",
    "cr=classification_report(y_test,y_pred_rf)\n",
    "print(cr)"
   ]
  },
  {
   "cell_type": "code",
   "execution_count": 68,
   "id": "80deecac",
   "metadata": {
    "execution": {
     "iopub.execute_input": "2021-11-18T12:44:09.449436Z",
     "iopub.status.busy": "2021-11-18T12:44:09.448799Z",
     "iopub.status.idle": "2021-11-18T12:44:09.637916Z",
     "shell.execute_reply": "2021-11-18T12:44:09.637387Z",
     "shell.execute_reply.started": "2021-11-18T12:42:13.272557Z"
    },
    "id": "0bd9d35e",
    "outputId": "64dc94c4-3641-49d4-94be-7690f50d8f78",
    "papermill": {
     "duration": 0.293097,
     "end_time": "2021-11-18T12:44:09.638035",
     "exception": false,
     "start_time": "2021-11-18T12:44:09.344938",
     "status": "completed"
    },
    "tags": []
   },
   "outputs": [
    {
     "name": "stdout",
     "output_type": "stream",
     "text": [
      "rf_tpr Value  :  [0.         0.53846154 1.        ]\n",
      "rf_fpr Value  :  [0.         0.97744361 1.        ]\n",
      "thresholds Value  :  [2 1 0]\n"
     ]
    },
    {
     "data": {
      "image/png": "[encoded data removed]",
      "text/plain": [
       "<Figure size 500x500 with 1 Axes>"
      ]
     },
     "metadata": {
      "needs_background": "light"
     },
     "output_type": "display_data"
    }
   ],
   "source": [
    "from sklearn.metrics import roc_curve,auc\n",
    "rf_tpr,rf_fpr,threshold=roc_curve(y_test,y_pred_rf)\n",
    "rf_auc=auc(rf_tpr,rf_fpr)\n",
    "print('rf_tpr Value  : ', rf_tpr)\n",
    "print('rf_fpr Value  : ', rf_fpr)\n",
    "print('thresholds Value  : ', threshold)\n",
    "\n",
    "#Draw ROC Curve && AUC [Area Under The Curve]\n",
    "\n",
    "plt.figure(figsize=(5, 5), dpi=100)\n",
    "plt.plot(rf_tpr, rf_fpr, linestyle='-', label='Random Force (auc = %0.3f)' % rf_auc)\n",
    "\n",
    "plt.xlabel('True Positive Rate -->')\n",
    "plt.ylabel('False Positive Rate -->')\n",
    "\n",
    "plt.legend()\n",
    "plt.show()"
   ]
  },
  {
   "cell_type": "code",
   "execution_count": 69,
   "id": "a6f76801",
   "metadata": {
    "execution": {
     "iopub.execute_input": "2021-11-18T12:44:09.836592Z",
     "iopub.status.busy": "2021-11-18T12:44:09.836079Z",
     "iopub.status.idle": "2021-11-18T12:44:09.868647Z",
     "shell.execute_reply": "2021-11-18T12:44:09.869036Z",
     "shell.execute_reply.started": "2021-11-18T12:42:13.464177Z"
    },
    "id": "3ef33c6d",
    "outputId": "82bf6b45-ed2d-4a46-f984-0b5bac291a80",
    "papermill": {
     "duration": 0.134536,
     "end_time": "2021-11-18T12:44:09.869170",
     "exception": false,
     "start_time": "2021-11-18T12:44:09.734634",
     "status": "completed"
    },
    "tags": []
   },
   "outputs": [
    {
     "name": "stdout",
     "output_type": "stream",
     "text": [
      "train Score Value :  [0.80466472 0.79300292 0.79883382 0.79300292 0.78488372]\n",
      "Test Score Value :  [0.74418605 0.81395349 0.77906977 0.80232558 0.83529412]\n",
      "Cross validation is 78.5602503912363\n"
     ]
    },
    {
     "name": "stderr",
     "output_type": "stream",
     "text": [
      "/opt/conda/lib/python3.7/site-packages/sklearn/utils/validation.py:72: DataConversionWarning: A column-vector y was passed when a 1d array was expected. Please change the shape of y to (n_samples, ), for example using ravel().\n",
      "  return f(**kwargs)\n",
      "/opt/conda/lib/python3.7/site-packages/sklearn/utils/validation.py:72: DataConversionWarning: A column-vector y was passed when a 1d array was expected. Please change the shape of y to (n_samples, ), for example using ravel().\n",
      "  return f(**kwargs)\n",
      "/opt/conda/lib/python3.7/site-packages/sklearn/utils/validation.py:72: DataConversionWarning: A column-vector y was passed when a 1d array was expected. Please change the shape of y to (n_samples, ), for example using ravel().\n",
      "  return f(**kwargs)\n",
      "/opt/conda/lib/python3.7/site-packages/sklearn/utils/validation.py:72: DataConversionWarning: A column-vector y was passed when a 1d array was expected. Please change the shape of y to (n_samples, ), for example using ravel().\n",
      "  return f(**kwargs)\n",
      "/opt/conda/lib/python3.7/site-packages/sklearn/utils/validation.py:72: DataConversionWarning: A column-vector y was passed when a 1d array was expected. Please change the shape of y to (n_samples, ), for example using ravel().\n",
      "  return f(**kwargs)\n",
      "/opt/conda/lib/python3.7/site-packages/sklearn/utils/validation.py:72: DataConversionWarning: A column-vector y was passed when a 1d array was expected. Please change the shape of y to (n_samples, ), for example using ravel().\n",
      "  return f(**kwargs)\n",
      "/opt/conda/lib/python3.7/site-packages/sklearn/utils/validation.py:72: DataConversionWarning: A column-vector y was passed when a 1d array was expected. Please change the shape of y to (n_samples, ), for example using ravel().\n",
      "  return f(**kwargs)\n",
      "/opt/conda/lib/python3.7/site-packages/sklearn/utils/validation.py:72: DataConversionWarning: A column-vector y was passed when a 1d array was expected. Please change the shape of y to (n_samples, ), for example using ravel().\n",
      "  return f(**kwargs)\n",
      "/opt/conda/lib/python3.7/site-packages/sklearn/utils/validation.py:72: DataConversionWarning: A column-vector y was passed when a 1d array was expected. Please change the shape of y to (n_samples, ), for example using ravel().\n",
      "  return f(**kwargs)\n",
      "/opt/conda/lib/python3.7/site-packages/sklearn/utils/validation.py:72: DataConversionWarning: A column-vector y was passed when a 1d array was expected. Please change the shape of y to (n_samples, ), for example using ravel().\n",
      "  return f(**kwargs)\n",
      "/opt/conda/lib/python3.7/site-packages/sklearn/utils/validation.py:72: DataConversionWarning: A column-vector y was passed when a 1d array was expected. Please change the shape of y to (n_samples, ), for example using ravel().\n",
      "  return f(**kwargs)\n"
     ]
    }
   ],
   "source": [
    "from sklearn.naive_bayes import BernoulliNB\n",
    "from sklearn.model_selection import cross_validate\n",
    "from sklearn.model_selection import cross_val_score\n",
    "\n",
    "NB=BernoulliNB()\n",
    "CrossValidateValues_nb = cross_validate(NB,X_train,y_train,cv = 5,return_train_score = True) \n",
    "\n",
    "print('train Score Value : ', CrossValidateValues_nb['train_score'])\n",
    "print('Test Score Value : ', CrossValidateValues_nb['test_score'])\n",
    "\n",
    "#print('//////////////////////////////////////')\n",
    "\n",
    "# Showing Results\n",
    "\n",
    "# Showing Results\n",
    "score6_train = cross_val_score(estimator =NB, X = X_train, y = y_train, cv = 6)\n",
    "print(\"Cross validation is\",np.mean(score6_train)*100)"
   ]
  },
  {
   "cell_type": "code",
   "execution_count": 70,
   "id": "7bde9911",
   "metadata": {
    "execution": {
     "iopub.execute_input": "2021-11-18T12:44:10.067829Z",
     "iopub.status.busy": "2021-11-18T12:44:10.067360Z",
     "iopub.status.idle": "2021-11-18T12:44:10.071019Z",
     "shell.execute_reply": "2021-11-18T12:44:10.070549Z",
     "shell.execute_reply.started": "2021-11-18T12:42:13.509487Z"
    },
    "id": "0a399082",
    "outputId": "09477021-d622-4842-cddb-f69b8a57aebb",
    "papermill": {
     "duration": 0.106111,
     "end_time": "2021-11-18T12:44:10.071131",
     "exception": false,
     "start_time": "2021-11-18T12:44:09.965020",
     "status": "completed"
    },
    "tags": []
   },
   "outputs": [
    {
     "name": "stderr",
     "output_type": "stream",
     "text": [
      "/opt/conda/lib/python3.7/site-packages/sklearn/utils/validation.py:72: DataConversionWarning: A column-vector y was passed when a 1d array was expected. Please change the shape of y to (n_samples, ), for example using ravel().\n",
      "  return f(**kwargs)\n"
     ]
    },
    {
     "data": {
      "text/plain": [
       "BernoulliNB()"
      ]
     },
     "execution_count": 70,
     "metadata": {},
     "output_type": "execute_result"
    }
   ],
   "source": [
    "NB.fit(X_train,y_train)"
   ]
  },
  {
   "cell_type": "code",
   "execution_count": 71,
   "id": "dd95c74e",
   "metadata": {
    "execution": {
     "iopub.execute_input": "2021-11-18T12:44:10.273739Z",
     "iopub.status.busy": "2021-11-18T12:44:10.273284Z",
     "iopub.status.idle": "2021-11-18T12:44:10.276360Z",
     "shell.execute_reply": "2021-11-18T12:44:10.275871Z",
     "shell.execute_reply.started": "2021-11-18T12:42:13.521509Z"
    },
    "id": "d2144ffc",
    "outputId": "600be69e-a55e-4665-979e-3b9663a4f648",
    "papermill": {
     "duration": 0.107474,
     "end_time": "2021-11-18T12:44:10.276466",
     "exception": false,
     "start_time": "2021-11-18T12:44:10.168992",
     "status": "completed"
    },
    "tags": []
   },
   "outputs": [
    {
     "name": "stdout",
     "output_type": "stream",
     "text": [
      "Y Test \n",
      " [[1]\n",
      " [1]\n",
      " [0]\n",
      " [1]\n",
      " [0]\n",
      " [0]\n",
      " [1]\n",
      " [1]\n",
      " [1]\n",
      " [0]]\n",
      "Predicted Value for BernoulliNBModel is :\n",
      "  [1 1 1 1 1 0 1 1 1 0]\n",
      "Prediction Probabilities Value for BernoulliNBModel is : \n",
      " [[0 0]\n",
      " [0 0]\n",
      " [0 0]\n",
      " [0 0]\n",
      " [0 0]\n",
      " [0 0]\n",
      " [0 0]\n",
      " [0 0]\n",
      " [0 0]\n",
      " [0 0]]\n"
     ]
    }
   ],
   "source": [
    "y_pred_NB = NB.predict(X_test)\n",
    "y_pred_prob = NB.predict_proba(X_test)\n",
    "y_pred_prob=y_pred_prob.astype(int)\n",
    "print('Y Test \\n' ,y_test[:10,:])\n",
    "print('Predicted Value for BernoulliNBModel is :\\n ' , y_pred_NB[:10,])\n",
    "print('Prediction Probabilities Value for BernoulliNBModel is : \\n' , y_pred_prob[:10,:])"
   ]
  },
  {
   "cell_type": "code",
   "execution_count": 72,
   "id": "fb236580",
   "metadata": {
    "execution": {
     "iopub.execute_input": "2021-11-18T12:44:10.477459Z",
     "iopub.status.busy": "2021-11-18T12:44:10.476938Z",
     "iopub.status.idle": "2021-11-18T12:44:10.480069Z",
     "shell.execute_reply": "2021-11-18T12:44:10.479594Z",
     "shell.execute_reply.started": "2021-11-18T12:42:13.532615Z"
    },
    "id": "77b4943f",
    "outputId": "c8ff38d2-7b42-4656-add7-dbbc79d4ee39",
    "papermill": {
     "duration": 0.105407,
     "end_time": "2021-11-18T12:44:10.480176",
     "exception": false,
     "start_time": "2021-11-18T12:44:10.374769",
     "status": "completed"
    },
    "tags": []
   },
   "outputs": [
    {
     "name": "stdout",
     "output_type": "stream",
     "text": [
      "0.8594594594594595\n"
     ]
    }
   ],
   "source": [
    "from sklearn.metrics import accuracy_score\n",
    "accuracy_nb=accuracy_score(y_test,y_pred_NB)\n",
    "print(accuracy_nb)"
   ]
  },
  {
   "cell_type": "code",
   "execution_count": 73,
   "id": "18daf9a9",
   "metadata": {
    "execution": {
     "iopub.execute_input": "2021-11-18T12:44:10.694340Z",
     "iopub.status.busy": "2021-11-18T12:44:10.693822Z",
     "iopub.status.idle": "2021-11-18T12:44:10.880389Z",
     "shell.execute_reply": "2021-11-18T12:44:10.879812Z",
     "shell.execute_reply.started": "2021-11-18T12:42:13.541986Z"
    },
    "id": "84a5ab15",
    "outputId": "d24f0c01-3f53-4e8f-fd51-5f2eaa29f7a1",
    "papermill": {
     "duration": 0.304617,
     "end_time": "2021-11-18T12:44:10.880531",
     "exception": false,
     "start_time": "2021-11-18T12:44:10.575914",
     "status": "completed"
    },
    "tags": []
   },
   "outputs": [
    {
     "name": "stdout",
     "output_type": "stream",
     "text": [
      "[[ 28  24]\n",
      " [  2 131]]\n"
     ]
    },
    {
     "data": {
      "image/png": "[encoded data removed]",
      "text/plain": [
       "<Figure size 648x360 with 2 Axes>"
      ]
     },
     "metadata": {
      "needs_background": "light"
     },
     "output_type": "display_data"
    }
   ],
   "source": [
    "from sklearn.metrics import confusion_matrix\n",
    "cm = confusion_matrix(y_test,y_pred_NB)\n",
    "print(cm)\n",
    "plt.figure(figsize=(9,5))\n",
    "sns.heatmap(cm,center=True,annot=True)\n",
    "plt.show()"
   ]
  },
  {
   "cell_type": "code",
   "execution_count": 74,
   "id": "e44c65df",
   "metadata": {
    "execution": {
     "iopub.execute_input": "2021-11-18T12:44:11.192983Z",
     "iopub.status.busy": "2021-11-18T12:44:11.191561Z",
     "iopub.status.idle": "2021-11-18T12:44:11.199748Z",
     "shell.execute_reply": "2021-11-18T12:44:11.201251Z",
     "shell.execute_reply.started": "2021-11-18T12:42:13.743978Z"
    },
    "id": "3ff9a9f4",
    "outputId": "9541a320-5309-43c9-b0b7-636ebcd21d2b",
    "papermill": {
     "duration": 0.173817,
     "end_time": "2021-11-18T12:44:11.201418",
     "exception": false,
     "start_time": "2021-11-18T12:44:11.027601",
     "status": "completed"
    },
    "tags": []
   },
   "outputs": [
    {
     "name": "stdout",
     "output_type": "stream",
     "text": [
      "              precision    recall  f1-score   support\n",
      "\n",
      "           0       0.93      0.54      0.68        52\n",
      "           1       0.85      0.98      0.91       133\n",
      "\n",
      "    accuracy                           0.86       185\n",
      "   macro avg       0.89      0.76      0.80       185\n",
      "weighted avg       0.87      0.86      0.85       185\n",
      "\n"
     ]
    }
   ],
   "source": [
    "from sklearn.metrics import classification_report\n",
    "cr=classification_report(y_test,y_pred_NB)\n",
    "print(cr)"
   ]
  },
  {
   "cell_type": "code",
   "execution_count": 75,
   "id": "1c1ac69c",
   "metadata": {
    "execution": {
     "iopub.execute_input": "2021-11-18T12:44:11.504055Z",
     "iopub.status.busy": "2021-11-18T12:44:11.503066Z",
     "iopub.status.idle": "2021-11-18T12:44:11.693869Z",
     "shell.execute_reply": "2021-11-18T12:44:11.693481Z",
     "shell.execute_reply.started": "2021-11-18T12:42:13.758426Z"
    },
    "id": "109f2be2",
    "outputId": "6304526f-a20d-4de7-9ed9-23ca71f362b2",
    "papermill": {
     "duration": 0.345,
     "end_time": "2021-11-18T12:44:11.693987",
     "exception": false,
     "start_time": "2021-11-18T12:44:11.348987",
     "status": "completed"
    },
    "tags": []
   },
   "outputs": [
    {
     "name": "stdout",
     "output_type": "stream",
     "text": [
      "nb_tpr Value  :  [0.         0.46153846 1.        ]\n",
      "nb_fpr Value  :  [0.         0.98496241 1.        ]\n",
      "thresholds Value  :  [2 1 0]\n"
     ]
    },
    {
     "data": {
      "image/png": "[encoded data removed]",
      "text/plain": [
       "<Figure size 500x500 with 1 Axes>"
      ]
     },
     "metadata": {
      "needs_background": "light"
     },
     "output_type": "display_data"
    }
   ],
   "source": [
    "from sklearn.metrics import roc_curve,auc\n",
    "nb_tpr,nb_fpr,threshold=roc_curve(y_test,y_pred_NB)\n",
    "nb_auc=auc(nb_tpr,nb_fpr)\n",
    "print('nb_tpr Value  : ', nb_tpr)\n",
    "print('nb_fpr Value  : ', nb_fpr)\n",
    "print('thresholds Value  : ', threshold)\n",
    "\n",
    "#Draw ROC Curve && AUC [Area Under The Curve]\n",
    "\n",
    "plt.figure(figsize=(5, 5), dpi=100)\n",
    "plt.plot(rf_tpr, rf_fpr, linestyle='-', label='Naive Basye (auc = %0.3f)' % nb_auc)\n",
    "\n",
    "plt.xlabel('True Positive Rate -->')\n",
    "plt.ylabel('False Positive Rate -->')\n",
    "\n",
    "plt.legend()\n",
    "plt.show()"
   ]
  },
  {
   "cell_type": "code",
   "execution_count": 76,
   "id": "8971fe0b",
   "metadata": {
    "execution": {
     "iopub.execute_input": "2021-11-18T12:44:11.892112Z",
     "iopub.status.busy": "2021-11-18T12:44:11.891479Z",
     "iopub.status.idle": "2021-11-18T12:44:12.155160Z",
     "shell.execute_reply": "2021-11-18T12:44:12.155547Z",
     "shell.execute_reply.started": "2021-11-18T12:42:13.945183Z"
    },
    "id": "10b4c886",
    "outputId": "96674646-80ce-471b-b748-479926e5395f",
    "papermill": {
     "duration": 0.36447,
     "end_time": "2021-11-18T12:44:12.155680",
     "exception": false,
     "start_time": "2021-11-18T12:44:11.791210",
     "status": "completed"
    },
    "tags": []
   },
   "outputs": [
    {
     "data": {
      "text/plain": [
       "<matplotlib.legend.Legend at 0x7fc624ad8f50>"
      ]
     },
     "execution_count": 76,
     "metadata": {},
     "output_type": "execute_result"
    },
    {
     "data": {
      "image/png": "[encoded data removed]",
      "text/plain": [
       "<Figure size 648x360 with 1 Axes>"
      ]
     },
     "metadata": {
      "needs_background": "light"
     },
     "output_type": "display_data"
    }
   ],
   "source": [
    "from sklearn.metrics import roc_curve, auc\n",
    "\n",
    "LR_tpr,LR_fpr,threshold=roc_curve(y_test,y_pred_LR)\n",
    "LR_auc = auc(LR_tpr, LR_fpr)\n",
    "\n",
    "svm_fpr, svm_tpr, threshold = roc_curve(y_test, y_pred_svc)\n",
    "auc_svm = auc(svm_fpr, svm_tpr)\n",
    "\n",
    "knn_fpr, knn_tpr, threshold = roc_curve(y_test, y_pred_knn)\n",
    "auc_knn = auc(knn_fpr, knn_tpr)\n",
    "\n",
    "dt_fpr, dt_tpr, threshold = roc_curve(y_test, y_pred_dt)\n",
    "auc_dt = auc(dt_fpr, dt_tpr)\n",
    "\n",
    "rf_fpr, rf_tpr, threshold = roc_curve(y_test, y_pred_rf)\n",
    "auc_rf = auc(rf_fpr, rf_tpr)\n",
    "\n",
    "\n",
    "nb_fpr, nb_tpr, threshold = roc_curve(y_test, y_pred_NB)\n",
    "auc_nb = auc(nb_fpr, nb_tpr)\n",
    "\n",
    "plt.figure(figsize=(9, 5))\n",
    "plt.plot(LR_tpr, LR_fpr, marker='o', label='Logistic Regression (auc = %0.3f)' % LR_auc)\n",
    "plt.plot(svm_fpr, svm_tpr, linestyle='--', label='SVM (auc = %0.3f)' % auc_svm)\n",
    "plt.plot(knn_fpr, knn_tpr, linestyle=':', label='KNN (auc = %0.3f)' % auc_knn)\n",
    "plt.plot(dt_fpr, dt_tpr, linestyle='-', label='DT (auc = %0.3f)' % auc_dt)\n",
    "plt.plot(rf_fpr, rf_tpr, linestyle='-', label='RF (auc = %0.3f)' % auc_rf)\n",
    "plt.plot(nb_fpr, nb_tpr, linestyle='--', label='NB (auc = %0.3f)' % auc_nb)\n",
    "\n",
    "\n",
    "\n",
    "plt.xlabel('False Positive Rate -->')\n",
    "plt.ylabel('True Positive Rate -->')\n",
    "\n",
    "plt.legend()"
   ]
  },
  {
   "cell_type": "code",
   "execution_count": 77,
   "id": "55e8cce9",
   "metadata": {
    "execution": {
     "iopub.execute_input": "2021-11-18T12:44:12.365658Z",
     "iopub.status.busy": "2021-11-18T12:44:12.364990Z",
     "iopub.status.idle": "2021-11-18T12:44:12.375410Z",
     "shell.execute_reply": "2021-11-18T12:44:12.375788Z",
     "shell.execute_reply.started": "2021-11-18T12:42:14.272805Z"
    },
    "id": "29517573",
    "outputId": "25898431-6e5b-4653-d9b3-a4165227b739",
    "papermill": {
     "duration": 0.119067,
     "end_time": "2021-11-18T12:44:12.375941",
     "exception": false,
     "start_time": "2021-11-18T12:44:12.256874",
     "status": "completed"
    },
    "tags": []
   },
   "outputs": [
    {
     "data": {
      "text/html": [
       "<div>\n",
       "<style scoped>\n",
       "    .dataframe tbody tr th:only-of-type {\n",
       "        vertical-align: middle;\n",
       "    }\n",
       "\n",
       "    .dataframe tbody tr th {\n",
       "        vertical-align: top;\n",
       "    }\n",
       "\n",
       "    .dataframe thead th {\n",
       "        text-align: right;\n",
       "    }\n",
       "</style>\n",
       "<table border=\"1\" class=\"dataframe\">\n",
       "  <thead>\n",
       "    <tr style=\"text-align: right;\">\n",
       "      <th></th>\n",
       "      <th>Model</th>\n",
       "      <th>Score</th>\n",
       "    </tr>\n",
       "  </thead>\n",
       "  <tbody>\n",
       "    <tr>\n",
       "      <th>5</th>\n",
       "      <td>Naive Bayes</td>\n",
       "      <td>0.859459</td>\n",
       "    </tr>\n",
       "    <tr>\n",
       "      <th>0</th>\n",
       "      <td>Logistic Regression</td>\n",
       "      <td>0.854054</td>\n",
       "    </tr>\n",
       "    <tr>\n",
       "      <th>3</th>\n",
       "      <td>Decision Tree</td>\n",
       "      <td>0.837838</td>\n",
       "    </tr>\n",
       "    <tr>\n",
       "      <th>2</th>\n",
       "      <td>KNN</td>\n",
       "      <td>0.832432</td>\n",
       "    </tr>\n",
       "    <tr>\n",
       "      <th>4</th>\n",
       "      <td>Random Forest</td>\n",
       "      <td>0.832432</td>\n",
       "    </tr>\n",
       "    <tr>\n",
       "      <th>1</th>\n",
       "      <td>Support Vector Machines</td>\n",
       "      <td>0.816216</td>\n",
       "    </tr>\n",
       "  </tbody>\n",
       "</table>\n",
       "</div>"
      ],
      "text/plain": [
       "                     Model     Score\n",
       "5              Naive Bayes  0.859459\n",
       "0      Logistic Regression  0.854054\n",
       "3            Decision Tree  0.837838\n",
       "2                      KNN  0.832432\n",
       "4            Random Forest  0.832432\n",
       "1  Support Vector Machines  0.816216"
      ]
     },
     "execution_count": 77,
     "metadata": {},
     "output_type": "execute_result"
    }
   ],
   "source": [
    "models = pd.DataFrame({\n",
    "    'Model': ['Logistic Regression','Support Vector Machines', 'KNN','Decision Tree', \n",
    "              'Random Forest', 'Naive Bayes'],\n",
    "    'Score': [accuracy_lg, accuracy_s, accuracy_knn, \n",
    "              accuracy_dt, accuracy_rf, accuracy_nb]})\n",
    "models.sort_values(by='Score', ascending=False)"
   ]
  }
 ],
 "metadata": {
  "kernelspec": {
   "display_name": "Python 3",
   "language": "python",
   "name": "python3"
  },
  "language_info": {
   "codemirror_mode": {
    "name": "ipython",
    "version": 3
   },
   "file_extension": ".py",
   "mimetype": "text/x-python",
   "name": "python",
   "nbconvert_exporter": "python",
   "pygments_lexer": "ipython3",
   "version": "3.7.10"
  },
  "papermill": {
   "default_parameters": {},
   "duration": 46.24206,
   "end_time": "2021-11-18T12:44:13.286890",
   "environment_variables": {},
   "exception": null,
   "input_path": "__notebook__.ipynb",
   "output_path": "__notebook__.ipynb",
   "parameters": {},
   "start_time": "2021-11-18T12:43:27.044830",
   "version": "2.3.3"
  }
 },
 "nbformat": 4,
 "nbformat_minor": 5
}
