{
 "cells": [
  {
   "cell_type": "markdown",
   "id": "836dbfcd",
   "metadata": {
    "id": "hEW8m0a-4a1J",
    "papermill": {
     "duration": 0.026305,
     "end_time": "2021-11-18T12:54:47.197031",
     "exception": false,
     "start_time": "2021-11-18T12:54:47.170726",
     "status": "completed"
    },
    "tags": []
   },
   "source": [
    "\n",
    "\n",
    "> Logistic Regression Implementation [ From Scratch ] Without Library 🔝\n",
    "\n",
    "> Classification by Regularizationn\n"
   ]
  },
  {
   "cell_type": "code",
   "execution_count": 1,
   "id": "9118e2b1",
   "metadata": {
    "execution": {
     "iopub.execute_input": "2021-11-18T12:54:47.252389Z",
     "iopub.status.busy": "2021-11-18T12:54:47.251590Z",
     "iopub.status.idle": "2021-11-18T12:54:48.316320Z",
     "shell.execute_reply": "2021-11-18T12:54:48.315407Z",
     "shell.execute_reply.started": "2021-11-18T12:50:52.313062Z"
    },
    "id": "U8XA9E54nUEa",
    "papermill": {
     "duration": 1.097493,
     "end_time": "2021-11-18T12:54:48.316516",
     "exception": false,
     "start_time": "2021-11-18T12:54:47.219023",
     "status": "completed"
    },
    "tags": []
   },
   "outputs": [],
   "source": [
    "import numpy as np\n",
    "import pandas as pd\n",
    "import seaborn as sns\n",
    "import matplotlib.pyplot as plt"
   ]
  },
  {
   "cell_type": "code",
   "execution_count": 2,
   "id": "0bdb22ff",
   "metadata": {
    "execution": {
     "iopub.execute_input": "2021-11-18T12:54:48.367746Z",
     "iopub.status.busy": "2021-11-18T12:54:48.366934Z",
     "iopub.status.idle": "2021-11-18T12:54:48.401567Z",
     "shell.execute_reply": "2021-11-18T12:54:48.402231Z",
     "shell.execute_reply.started": "2021-11-18T12:50:52.675408Z"
    },
    "id": "Grj-xIIfp93y",
    "outputId": "e3abe55a-50b0-4266-a738-1392a9762684",
    "papermill": {
     "duration": 0.06359,
     "end_time": "2021-11-18T12:54:48.402433",
     "exception": false,
     "start_time": "2021-11-18T12:54:48.338843",
     "status": "completed"
    },
    "tags": []
   },
   "outputs": [
    {
     "name": "stdout",
     "output_type": "stream",
     "text": [
      "dataset :\n",
      "     Loan_ID Gender Married Dependents     Education Self_Employed  \\\n",
      "0  LP001002   Male      No          0      Graduate            No   \n",
      "1  LP001003   Male     Yes          1      Graduate            No   \n",
      "2  LP001005   Male     Yes          0      Graduate           Yes   \n",
      "3  LP001006   Male     Yes          0  Not Graduate            No   \n",
      "4  LP001008   Male      No          0      Graduate            No   \n",
      "\n",
      "   ApplicantIncome  CoapplicantIncome  LoanAmount  Loan_Amount_Term  \\\n",
      "0             5849                0.0         NaN             360.0   \n",
      "1             4583             1508.0       128.0             360.0   \n",
      "2             3000                0.0        66.0             360.0   \n",
      "3             2583             2358.0       120.0             360.0   \n",
      "4             6000                0.0       141.0             360.0   \n",
      "\n",
      "   Credit_History Property_Area Loan_Status  \n",
      "0             1.0         Urban           Y  \n",
      "1             1.0         Rural           N  \n",
      "2             1.0         Urban           Y  \n",
      "3             1.0         Urban           Y  \n",
      "4             1.0         Urban           Y  \n"
     ]
    }
   ],
   "source": [
    "dataset = pd.read_csv('../input/predict-loan-approval-problem/train_u6lujuX_CVtuZ9i.csv')\n",
    "print('dataset :\\n',dataset.head(5))"
   ]
  },
  {
   "cell_type": "code",
   "execution_count": 3,
   "id": "b13e3a4b",
   "metadata": {
    "execution": {
     "iopub.execute_input": "2021-11-18T12:54:48.459734Z",
     "iopub.status.busy": "2021-11-18T12:54:48.458992Z",
     "iopub.status.idle": "2021-11-18T12:54:48.467310Z",
     "shell.execute_reply": "2021-11-18T12:54:48.467865Z",
     "shell.execute_reply.started": "2021-11-18T12:50:52.697782Z"
    },
    "id": "gU33lr3k0szV",
    "papermill": {
     "duration": 0.041505,
     "end_time": "2021-11-18T12:54:48.468096",
     "exception": false,
     "start_time": "2021-11-18T12:54:48.426591",
     "status": "completed"
    },
    "tags": []
   },
   "outputs": [],
   "source": [
    "dataset.drop(['Loan_ID'],axis=1,inplace=True)"
   ]
  },
  {
   "cell_type": "code",
   "execution_count": 4,
   "id": "243b96fb",
   "metadata": {
    "execution": {
     "iopub.execute_input": "2021-11-18T12:54:48.517456Z",
     "iopub.status.busy": "2021-11-18T12:54:48.516681Z",
     "iopub.status.idle": "2021-11-18T12:54:48.537386Z",
     "shell.execute_reply": "2021-11-18T12:54:48.537985Z",
     "shell.execute_reply.started": "2021-11-18T12:50:52.706323Z"
    },
    "id": "rQ0B7zgw0zl1",
    "papermill": {
     "duration": 0.047499,
     "end_time": "2021-11-18T12:54:48.538255",
     "exception": false,
     "start_time": "2021-11-18T12:54:48.490756",
     "status": "completed"
    },
    "tags": []
   },
   "outputs": [],
   "source": [
    "import statistics\n",
    "dataset['Gender'] = dataset['Gender'].replace(np.nan,statistics.mode(dataset[\"Gender\"]))\n",
    "dataset['Married'] = dataset['Married'].replace(np.nan,statistics.mode(dataset[\"Married\"]))\n",
    "dataset['Dependents'] = dataset['Dependents'].replace(np.nan,statistics.mode(dataset[\"Dependents\"]))\n",
    "dataset['Self_Employed'] = dataset['Self_Employed'].replace(np.nan,statistics.mode(dataset[\"Self_Employed\"]))\n",
    "dataset['Credit_History'] = dataset['Credit_History'].replace(np.nan,statistics.mode(dataset[\"Credit_History\"]))\n",
    "\n",
    "dataset['LoanAmount'] = dataset['LoanAmount'].replace(np.nan,dataset['LoanAmount'].median())\n",
    "dataset['Loan_Amount_Term'] = dataset['Loan_Amount_Term'].replace(np.nan,dataset['Loan_Amount_Term'].median())"
   ]
  },
  {
   "cell_type": "code",
   "execution_count": 5,
   "id": "65a9dfc7",
   "metadata": {
    "execution": {
     "iopub.execute_input": "2021-11-18T12:54:48.589701Z",
     "iopub.status.busy": "2021-11-18T12:54:48.588920Z",
     "iopub.status.idle": "2021-11-18T12:54:48.757784Z",
     "shell.execute_reply": "2021-11-18T12:54:48.756993Z",
     "shell.execute_reply.started": "2021-11-18T12:50:52.727643Z"
    },
    "id": "z--zV6-r07cE",
    "papermill": {
     "duration": 0.196767,
     "end_time": "2021-11-18T12:54:48.757974",
     "exception": false,
     "start_time": "2021-11-18T12:54:48.561207",
     "status": "completed"
    },
    "tags": []
   },
   "outputs": [],
   "source": [
    "from sklearn.preprocessing import LabelEncoder\n",
    "le = LabelEncoder()\n",
    "\n",
    "dataset['Gender'] = dataset['Gender'].map({'Male':1,'Female':0}) \n",
    "dataset['Married'] = dataset['Married'].map({'Yes':1,'No':0}) \n",
    "dataset['Education'] = dataset['Education'].map({'Graduate':1,'Not Graduate':0}) \n",
    "dataset['Self_Employed'] = dataset['Self_Employed'].map({'Yes':1,'No':0}) \n",
    "dataset['Loan_Status'] = dataset['Loan_Status'].map({'Y':1,'N':0}) \n",
    "dataset['Property_Area'] = dataset['Property_Area'].map({'Rural':0,'Urban':1,'Semiurban':2}) \n",
    "\n",
    "dataset['Dependents'] = le.fit_transform(dataset['Dependents'])"
   ]
  },
  {
   "cell_type": "code",
   "execution_count": 6,
   "id": "6b675b77",
   "metadata": {
    "execution": {
     "iopub.execute_input": "2021-11-18T12:54:48.815013Z",
     "iopub.status.busy": "2021-11-18T12:54:48.814283Z",
     "iopub.status.idle": "2021-11-18T12:54:48.822309Z",
     "shell.execute_reply": "2021-11-18T12:54:48.821675Z",
     "shell.execute_reply.started": "2021-11-18T12:50:52.780546Z"
    },
    "id": "N62vqUdj1BLQ",
    "papermill": {
     "duration": 0.040861,
     "end_time": "2021-11-18T12:54:48.822455",
     "exception": false,
     "start_time": "2021-11-18T12:54:48.781594",
     "status": "completed"
    },
    "tags": []
   },
   "outputs": [],
   "source": [
    "dataset = pd.concat([dataset, pd.get_dummies(dataset['Dependents'], prefix='Dependents')], axis=1)\n",
    "dataset = pd.concat([dataset, pd.get_dummies(dataset['Property_Area'], prefix='Property_Area')], axis=1)"
   ]
  },
  {
   "cell_type": "code",
   "execution_count": 7,
   "id": "c7e849d1",
   "metadata": {
    "execution": {
     "iopub.execute_input": "2021-11-18T12:54:48.874633Z",
     "iopub.status.busy": "2021-11-18T12:54:48.871384Z",
     "iopub.status.idle": "2021-11-18T12:54:48.878915Z",
     "shell.execute_reply": "2021-11-18T12:54:48.878211Z",
     "shell.execute_reply.started": "2021-11-18T12:50:52.790283Z"
    },
    "id": "ZhIW7dqj1DCc",
    "papermill": {
     "duration": 0.033814,
     "end_time": "2021-11-18T12:54:48.879072",
     "exception": false,
     "start_time": "2021-11-18T12:54:48.845258",
     "status": "completed"
    },
    "tags": []
   },
   "outputs": [],
   "source": [
    "dataset.drop(['Dependents','Property_Area'],axis=1,inplace=True)"
   ]
  },
  {
   "cell_type": "code",
   "execution_count": 8,
   "id": "df7d4df3",
   "metadata": {
    "execution": {
     "iopub.execute_input": "2021-11-18T12:54:48.931045Z",
     "iopub.status.busy": "2021-11-18T12:54:48.930371Z",
     "iopub.status.idle": "2021-11-18T12:54:48.932672Z",
     "shell.execute_reply": "2021-11-18T12:54:48.933302Z",
     "shell.execute_reply.started": "2021-11-18T12:50:52.802106Z"
    },
    "id": "39nkE9REqS5i",
    "papermill": {
     "duration": 0.031848,
     "end_time": "2021-11-18T12:54:48.933488",
     "exception": false,
     "start_time": "2021-11-18T12:54:48.901640",
     "status": "completed"
    },
    "tags": []
   },
   "outputs": [],
   "source": [
    "y = dataset['Loan_Status'].values\n",
    "dataset = dataset.drop('Loan_Status',axis=1,inplace=False)\n",
    "X = dataset.values"
   ]
  },
  {
   "cell_type": "code",
   "execution_count": 9,
   "id": "65e035ce",
   "metadata": {
    "execution": {
     "iopub.execute_input": "2021-11-18T12:54:48.983279Z",
     "iopub.status.busy": "2021-11-18T12:54:48.982351Z",
     "iopub.status.idle": "2021-11-18T12:54:48.986463Z",
     "shell.execute_reply": "2021-11-18T12:54:48.987077Z",
     "shell.execute_reply.started": "2021-11-18T12:50:52.813628Z"
    },
    "papermill": {
     "duration": 0.030925,
     "end_time": "2021-11-18T12:54:48.987258",
     "exception": false,
     "start_time": "2021-11-18T12:54:48.956333",
     "status": "completed"
    },
    "tags": []
   },
   "outputs": [],
   "source": [
    "one_column = np.ones((X.shape[0],1))\n",
    "X = np.concatenate((one_column, X), axis = 1)"
   ]
  },
  {
   "cell_type": "code",
   "execution_count": 10,
   "id": "59e5d5c7",
   "metadata": {
    "execution": {
     "iopub.execute_input": "2021-11-18T12:54:49.037064Z",
     "iopub.status.busy": "2021-11-18T12:54:49.036326Z",
     "iopub.status.idle": "2021-11-18T12:54:49.039985Z",
     "shell.execute_reply": "2021-11-18T12:54:49.040509Z",
     "shell.execute_reply.started": "2021-11-18T12:50:52.827186Z"
    },
    "id": "qDrmvqICrKxM",
    "papermill": {
     "duration": 0.029926,
     "end_time": "2021-11-18T12:54:49.040686",
     "exception": false,
     "start_time": "2021-11-18T12:54:49.010760",
     "status": "completed"
    },
    "tags": []
   },
   "outputs": [],
   "source": [
    "y=np.reshape(y,(y.shape[0],1))\n",
    "theta2 = np.zeros(X.shape[1])"
   ]
  },
  {
   "cell_type": "code",
   "execution_count": 11,
   "id": "a870bc7b",
   "metadata": {
    "execution": {
     "iopub.execute_input": "2021-11-18T12:54:49.089420Z",
     "iopub.status.busy": "2021-11-18T12:54:49.088692Z",
     "iopub.status.idle": "2021-11-18T12:54:49.094516Z",
     "shell.execute_reply": "2021-11-18T12:54:49.095066Z",
     "shell.execute_reply.started": "2021-11-18T12:50:52.836992Z"
    },
    "id": "HyNSL4SA1Uqq",
    "outputId": "3a38788f-7314-40c5-8568-a79b724a1ada",
    "papermill": {
     "duration": 0.031428,
     "end_time": "2021-11-18T12:54:49.095242",
     "exception": false,
     "start_time": "2021-11-18T12:54:49.063814",
     "status": "completed"
    },
    "tags": []
   },
   "outputs": [
    {
     "name": "stdout",
     "output_type": "stream",
     "text": [
      "(614, 17)\n",
      "(614, 1)\n",
      "(17,)\n"
     ]
    }
   ],
   "source": [
    "print(X.shape)\n",
    "print(y.shape)\n",
    "print(theta2.shape)"
   ]
  },
  {
   "cell_type": "code",
   "execution_count": 12,
   "id": "312bec65",
   "metadata": {
    "execution": {
     "iopub.execute_input": "2021-11-18T12:54:49.144131Z",
     "iopub.status.busy": "2021-11-18T12:54:49.143369Z",
     "iopub.status.idle": "2021-11-18T12:54:49.148650Z",
     "shell.execute_reply": "2021-11-18T12:54:49.149198Z",
     "shell.execute_reply.started": "2021-11-18T12:50:52.850196Z"
    },
    "id": "g-y9EgLK2-JM",
    "papermill": {
     "duration": 0.03115,
     "end_time": "2021-11-18T12:54:49.149383",
     "exception": false,
     "start_time": "2021-11-18T12:54:49.118233",
     "status": "completed"
    },
    "tags": []
   },
   "outputs": [],
   "source": [
    "from sklearn.preprocessing import StandardScaler\n",
    "sc = StandardScaler()\n",
    "X[:,1:] = sc.fit_transform(X[:,1:])"
   ]
  },
  {
   "cell_type": "code",
   "execution_count": 13,
   "id": "0736ee6c",
   "metadata": {
    "execution": {
     "iopub.execute_input": "2021-11-18T12:54:49.198617Z",
     "iopub.status.busy": "2021-11-18T12:54:49.197953Z",
     "iopub.status.idle": "2021-11-18T12:54:49.262051Z",
     "shell.execute_reply": "2021-11-18T12:54:49.262600Z",
     "shell.execute_reply.started": "2021-11-18T12:50:52.861244Z"
    },
    "id": "SqEJ9lks1qty",
    "papermill": {
     "duration": 0.09012,
     "end_time": "2021-11-18T12:54:49.262807",
     "exception": false,
     "start_time": "2021-11-18T12:54:49.172687",
     "status": "completed"
    },
    "tags": []
   },
   "outputs": [],
   "source": [
    "from sklearn.model_selection import train_test_split\n",
    "X_train,X_test,y_train,y_test=train_test_split(X,y,test_size=0.3,random_state=22)"
   ]
  },
  {
   "cell_type": "code",
   "execution_count": 14,
   "id": "d297a5e1",
   "metadata": {
    "execution": {
     "iopub.execute_input": "2021-11-18T12:54:49.310754Z",
     "iopub.status.busy": "2021-11-18T12:54:49.310139Z",
     "iopub.status.idle": "2021-11-18T12:54:49.647508Z",
     "shell.execute_reply": "2021-11-18T12:54:49.648053Z",
     "shell.execute_reply.started": "2021-11-18T12:50:52.890736Z"
    },
    "id": "v3zVm8iGmQSh",
    "outputId": "ba857f24-4506-4ada-d78d-9e11829cc374",
    "papermill": {
     "duration": 0.362906,
     "end_time": "2021-11-18T12:54:49.648233",
     "exception": false,
     "start_time": "2021-11-18T12:54:49.285327",
     "status": "completed"
    },
    "tags": []
   },
   "outputs": [
    {
     "data": {
      "text/plain": [
       "[<matplotlib.lines.Line2D at 0x7f7003c505d0>]"
      ]
     },
     "execution_count": 14,
     "metadata": {},
     "output_type": "execute_result"
    },
    {
     "data": {
      "image/png": "[encoded data removed]",
      "text/plain": [
       "<Figure size 576x360 with 1 Axes>"
      ]
     },
     "metadata": {
      "needs_background": "light"
     },
     "output_type": "display_data"
    }
   ],
   "source": [
    "def sigmoid(z):\n",
    "    return 1 / (1 + np.exp(-z))\n",
    "n = np.arange(-20,20,step=1)\n",
    "plt.figure(figsize=(8,5))\n",
    "plt.plot(n,sigmoid(n),color='red')"
   ]
  },
  {
   "cell_type": "code",
   "execution_count": 15,
   "id": "c8c0375f",
   "metadata": {
    "execution": {
     "iopub.execute_input": "2021-11-18T12:54:49.699421Z",
     "iopub.status.busy": "2021-11-18T12:54:49.698721Z",
     "iopub.status.idle": "2021-11-18T12:54:49.701739Z",
     "shell.execute_reply": "2021-11-18T12:54:49.702304Z",
     "shell.execute_reply.started": "2021-11-18T12:50:53.245941Z"
    },
    "id": "robJCIVj1x7w",
    "papermill": {
     "duration": 0.030712,
     "end_time": "2021-11-18T12:54:49.702483",
     "exception": false,
     "start_time": "2021-11-18T12:54:49.671771",
     "status": "completed"
    },
    "tags": []
   },
   "outputs": [],
   "source": [
    "#y_train=np.reshape(y_train,(y_train.shape[0],1))"
   ]
  },
  {
   "cell_type": "code",
   "execution_count": 16,
   "id": "ad4b6b5a",
   "metadata": {
    "execution": {
     "iopub.execute_input": "2021-11-18T12:54:49.752650Z",
     "iopub.status.busy": "2021-11-18T12:54:49.751981Z",
     "iopub.status.idle": "2021-11-18T12:54:49.758674Z",
     "shell.execute_reply": "2021-11-18T12:54:49.759247Z",
     "shell.execute_reply.started": "2021-11-18T12:50:53.252162Z"
    },
    "id": "UmYifA5O10hA",
    "papermill": {
     "duration": 0.033591,
     "end_time": "2021-11-18T12:54:49.759528",
     "exception": false,
     "start_time": "2021-11-18T12:54:49.725937",
     "status": "completed"
    },
    "tags": []
   },
   "outputs": [],
   "source": [
    "def costReg(theta2, X2, y2,lr):\n",
    "    theta2 = np.matrix(theta2)\n",
    "    X2 = np.matrix(X2)\n",
    "    y2 = np.matrix(y2)\n",
    "    first = np.multiply(-y2, np.log(sigmoid(X2 * theta2.T)))\n",
    "    second = np.multiply((1 - y2), np.log(1 - sigmoid(X2 * theta2.T)))\n",
    "    total_equation=np.sum(first - second) / (len(X2))\n",
    "    reg = (lr / 2 * len(X2)) * np.sum(np.power(theta2[:,1:theta2.shape[1]], 2))\n",
    "    final = total_equation + reg\n",
    "    return final "
   ]
  },
  {
   "cell_type": "code",
   "execution_count": 17,
   "id": "496c7801",
   "metadata": {
    "execution": {
     "iopub.execute_input": "2021-11-18T12:54:49.810162Z",
     "iopub.status.busy": "2021-11-18T12:54:49.809498Z",
     "iopub.status.idle": "2021-11-18T12:54:50.065270Z",
     "shell.execute_reply": "2021-11-18T12:54:50.065782Z",
     "shell.execute_reply.started": "2021-11-18T12:50:53.265638Z"
    },
    "id": "GLUqEH6U4B7X",
    "outputId": "6fea8398-d4a6-41cb-e00f-2bda0d28d240",
    "papermill": {
     "duration": 0.282899,
     "end_time": "2021-11-18T12:54:50.065980",
     "exception": false,
     "start_time": "2021-11-18T12:54:49.783081",
     "status": "completed"
    },
    "tags": []
   },
   "outputs": [
    {
     "name": "stderr",
     "output_type": "stream",
     "text": [
      "/opt/conda/lib/python3.7/site-packages/ipykernel_launcher.py:6: RuntimeWarning: divide by zero encountered in log\n",
      "  \n"
     ]
    },
    {
     "data": {
      "text/plain": [
       "<matplotlib.legend.Legend at 0x7f7003c2da10>"
      ]
     },
     "execution_count": 17,
     "metadata": {},
     "output_type": "execute_result"
    },
    {
     "data": {
      "image/png": "[encoded data removed]",
      "text/plain": [
       "<Figure size 936x504 with 1 Axes>"
      ]
     },
     "metadata": {
      "needs_background": "light"
     },
     "output_type": "display_data"
    }
   ],
   "source": [
    "# Graphically, the Cost function looks like so:\n",
    "nums = np.arange(0, 1, step=.01)\n",
    "\n",
    "fig, ax = plt.subplots(figsize=(13,7))\n",
    "\n",
    "ax.plot(nums, np.multiply(1, -np.log(nums)), c='r', label='If y = 1')\n",
    "ax.plot(nums, np.multiply(1, -np.log(1-nums)), c='b', label='If y = 0')\n",
    "ax.set_xlabel('h(x)')\n",
    "ax.set_ylabel('Cost(h(x), y)')\n",
    "ax.legend(loc='upper center')"
   ]
  },
  {
   "cell_type": "code",
   "execution_count": 18,
   "id": "7a3fe9d6",
   "metadata": {
    "execution": {
     "iopub.execute_input": "2021-11-18T12:54:50.127963Z",
     "iopub.status.busy": "2021-11-18T12:54:50.127217Z",
     "iopub.status.idle": "2021-11-18T12:54:50.130296Z",
     "shell.execute_reply": "2021-11-18T12:54:50.130876Z",
     "shell.execute_reply.started": "2021-11-18T12:50:53.526645Z"
    },
    "id": "NOcIzHJV14Mq",
    "outputId": "8d7d486c-a43c-4748-e13f-562e9bd185a5",
    "papermill": {
     "duration": 0.039586,
     "end_time": "2021-11-18T12:54:50.131076",
     "exception": false,
     "start_time": "2021-11-18T12:54:50.091490",
     "status": "completed"
    },
    "tags": []
   },
   "outputs": [
    {
     "name": "stdout",
     "output_type": "stream",
     "text": [
      "\n",
      "regularized cost =  0.6931471805599453\n",
      "\n"
     ]
    }
   ],
   "source": [
    "def gradientReg(theta, X, y, learningRate):\n",
    "    theta = np.matrix(theta)\n",
    "    X = np.matrix(X)\n",
    "    y = np.matrix(y)\n",
    "    \n",
    "    parameters = int(theta.ravel().shape[1])\n",
    "    grad = np.zeros(parameters)\n",
    "    \n",
    "    error = sigmoid(X * theta.T) - y\n",
    "    \n",
    "    for i in range(parameters):\n",
    "        term = np.multiply(error, X[:,i])\n",
    "        \n",
    "        if (i == 0):\n",
    "            grad[i] = np.sum(term) / len(X)\n",
    "\n",
    "        else:\n",
    "            grad[i] =(np.sum(term)/len(X))+((learningRate/len(X))*theta[:,i])\n",
    "\n",
    "    return grad\n",
    "\n",
    "learningRate = 0.000001\n",
    "\n",
    "\n",
    "rcost = costReg(theta2, X_train, y_train, learningRate)\n",
    "print()\n",
    "print('regularized cost = ' , rcost)\n",
    "print()\n",
    "\n"
   ]
  },
  {
   "cell_type": "code",
   "execution_count": 19,
   "id": "7d61704d",
   "metadata": {
    "_kg_hide-input": false,
    "execution": {
     "iopub.execute_input": "2021-11-18T12:54:50.189786Z",
     "iopub.status.busy": "2021-11-18T12:54:50.189076Z",
     "iopub.status.idle": "2021-11-18T12:54:50.287741Z",
     "shell.execute_reply": "2021-11-18T12:54:50.288309Z",
     "shell.execute_reply.started": "2021-11-18T12:50:53.541616Z"
    },
    "id": "2Bg5KxN817Sh",
    "outputId": "802541b0-8941-41b2-d1c6-dca7f50df49b",
    "papermill": {
     "duration": 0.131885,
     "end_time": "2021-11-18T12:54:50.288487",
     "exception": false,
     "start_time": "2021-11-18T12:54:50.156602",
     "status": "completed"
    },
    "tags": []
   },
   "outputs": [
    {
     "name": "stdout",
     "output_type": "stream",
     "text": [
      "result =  (array([ 0.76733375,  0.0253497 ,  0.32441261,  0.17532599, -0.07778197,\n",
      "        0.15315288, -0.19534221, -0.33807074, -0.08279455,  1.3095084 ,\n",
      "       -0.08792999, -0.09763366,  0.14903085,  0.0923399 , -0.12022104,\n",
      "       -0.11487792,  0.23304775]), 73, 4)\n",
      "\n",
      "\n",
      "Cost_Function After Optimize =  0.46510035381389647\n",
      "\n"
     ]
    },
    {
     "name": "stderr",
     "output_type": "stream",
     "text": [
      "  NIT   NF   F                       GTG\n",
      "    0    1  6.931471805599453E-01   1.12916982E-01\n",
      "    1    4  4.772844752869477E-01   3.45489092E-03\n",
      "    2    7  4.662998597760766E-01   1.69795225E-04\n",
      "tnc: fscale = 76.7427\n",
      "    3   11  4.651126932836220E-01   5.20476843E-06\n",
      "    4   15  4.651003878805167E-01   1.26278857E-07\n",
      "tnc: fscale = 2814.07\n",
      "    5   37  4.651003538138964E-01   7.13157093E-08\n",
      "    5   72  4.651003538138964E-01   7.13157093E-08\n",
      "tnc: Linear search failed\n"
     ]
    }
   ],
   "source": [
    "import scipy.optimize as opt\n",
    "result = opt.fmin_tnc(func=costReg, x0=theta2, fprime=gradientReg,args=(X_train, y_train, learningRate))\n",
    "print( 'result = ' , result )\n",
    "print()\n",
    "Cost_After_Optimize = costReg(result[0], X_train, y_train,learningRate)\n",
    "print()\n",
    "print('Cost_Function After Optimize = ' , Cost_After_Optimize)\n",
    "print()"
   ]
  },
  {
   "cell_type": "code",
   "execution_count": 20,
   "id": "679cc199",
   "metadata": {
    "execution": {
     "iopub.execute_input": "2021-11-18T12:54:50.345082Z",
     "iopub.status.busy": "2021-11-18T12:54:50.344077Z",
     "iopub.status.idle": "2021-11-18T12:54:50.350924Z",
     "shell.execute_reply": "2021-11-18T12:54:50.349748Z",
     "shell.execute_reply.started": "2021-11-18T12:50:53.666243Z"
    },
    "id": "BmNv94am1qBm",
    "outputId": "41660202-1f25-4a85-f4cd-003a24c70b8a",
    "papermill": {
     "duration": 0.036373,
     "end_time": "2021-11-18T12:54:50.351136",
     "exception": false,
     "start_time": "2021-11-18T12:54:50.314763",
     "status": "completed"
    },
    "tags": []
   },
   "outputs": [
    {
     "name": "stdout",
     "output_type": "stream",
     "text": [
      "Number of iterations : 73\n"
     ]
    }
   ],
   "source": [
    "print('Number of iterations :',result[1])"
   ]
  },
  {
   "cell_type": "code",
   "execution_count": 21,
   "id": "9ade3687",
   "metadata": {
    "execution": {
     "iopub.execute_input": "2021-11-18T12:54:50.415842Z",
     "iopub.status.busy": "2021-11-18T12:54:50.415153Z",
     "iopub.status.idle": "2021-11-18T12:54:50.417867Z",
     "shell.execute_reply": "2021-11-18T12:54:50.418586Z",
     "shell.execute_reply.started": "2021-11-18T12:51:16.670630Z"
    },
    "id": "QiOdZaYg19_x",
    "outputId": "50e8895c-a77c-4200-f660-6f4889307dd2",
    "papermill": {
     "duration": 0.040574,
     "end_time": "2021-11-18T12:54:50.418826",
     "exception": false,
     "start_time": "2021-11-18T12:54:50.378252",
     "status": "completed"
    },
    "tags": []
   },
   "outputs": [
    {
     "name": "stdout",
     "output_type": "stream",
     "text": [
      "Accuracy 84.32432432432432\n"
     ]
    }
   ],
   "source": [
    "def predict(theta, X):\n",
    "    probability = sigmoid(X * theta.T)\n",
    "    return [1 if x >= 0.5 else 0 for x in probability]\n",
    "\n",
    "theta_min = np.matrix(result[0])\n",
    "predictions = predict(theta_min, X_test)\n",
    "correct = [1 if ((a == 1 and b == 1) or (a == 0 and b == 0)) else 0 for (a, b) in zip(predictions, y_test)]\n",
    "print('Accuracy',np.sum(correct)/ len(correct) *100) "
   ]
  },
  {
   "cell_type": "code",
   "execution_count": 22,
   "id": "2f9dc001",
   "metadata": {
    "execution": {
     "iopub.execute_input": "2021-11-18T12:54:50.482552Z",
     "iopub.status.busy": "2021-11-18T12:54:50.480100Z",
     "iopub.status.idle": "2021-11-18T12:54:50.487211Z",
     "shell.execute_reply": "2021-11-18T12:54:50.486643Z",
     "shell.execute_reply.started": "2021-11-18T12:52:26.843668Z"
    },
    "papermill": {
     "duration": 0.039585,
     "end_time": "2021-11-18T12:54:50.487379",
     "exception": false,
     "start_time": "2021-11-18T12:54:50.447794",
     "status": "completed"
    },
    "tags": []
   },
   "outputs": [
    {
     "name": "stdout",
     "output_type": "stream",
     "text": [
      "[[ 26  26]\n",
      " [  3 130]]\n"
     ]
    }
   ],
   "source": [
    "from sklearn.metrics import confusion_matrix\n",
    "cm  = confusion_matrix(y_test,predictions)\n",
    "print(cm)"
   ]
  },
  {
   "cell_type": "code",
   "execution_count": 23,
   "id": "95fec5e7",
   "metadata": {
    "execution": {
     "iopub.execute_input": "2021-11-18T12:54:50.554260Z",
     "iopub.status.busy": "2021-11-18T12:54:50.545573Z",
     "iopub.status.idle": "2021-11-18T12:54:50.778007Z",
     "shell.execute_reply": "2021-11-18T12:54:50.778542Z",
     "shell.execute_reply.started": "2021-11-18T12:52:44.694616Z"
    },
    "papermill": {
     "duration": 0.263759,
     "end_time": "2021-11-18T12:54:50.778754",
     "exception": false,
     "start_time": "2021-11-18T12:54:50.514995",
     "status": "completed"
    },
    "tags": []
   },
   "outputs": [
    {
     "data": {
      "image/png": "[encoded data removed]",
      "text/plain": [
       "<Figure size 576x360 with 2 Axes>"
      ]
     },
     "metadata": {
      "needs_background": "light"
     },
     "output_type": "display_data"
    }
   ],
   "source": [
    "plt.figure(figsize=(8,5))\n",
    "sns.heatmap(cm,annot=True)\n",
    "plt.show()"
   ]
  },
  {
   "cell_type": "code",
   "execution_count": 24,
   "id": "611596a0",
   "metadata": {
    "execution": {
     "iopub.execute_input": "2021-11-18T12:54:50.838314Z",
     "iopub.status.busy": "2021-11-18T12:54:50.837627Z",
     "iopub.status.idle": "2021-11-18T12:54:50.846646Z",
     "shell.execute_reply": "2021-11-18T12:54:50.847242Z",
     "shell.execute_reply.started": "2021-11-18T12:53:05.259472Z"
    },
    "papermill": {
     "duration": 0.040248,
     "end_time": "2021-11-18T12:54:50.847432",
     "exception": false,
     "start_time": "2021-11-18T12:54:50.807184",
     "status": "completed"
    },
    "tags": []
   },
   "outputs": [
    {
     "name": "stdout",
     "output_type": "stream",
     "text": [
      "              precision    recall  f1-score   support\n",
      "\n",
      "           0       0.90      0.50      0.64        52\n",
      "           1       0.83      0.98      0.90       133\n",
      "\n",
      "    accuracy                           0.84       185\n",
      "   macro avg       0.86      0.74      0.77       185\n",
      "weighted avg       0.85      0.84      0.83       185\n",
      "\n"
     ]
    }
   ],
   "source": [
    "from sklearn.metrics import classification_report\n",
    "cr = classification_report(y_test,predictions)\n",
    "print(cr)"
   ]
  },
  {
   "cell_type": "code",
   "execution_count": 25,
   "id": "70d4593c",
   "metadata": {
    "execution": {
     "iopub.execute_input": "2021-11-18T12:54:50.907656Z",
     "iopub.status.busy": "2021-11-18T12:54:50.906885Z",
     "iopub.status.idle": "2021-11-18T12:54:51.148535Z",
     "shell.execute_reply": "2021-11-18T12:54:51.147885Z",
     "shell.execute_reply.started": "2021-11-18T12:53:31.302270Z"
    },
    "papermill": {
     "duration": 0.2728,
     "end_time": "2021-11-18T12:54:51.148676",
     "exception": false,
     "start_time": "2021-11-18T12:54:50.875876",
     "status": "completed"
    },
    "tags": []
   },
   "outputs": [
    {
     "name": "stdout",
     "output_type": "stream",
     "text": [
      "tpr_LR:  [0.  0.5 1. ]\n",
      "fpr_LR:  [0.         0.97744361 1.        ]\n",
      "threshold_LR: [2 1 0]\n",
      "Area Under The Curve : 0.7387218045112782\n"
     ]
    },
    {
     "data": {
      "image/png": "[encoded data removed]",
      "text/plain": [
       "<Figure size 720x576 with 1 Axes>"
      ]
     },
     "metadata": {
      "needs_background": "light"
     },
     "output_type": "display_data"
    }
   ],
   "source": [
    "from sklearn.metrics import roc_curve,auc\n",
    "tpr_LR,fpr_LR,threshold_LR = roc_curve(y_test,predictions)\n",
    "print('tpr_LR: ',tpr_LR)\n",
    "print('fpr_LR: ',fpr_LR)\n",
    "print('threshold_LR:',threshold_LR)\n",
    "\n",
    "auc_LR = auc(tpr_LR,fpr_LR)\n",
    "print('Area Under The Curve :',auc_LR)\n",
    "\n",
    "#Draw ROC Curve && AUC [Area Under The Curve]\n",
    "plt.figure(figsize=(10,8))\n",
    "plt.plot(tpr_LR,fpr_LR,marker='o',color='blue',label='Logistic Regression (auc = %0.3f)'% auc_LR)\n",
    "plt.ylabel('True Positive Rate -->')\n",
    "plt.xlabel('False Positive Rate -->')\n",
    "\n",
    "plt.legend()\n",
    "plt.show()"
   ]
  }
 ],
 "metadata": {
  "kernelspec": {
   "display_name": "Python 3",
   "language": "python",
   "name": "python3"
  },
  "language_info": {
   "codemirror_mode": {
    "name": "ipython",
    "version": 3
   },
   "file_extension": ".py",
   "mimetype": "text/x-python",
   "name": "python",
   "nbconvert_exporter": "python",
   "pygments_lexer": "ipython3",
   "version": "3.7.10"
  },
  "papermill": {
   "default_parameters": {},
   "duration": 14.858534,
   "end_time": "2021-11-18T12:54:51.888619",
   "environment_variables": {},
   "exception": null,
   "input_path": "__notebook__.ipynb",
   "output_path": "__notebook__.ipynb",
   "parameters": {},
   "start_time": "2021-11-18T12:54:37.030085",
   "version": "2.3.3"
  }
 },
 "nbformat": 4,
 "nbformat_minor": 5
}
